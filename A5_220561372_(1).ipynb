{
  "nbformat": 4,
  "nbformat_minor": 0,
  "metadata": {
    "accelerator": "GPU",
    "colab": {
      "name": "A5_220561372 (1).ipynb",
      "provenance": [],
      "collapsed_sections": [],
      "include_colab_link": true
    },
    "kernelspec": {
      "display_name": "Python 3",
      "language": "python",
      "name": "python3"
    },
    "language_info": {
      "codemirror_mode": {
        "name": "ipython",
        "version": 3
      },
      "file_extension": ".py",
      "mimetype": "text/x-python",
      "name": "python",
      "nbconvert_exporter": "python",
      "pygments_lexer": "ipython3",
      "version": "3.8.2"
    }
  },
  "cells": [
    {
      "cell_type": "markdown",
      "metadata": {
        "id": "view-in-github",
        "colab_type": "text"
      },
      "source": [
        "<a href=\"https://colab.research.google.com/github/saeed2016/Github-Test/blob/master/A5_220561372_(1).ipynb\" target=\"_parent\"><img src=\"https://colab.research.google.com/assets/colab-badge.svg\" alt=\"Open In Colab\"/></a>"
      ]
    },
    {
      "cell_type": "markdown",
      "metadata": {
        "id": "W0Swe_u6nGZq"
      },
      
    },
    {
      "cell_type": "markdown",
      "metadata": {
        "id": "_sL9JG_-nL2c"
      },
      "source": [
        "## Assessment Task 5 (35 marks)\n",
        "\n",
        "In this assignment, you will use a lot of concepts learnt in this course to come up with a good solution for a given chronic kidney disease prediction problem.\n",
        "\n",
        "## Submission Instruction\n",
        "1.  Student should insert Python code or text responses into the cell followed by the question.\n",
        "\n",
        "2.  For answers regarding discussion or explanation, **maximum ten sentences are suggested**.\n",
        "\n",
        "3.  Rename this notebook file appending your student ID. For example, for student ID 1234, the submitted file name should be A5_1234.ipynb.\n",
        "\n",
        "4.  Insert your student ID and name in the following cell."
      ]
    },
    {
      "cell_type": "code",
      "metadata": {
        "id": "Shuy3nUxnPaL"
      },
      "source": [
        "# Student ID: 220561372\n",
        "\n",
        "# Student name: Saeed Azad"
      ],
      "execution_count": null,
      "outputs": []
    },
    {
      "cell_type": "markdown",
      "metadata": {
        "id": "z7L7fHziCZ4C"
      },
      "source": [
        "##The dataset\n",
        "\n",
        "**Dataset file name:** chronic_kidney_disease.csv\n",
        "\n",
        "**Attribute Information:** \n",
        "\n",
        "There are 24 features + class = 25 attributes\n",
        "1.  Age(numerical): age in years\n",
        "2.Blood Pressure (numerical): bp in mm/Hg\n",
        "3.Specific Gravity (categorical): sg - (1.005,1.010,1.015,1.020,1.025)\n",
        "4.Albumin (categorical): al - (0,1,2,3,4,5)\n",
        "5.Sugar (categorical): su - (0,1,2,3,4,5)\n",
        "6.Red Blood Cells (categorial): rbc - (0, 1)\n",
        "7.Pus Cell (categorical): pc - (0, 1)\n",
        "8.Pus Cell clumps (categorical): pcc - (0, 1)\n",
        "9.Bacteria (categorical): ba - (0, 1)\n",
        "10.Blood Glucose Random (numerical): bgr in mgs/dl\n",
        "11.Blood Urea (numerical): bu in mgs/dl\n",
        "12.Serum Creatinine (numerical): sc in mgs/dl\n",
        "13.Sodium (numerical): sod in mEq/L\n",
        "14.Potassium (numerical): pot in mEq/L\n",
        "15.Hemoglobin (numerical): hemo in gms\n",
        "16.Packed Cell Volume (numerical)\n",
        "17.White Blood Cell Count (numerical): wc in cells/cumm\n",
        "18.Red Blood Cell Count (numerical): rc in millions/cmm\n",
        "19.Hypertension (categorical): htn - (0, 1)\n",
        "20.Diabetes Mellitus (categorical): dm - (0, 1)\n",
        "21.Coronary Artery Disease (categorical): cad - (0, 1)\n",
        "22.Appetite (categorical): appet - (0, 1)\n",
        "23.Pedal Edema (categorical): pe - (0, 1)\n",
        "24.Anemia (categorical): ane - (0, 1)\n",
        "25.Class (categorical): class - (ckd, notckd)\n"
      ]
    },
    {
      "cell_type": "code",
      "metadata": {
        "id": "00dE4oz4xli8"
      },
      "source": [
        "import pandas as pd\n",
        "import numpy as np\n",
        "from sklearn.model_selection import train_test_split\n",
        "from sklearn.svm import SVC\n",
        "from sklearn.model_selection import validation_curve, cross_val_score, GridSearchCV\n",
        "from sklearn.neighbors import KNeighborsClassifier\n",
        "from sklearn.ensemble import RandomForestClassifier\n",
        "from sklearn.tree import DecisionTreeClassifier\n",
        "from sklearn.metrics import confusion_matrix,f1_score,accuracy_score\n",
        "from matplotlib import pyplot as plt\n",
        "from sklearn.model_selection import RandomizedSearchCV"
      ],
      "execution_count": null,
      "outputs": []
    },
    {
      "cell_type": "code",
      "metadata": {
        "id": "Qe3iaj7NxHyw",
        "outputId": "b60fdd1a-63c3-48b4-c584-4c434c96c59d",
        "colab": {
          "resources": {
            "http://localhost:8080/nbextensions/google.colab/files.js": {
              "data": "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",
              "headers": [
                [
                  "content-type",
                  "application/javascript"
                ]
              ],
              "ok": true,
              "status": 200,
              "status_text": ""
            }
          },
          "base_uri": "https://localhost:8080/",
          "height": 109
        }
      },
      "source": [
        "## import the dataset \n",
        "from google.colab import files\n",
        "files.upload()"
      ],
      "execution_count": null,
      "outputs": [
        {
          "output_type": "display_data",
          "data": {
            "text/html": [
              "\n",
              "     <input type=\"file\" id=\"files-735a8264-f9d9-4a9a-a097-7a9397401392\" name=\"files[]\" multiple disabled\n",
              "        style=\"border:none\" />\n",
              "     <output id=\"result-735a8264-f9d9-4a9a-a097-7a9397401392\">\n",
              "      Upload widget is only available when the cell has been executed in the\n",
              "      current browser session. Please rerun this cell to enable.\n",
              "      </output>\n",
              "      <script src=\"/nbextensions/google.colab/files.js\"></script> "
            ],
            "text/plain": [
              "<IPython.core.display.HTML object>"
            ]
          },
          "metadata": {
            "tags": []
          }
        },
        {
          "output_type": "stream",
          "text": [
            "Saving chronic_kidney_disease.csv to chronic_kidney_disease.csv\n"
          ],
          "name": "stdout"
        },
        {
          "output_type": "execute_result",
          "data": {
            "text/plain": [
              "{'chronic_kidney_disease.csv': b'age,bp,sg,al,su,rbc,pc,pcc,ba,bgr,bu,sc,sod,pot,hemo,pcv,wbcc,rbcc,htn,dm,cad,appet,pe,ane,class\\r\\n48,80,1.02,1,0,0,0,1,1,121,36,1.2,?,?,15.4,44,7800,5.2,0,0,1,1,1,1,ckd\\r\\n7,50,1.02,4,0,0,0,1,1,?,18,0.8,?,?,11.3,38,6000,0,1,1,1,1,1,1,ckd\\r\\n62,80,1.01,2,3,0,0,1,1,423,53,1.8,?,?,9.6,31,7500,0,1,0,1,0,1,0,ckd\\r\\n48,70,1.005,4,0,0,1,0,1,117,56,3.8,111,2.5,11.2,32,6700,3.9,0,1,1,0,0,0,ckd\\r\\n51,80,1.01,2,0,0,0,1,1,106,26,1.4,?,?,11.6,35,7300,4.6,1,1,1,1,1,1,ckd\\r\\n60,90,1.015,3,0,0,0,1,1,74,25,1.1,142,3.2,12.2,39,7800,4.4,0,0,1,1,0,1,ckd\\r\\n68,70,1.01,0,0,0,0,1,1,100,54,24,104,4,12.4,36,0,0,1,1,1,1,1,1,ckd\\r\\n24,?,1.015,2,4,0,1,1,1,410,31,1.1,?,?,12.4,44,6900,5,1,0,1,1,0,1,ckd\\r\\n52,100,1.015,3,0,0,1,0,1,138,60,1.9,?,?,10.8,33,9600,4,0,0,1,1,1,0,ckd\\r\\n53,90,1.02,2,0,1,1,0,1,70,107,7.2,114,3.7,9.5,29,12100,3.7,0,0,1,0,1,0,ckd\\r\\n50,60,1.01,2,4,0,1,0,1,490,55,4,?,?,9.4,28,0,0,0,0,1,1,1,0,ckd\\r\\n63,70,1.01,3,0,1,1,0,1,380,60,2.7,131,4.2,10.8,32,4500,3.8,0,0,1,0,0,1,ckd\\r\\n68,70,1.015,3,1,0,0,0,1,208,72,2.1,138,5.8,9.7,28,12200,3.4,0,0,0,0,0,1,ckd\\r\\n68,70,?,?,?,0,0,1,1,98,86,4.6,135,3.4,9.8,0,0,0,0,0,0,0,0,1,ckd\\r\\n68,80,1.01,3,2,0,1,0,0,157,90,4.1,130,6.4,5.6,16,11000,2.6,0,0,0,0,0,1,ckd\\r\\n40,80,1.015,3,0,0,0,1,1,76,162,9.6,141,4.9,7.6,24,3800,2.8,0,1,1,1,1,0,ckd\\r\\n47,70,1.015,2,0,0,0,1,1,99,46,2.2,138,4.1,12.6,0,0,0,1,1,1,1,1,1,ckd\\r\\n47,80,?,?,?,0,0,1,1,114,87,5.2,139,3.7,12.1,0,0,0,0,1,1,0,1,1,ckd\\r\\n60,100,1.025,0,3,0,0,1,1,263,27,1.3,135,4.3,12.7,37,11400,4.3,0,0,0,1,1,1,ckd\\r\\n62,60,1.015,1,0,0,1,0,1,100,31,1.6,?,?,10.3,30,5300,3.7,0,1,0,1,1,1,ckd\\r\\n61,80,1.015,2,0,1,1,1,1,173,148,3.9,135,5.2,7.7,24,9200,3.2,0,0,0,0,0,0,ckd\\r\\n60,90,?,?,?,0,0,1,1,?,180,76,4.5,?,10.9,32,6200,3.6,0,0,0,1,1,1,ckd\\r\\n48,80,1.025,4,0,0,1,1,1,95,163,7.7,136,3.8,9.8,32,6900,3.4,0,1,1,1,1,0,ckd\\r\\n21,70,1.01,0,0,0,0,1,1,?,?,?,?,?,?,0,0,0,1,1,1,0,1,0,ckd\\r\\n42,100,1.015,4,0,0,1,1,0,?,50,1.4,129,4,11.1,39,8300,4.6,0,1,1,0,1,1,ckd\\r\\n61,60,1.025,0,0,0,0,1,1,108,75,1.9,141,5.2,9.9,29,8400,3.7,0,0,1,1,1,0,ckd\\r\\n75,80,1.015,0,0,0,0,1,1,156,45,2.4,140,3.4,11.6,35,10300,4,0,0,1,0,1,1,ckd\\r\\n69,70,1.01,3,4,0,1,1,1,264,87,2.7,130,4,12.5,37,9600,4.1,0,0,0,1,0,1,ckd\\r\\n75,70,?,1,3,0,0,1,1,123,31,1.4,?,?,?,0,0,0,1,0,1,1,1,1,ckd\\r\\n68,70,1.005,1,0,1,1,0,1,?,28,1.4,?,?,12.9,38,0,0,1,1,0,1,1,1,ckd\\r\\n?,70,?,?,?,0,0,1,1,93,155,7.3,132,4.9,?,0,0,0,0,0,1,1,1,1,ckd\\r\\n73,90,1.015,3,0,0,1,0,1,107,33,1.5,141,4.6,10.1,30,7800,4,1,1,1,0,1,1,ckd\\r\\n61,90,1.01,1,1,0,0,1,1,159,39,1.5,133,4.9,11.3,34,9600,4,0,0,1,0,1,1,ckd\\r\\n60,100,1.02,2,0,1,1,1,1,140,55,2.5,?,?,10.1,29,0,0,0,1,1,0,1,1,ckd\\r\\n70,70,1.01,1,0,0,0,0,0,171,153,5.2,?,?,?,0,0,0,1,0,1,0,1,1,ckd\\r\\n65,90,1.02,2,1,1,0,1,1,270,39,2,?,?,12,36,9800,4.9,0,0,1,0,1,0,ckd\\r\\n76,70,1.015,1,0,0,0,1,1,92,29,1.8,133,3.9,10.3,32,0,0,0,1,1,1,1,1,ckd\\r\\n72,80,?,?,?,0,0,1,1,137,65,3.4,141,4.7,9.7,28,6900,2.5,0,0,1,0,1,0,ckd\\r\\n69,80,1.02,3,0,1,0,1,1,?,103,4.1,132,5.9,12.5,0,0,0,0,1,1,1,1,1,ckd\\r\\n82,80,1.01,2,2,0,0,1,1,140,70,3.4,136,4.2,13,40,9800,4.2,0,0,1,1,1,1,ckd\\r\\n46,90,1.01,2,0,0,1,1,1,99,80,2.1,?,?,11.1,32,9100,4.1,0,1,0,1,1,1,ckd\\r\\n45,70,1.01,0,0,0,0,1,1,?,20,0.7,?,?,?,0,0,0,1,1,1,1,0,1,ckd\\r\\n47,100,1.01,0,0,0,0,1,1,204,29,1,139,4.2,9.7,33,9200,4.5,0,1,1,1,1,0,ckd\\r\\n35,80,1.01,1,0,1,0,1,1,79,202,10.8,134,3.4,7.9,24,7900,3.1,1,0,1,1,1,1,ckd\\r\\n54,80,1.01,3,0,1,1,1,1,207,77,6.3,134,4.8,9.7,28,0,0,0,0,1,0,0,1,ckd\\r\\n54,80,1.02,3,0,0,1,1,1,208,89,5.9,130,4.9,9.3,0,0,0,0,0,1,0,0,1,ckd\\r\\n48,70,1.015,0,0,0,0,1,1,124,24,1.2,142,4.2,12.4,37,6400,4.7,1,0,1,1,1,1,ckd\\r\\n11,80,1.01,3,0,0,0,1,1,?,17,0.8,?,?,15,45,8600,0,1,1,1,1,1,1,ckd\\r\\n73,70,1.005,0,0,0,0,1,1,70,32,0.9,125,4,10,29,18900,3.5,0,0,1,1,0,1,ckd\\r\\n60,70,1.01,2,0,0,1,0,1,144,72,3,?,?,9.7,29,21600,3.5,0,0,1,0,1,0,ckd\\r\\n53,60,?,?,?,0,0,1,1,91,114,3.25,142,4.3,8.6,28,11000,3.8,0,0,1,0,0,0,ckd\\r\\n54,100,1.015,3,0,0,0,0,1,162,66,1.6,136,4.4,10.3,33,0,0,0,0,1,0,0,1,ckd\\r\\n53,90,1.015,0,0,0,0,1,1,?,38,2.2,?,?,10.9,34,4300,3.7,1,1,1,0,1,0,ckd\\r\\n62,80,1.015,0,5,0,0,1,1,246,24,1,?,?,13.6,40,8500,4.7,0,0,1,1,1,1,ckd\\r\\n63,80,1.01,2,2,0,0,1,1,?,?,3.4,136,4.2,13,40,9800,4.2,0,1,0,1,1,1,ckd\\r\\n35,80,1.005,3,0,1,0,1,1,?,?,?,?,?,9.5,28,0,0,1,1,1,1,0,1,ckd\\r\\n76,70,1.015,3,4,0,1,0,1,?,164,9.7,131,4.4,10.2,30,11300,3.4,0,0,0,0,0,1,ckd\\r\\n76,90,?,?,?,0,0,1,1,93,155,7.3,132,4.9,?,0,0,0,0,0,0,0,1,1,ckd\\r\\n73,80,1.02,2,0,1,1,1,1,253,142,4.6,138,5.8,10.5,33,7200,4.3,0,0,0,1,1,1,ckd\\r\\n59,100,?,?,?,0,0,1,1,?,96,6.4,?,?,6.6,0,0,0,0,0,1,1,1,0,ckd\\r\\n67,90,1.02,1,0,0,1,0,1,141,66,3.2,138,6.6,?,0,0,0,0,1,1,1,1,1,ckd\\r\\n67,80,1.01,1,3,0,1,1,1,182,391,32,163,39,?,0,0,0,1,1,1,1,0,1,ckd\\r\\n15,60,1.02,3,0,0,0,1,1,86,15,0.6,138,4,11,33,7700,3.8,0,0,1,1,1,1,ckd\\r\\n46,70,1.015,1,0,1,0,1,1,150,111,6.1,131,3.7,7.5,27,0,0,1,1,1,1,1,0,ckd\\r\\n55,80,1.01,0,0,0,0,1,1,146,?,?,?,?,9.8,0,0,0,1,1,0,1,1,1,ckd\\r\\n44,90,1.01,1,0,0,0,1,1,?,20,1.1,?,?,15,48,0,0,1,0,1,1,1,1,ckd\\r\\n67,70,1.02,2,0,1,0,1,1,150,55,1.6,131,4.8,?,0,0,0,0,0,1,1,0,1,ckd\\r\\n45,80,1.02,3,0,0,1,1,1,425,?,?,?,?,?,0,0,0,1,1,1,0,1,1,ckd\\r\\n65,70,1.01,2,0,0,0,0,1,112,73,3.3,?,?,10.9,37,0,0,1,1,1,1,1,1,ckd\\r\\n26,70,1.015,0,4,0,0,1,1,250,20,1.1,?,?,15.6,52,6900,6,1,0,1,1,1,1,ckd\\r\\n61,80,1.015,0,4,0,0,1,1,360,19,0.7,137,4.4,15.2,44,8300,5.2,0,0,1,1,1,1,ckd\\r\\n46,60,1.01,1,0,0,0,1,1,163,92,3.3,141,4,9.8,28,14600,3.2,0,0,1,1,1,1,ckd\\r\\n64,90,1.01,3,3,0,1,0,1,?,35,1.3,?,?,10.3,0,0,0,0,0,1,1,0,1,ckd\\r\\n?,100,1.015,2,0,1,1,1,1,129,107,6.7,132,4.4,4.8,14,6300,0,0,1,1,1,0,0,ckd\\r\\n56,90,1.015,2,0,1,1,1,1,129,107,6.7,131,4.8,9.1,29,6400,3.4,0,1,1,1,1,1,ckd\\r\\n5,?,1.015,1,0,0,0,1,1,?,16,0.7,138,3.2,8.1,0,0,0,1,1,1,1,1,0,ckd\\r\\n48,80,1.005,4,0,1,1,1,0,133,139,8.5,132,5.5,10.3,36,6200,4,1,0,1,1,0,1,ckd\\r\\n67,70,1.01,1,0,0,0,1,1,102,48,3.2,137,5,11.9,34,7100,3.7,0,0,1,1,0,1,ckd\\r\\n70,80,?,?,?,0,0,1,1,158,85,3.2,141,3.5,10.1,30,0,0,0,1,1,1,0,1,ckd\\r\\n56,80,1.01,1,0,0,0,1,1,165,55,1.8,?,?,13.5,40,11800,5,0,0,1,0,0,1,ckd\\r\\n74,80,1.01,0,0,0,0,1,1,132,98,2.8,133,5,10.8,31,9400,3.8,0,0,1,1,1,1,ckd\\r\\n45,90,?,?,?,0,0,1,1,360,45,2.4,128,4.4,8.3,29,5500,3.7,0,0,1,1,1,1,ckd\\r\\n38,70,?,?,?,0,0,1,1,104,77,1.9,140,3.9,?,0,0,0,0,1,1,0,0,1,ckd\\r\\n48,70,1.015,1,0,0,0,1,1,127,19,1,134,3.6,?,0,0,0,0,0,1,1,1,1,ckd\\r\\n59,70,1.01,3,0,0,1,1,1,76,186,15,135,7.6,7.1,22,3800,2.1,0,1,1,0,0,0,ckd\\r\\n70,70,1.015,2,?,0,0,1,1,?,46,1.5,?,?,9.9,0,0,0,1,0,1,0,0,1,ckd\\r\\n56,80,?,?,?,0,0,1,1,415,37,1.9,?,?,?,0,0,0,1,0,1,1,1,1,ckd\\r\\n70,100,1.005,1,0,0,1,0,1,169,47,2.9,?,?,11.1,32,5800,5,0,0,1,0,1,1,ckd\\r\\n58,110,1.01,4,0,0,0,1,1,251,52,2.2,?,?,?,0,13200,4.7,0,0,1,1,1,1,ckd\\r\\n50,70,1.02,0,0,0,0,1,1,109,32,1.4,139,4.7,?,0,0,0,1,1,1,0,1,1,ckd\\r\\n63,100,1.01,2,2,0,0,1,0,280,35,3.2,143,3.5,13,40,9800,4.2,0,1,0,1,1,1,ckd\\r\\n56,70,1.015,4,1,1,0,1,1,210,26,1.7,136,3.8,16.1,52,12500,5.6,1,1,1,1,1,1,ckd\\r\\n71,70,1.01,3,0,0,1,0,0,219,82,3.6,133,4.4,10.4,33,5600,3.6,0,0,0,1,1,1,ckd\\r\\n73,100,1.01,3,2,1,1,0,1,295,90,5.6,140,2.9,9.2,30,7000,3.2,0,0,0,0,1,1,ckd\\r\\n65,70,1.01,0,0,0,0,1,1,93,66,1.6,137,4.5,11.6,36,11900,3.9,1,0,1,1,1,1,ckd\\r\\n62,90,1.015,1,0,0,0,1,1,94,25,1.1,131,3.7,?,0,0,0,0,1,1,1,0,0,ckd\\r\\n60,80,1.01,1,1,0,0,1,1,172,32,2.7,?,?,11.2,36,0,0,1,0,0,0,1,1,ckd\\r\\n65,60,1.015,1,0,0,0,1,1,91,51,2.2,132,3.8,10,32,9100,4,0,0,1,0,0,1,ckd\\r\\n50,140,?,?,?,0,0,1,1,101,106,6.5,135,4.3,6.2,18,5800,2.3,0,0,1,0,1,0,ckd\\r\\n56,180,?,0,4,0,1,1,1,298,24,1.2,139,3.9,11.2,32,10400,4.2,0,0,1,0,0,1,ckd\\r\\n34,70,1.015,4,0,1,1,1,1,153,22,0.9,133,3.8,?,0,0,0,1,1,1,1,0,1,ckd\\r\\n71,90,1.015,2,0,0,1,0,0,88,80,4.4,139,5.7,11.3,33,10700,3.9,1,1,1,1,1,1,ckd\\r\\n17,60,1.01,0,0,0,0,1,1,92,32,2.1,141,4.2,13.9,52,7000,0,1,1,1,1,1,1,ckd\\r\\n76,70,1.015,2,0,0,1,0,1,226,217,10.2,?,?,10.2,36,12700,4.2,0,1,1,0,0,0,ckd\\r\\n55,90,?,?,?,0,0,1,1,143,88,2,?,?,?,0,0,0,0,0,1,0,0,1,ckd\\r\\n65,80,1.015,0,0,0,0,1,1,115,32,11.5,139,4,14.1,42,6800,5.2,1,1,1,1,1,1,ckd\\r\\n50,90,?,?,?,0,0,1,1,89,118,6.1,127,4.4,6,17,6500,0,0,0,1,1,0,0,ckd\\r\\n55,100,1.015,1,4,0,0,1,1,297,53,2.8,139,4.5,11.2,34,13600,4.4,0,0,1,1,1,1,ckd\\r\\n45,80,1.015,0,0,0,1,1,1,107,15,1,141,4.2,11.8,37,10200,4.2,1,1,1,1,1,1,ckd\\r\\n54,70,?,?,?,0,0,1,1,233,50.1,1.9,?,?,11.7,0,0,0,1,0,1,1,1,1,ckd\\r\\n63,90,1.015,0,0,0,0,1,1,123,19,2,142,3.8,11.7,34,11400,4.7,1,1,1,1,1,1,ckd\\r\\n65,80,1.01,3,3,0,0,1,1,294,71,4.4,128,5.4,10,32,9000,3.9,0,0,0,1,1,1,ckd\\r\\n?,60,1.015,3,0,1,1,1,1,?,34,1.2,?,?,10.8,33,0,0,1,1,1,1,1,1,ckd\\r\\n61,90,1.015,0,2,0,0,1,1,?,?,?,?,?,?,0,9800,0,1,0,1,0,1,0,ckd\\r\\n12,60,1.015,3,0,1,1,0,1,?,51,1.8,?,?,12.1,0,10300,0,1,1,1,1,1,1,ckd\\r\\n47,80,1.01,0,0,0,1,1,1,?,28,0.9,?,?,12.4,44,5600,4.3,1,1,1,1,1,0,ckd\\r\\n?,70,1.015,4,0,1,0,1,1,104,16,0.5,?,?,?,0,0,0,1,1,1,1,0,1,ckd\\r\\n?,70,1.02,0,0,0,0,1,1,219,36,1.3,139,3.7,12.5,37,9800,4.4,1,1,1,1,1,1,ckd\\r\\n55,70,1.01,3,0,0,0,1,1,99,25,1.2,?,?,11.4,0,0,0,1,1,1,0,0,1,ckd\\r\\n60,70,1.01,0,0,0,0,1,1,140,27,1.2,?,?,?,0,0,0,1,1,1,1,1,1,ckd\\r\\n72,90,1.025,1,3,0,0,1,1,323,40,2.2,137,5.3,12.6,0,0,0,1,0,0,0,1,1,ckd\\r\\n54,60,?,3,?,0,0,1,1,125,21,1.3,137,3.4,15,46,0,0,0,0,1,1,0,1,ckd\\r\\n34,70,?,?,?,0,0,1,1,?,219,12.2,130,3.8,6,0,0,0,0,1,1,1,1,0,ckd\\r\\n43,80,1.015,2,3,0,1,0,0,?,30,1.1,?,?,14,42,14900,0,1,1,1,1,1,1,ckd\\r\\n65,100,1.015,0,0,0,0,1,1,90,98,2.5,?,?,9.1,28,5500,3.6,0,1,1,1,1,1,ckd\\r\\n72,90,?,?,?,0,0,1,1,308,36,2.5,131,4.3,?,0,0,0,0,0,1,0,1,1,ckd\\r\\n70,90,1.015,0,0,0,0,1,1,144,125,4,136,4.6,12,37,8200,4.5,0,0,1,0,0,1,ckd\\r\\n71,60,1.015,4,0,0,0,1,1,118,125,5.3,136,4.9,11.4,35,15200,4.3,0,0,1,0,0,1,ckd\\r\\n52,90,1.015,4,3,0,1,1,1,224,166,5.6,133,47,8.1,23,5000,2.9,0,0,1,1,1,0,ckd\\r\\n75,70,1.025,1,0,0,0,1,1,158,49,1.4,135,4.7,11.1,0,0,0,0,1,1,0,0,1,ckd\\r\\n50,90,1.01,2,0,0,1,0,0,128,208,9.2,134,4.8,8.2,22,16300,2.7,1,1,1,0,0,0,ckd\\r\\n5,50,1.01,0,0,0,0,1,1,?,25,0.6,?,?,11.8,36,12400,0,1,1,1,1,1,1,ckd\\r\\n50,?,?,?,?,0,0,1,1,219,176,13.8,136,4.5,8.6,24,13200,2.7,0,1,1,1,0,0,ckd\\r\\n70,100,1.015,4,0,0,0,1,1,118,125,5.3,136,4.9,12,37,8400,8,0,1,1,1,1,1,ckd\\r\\n47,100,1.01,?,?,0,0,1,1,122,?,16.9,138,5.2,10.8,33,10200,3.8,1,0,1,1,1,1,ckd\\r\\n48,80,1.015,0,2,0,0,1,1,214,24,1.3,140,4,13.2,39,0,0,1,0,1,0,1,1,ckd\\r\\n46,90,1.02,?,?,0,0,1,1,213,68,2.8,146,6.3,9.3,0,0,0,0,0,1,1,1,1,ckd\\r\\n45,60,1.01,2,0,0,1,0,1,268,86,4,134,5.1,10,29,9200,0,0,0,1,1,1,1,ckd\\r\\n73,?,1.01,1,0,0,0,1,1,95,51,1.6,142,3.5,?,0,0,0,1,0,1,1,1,1,ckd\\r\\n41,70,1.015,2,0,0,1,1,0,?,68,2.8,132,4.1,11.1,33,0,0,0,1,1,1,0,0,ckd\\r\\n69,70,1.01,0,4,0,0,1,1,256,40,1.2,142,5.6,?,0,0,0,1,1,1,1,1,1,ckd\\r\\n67,70,1.01,1,0,0,0,1,1,?,106,6,137,4.9,6.1,19,6500,0,0,1,1,1,1,0,ckd\\r\\n72,90,?,?,?,0,0,1,1,84,145,7.1,135,5.3,?,0,0,0,1,0,1,1,1,1,ckd\\r\\n41,80,1.015,1,4,1,0,1,1,210,165,18,135,4.7,?,0,0,0,1,0,1,1,1,1,ckd\\r\\n60,90,1.01,2,0,1,0,1,1,105,53,2.3,136,5.2,11.1,33,10500,4.1,1,1,1,1,1,1,ckd\\r\\n57,90,1.015,5,0,1,1,1,0,?,322,13,126,4.8,8,24,4200,3.3,0,0,0,0,0,0,ckd\\r\\n53,100,1.01,1,3,1,0,1,1,213,23,1,139,4,?,0,0,0,1,0,1,1,1,1,ckd\\r\\n60,60,1.01,3,1,0,1,0,1,288,36,1.7,130,3,7.9,25,15200,3,0,1,1,0,1,0,ckd\\r\\n69,60,?,?,?,0,0,1,1,171,26,48.1,?,?,?,0,0,0,0,1,1,0,1,1,ckd\\r\\n65,70,1.02,1,0,1,1,1,1,139,29,1,?,?,10.5,32,0,0,0,1,1,1,0,1,ckd\\r\\n8,60,1.025,3,0,0,0,1,1,78,27,0.9,?,?,12.3,41,6700,0,1,1,1,0,0,1,ckd\\r\\n76,90,?,?,?,0,0,1,1,172,46,1.7,141,5.5,9.6,30,0,0,0,0,1,1,1,0,ckd\\r\\n39,70,1.01,0,0,0,0,1,1,121,20,0.8,133,3.5,10.9,32,0,0,1,0,1,1,1,1,ckd\\r\\n55,90,1.01,2,1,1,1,1,1,273,235,14.2,132,3.4,8.3,22,14600,2.9,0,0,1,0,0,0,ckd\\r\\n56,90,1.005,4,3,1,1,1,1,242,132,16.4,140,4.2,8.4,26,0,3,0,0,1,0,0,0,ckd\\r\\n50,70,1.02,3,0,1,0,0,0,123,40,1.8,?,?,11.1,36,4700,0,1,1,1,1,1,1,ckd\\r\\n66,90,1.015,2,0,0,0,1,0,153,76,3.3,?,?,?,0,0,0,1,1,1,0,1,1,ckd\\r\\n62,70,1.025,3,0,0,1,1,1,122,42,1.7,136,4.7,12.6,39,7900,3.9,0,0,1,1,1,1,ckd\\r\\n71,60,1.02,3,2,0,0,0,1,424,48,1.5,132,4,10.9,31,0,0,0,0,0,1,1,1,ckd\\r\\n59,80,1.01,1,0,1,0,1,1,303,35,1.3,122,3.5,10.4,35,10900,4.3,1,0,1,0,1,1,ckd\\r\\n81,60,?,?,?,0,0,1,1,148,39,2.1,147,4.2,10.9,35,9400,2.4,0,0,0,0,0,1,ckd\\r\\n62,?,1.015,3,0,1,0,1,1,?,?,?,?,?,14.3,42,10200,4.8,0,0,1,1,1,1,ckd\\r\\n59,70,?,?,?,0,0,1,1,204,34,1.5,124,4.1,9.8,37,6000,0,1,0,1,1,1,1,ckd\\r\\n46,80,1.01,0,0,0,0,1,1,160,40,2,140,4.1,9,27,8100,3.2,0,1,1,0,1,0,ckd\\r\\n14,?,1.015,0,0,0,0,1,1,192,15,0.8,137,4.2,14.3,40,9500,5.4,1,0,1,0,0,1,ckd\\r\\n60,80,1.02,0,2,0,0,1,1,?,?,?,?,?,?,0,0,0,1,0,1,1,1,1,ckd\\r\\n27,60,?,?,?,0,0,1,1,76,44,3.9,127,4.3,?,0,0,0,1,1,1,0,0,0,ckd\\r\\n34,70,1.02,0,0,1,0,1,1,139,19,0.9,?,?,12.7,42,2200,0,1,1,1,0,1,1,ckd\\r\\n65,70,1.015,4,4,0,0,0,1,307,28,1.5,?,?,11,39,6700,0,0,0,1,1,1,1,ckd\\r\\n?,70,1.01,0,2,0,0,1,1,220,68,2.8,?,?,8.7,27,0,0,0,0,1,1,1,0,ckd\\r\\n66,70,1.015,2,5,0,0,1,1,447,41,1.7,131,3.9,12.5,33,9600,4.4,0,0,1,1,1,1,ckd\\r\\n83,70,1.02,3,0,0,0,1,1,102,60,2.6,115,5.7,8.7,26,12800,3.1,0,1,1,0,1,0,ckd\\r\\n62,80,1.01,1,2,0,0,1,1,309,113,2.9,130,2.5,10.6,34,12800,4.9,1,1,1,1,1,1,ckd\\r\\n17,70,1.015,1,0,1,0,1,1,22,1.5,7.3,145,2.8,13.1,41,11200,0,1,1,1,1,1,1,ckd\\r\\n54,70,?,?,?,0,0,1,1,111,146,7.5,141,4.7,11,35,8600,4.6,1,1,1,1,1,1,ckd\\r\\n60,50,1.01,0,0,0,0,1,1,261,58,2.2,113,3,?,0,4200,3.4,0,1,1,1,1,1,ckd\\r\\n21,90,1.01,4,0,0,1,0,0,107,40,1.7,125,3.5,8.3,23,12400,3.9,1,1,1,1,1,0,ckd\\r\\n65,80,1.015,2,1,0,0,0,1,215,133,2.5,?,?,13.2,41,0,0,1,0,1,1,1,1,ckd\\r\\n42,90,1.02,2,0,1,1,0,1,93,153,2.7,139,4.3,9.8,34,9800,0,1,1,1,0,0,0,ckd\\r\\n72,90,1.01,2,0,0,1,0,1,124,53,2.3,?,?,11.9,39,0,0,1,1,1,1,1,1,ckd\\r\\n73,90,1.01,1,4,1,1,0,1,234,56,1.9,?,?,10.3,28,0,0,1,0,1,1,1,1,ckd\\r\\n45,70,1.025,2,0,0,1,0,1,117,52,2.2,136,3.8,10,30,19100,3.7,1,1,1,1,1,1,ckd\\r\\n61,80,1.02,0,0,0,0,1,1,131,23,0.8,140,4.1,11.3,35,0,0,1,1,1,1,1,1,ckd\\r\\n30,70,1.015,0,0,0,0,1,1,101,106,6.5,135,4.3,?,0,0,0,1,1,1,0,1,1,ckd\\r\\n54,60,1.015,3,2,0,1,1,1,352,137,3.3,133,4.5,11.3,31,5800,3.6,0,0,0,0,0,1,ckd\\r\\n4,?,1.02,1,0,0,0,1,1,99,23,0.6,138,4.4,12,34,0,0,1,1,1,1,1,1,ckd\\r\\n8,50,1.02,4,0,0,0,1,1,?,46,1,135,3.8,?,0,0,0,1,1,1,1,0,1,ckd\\r\\n3,?,1.01,2,0,0,0,1,1,?,22,0.7,?,?,10.7,34,12300,0,1,1,1,1,1,1,ckd\\r\\n8,?,?,?,?,0,0,1,1,80,66,2.5,142,3.6,12.2,38,0,0,1,0,1,1,1,1,ckd\\r\\n64,60,1.01,4,1,1,1,1,0,239,58,4.3,137,5.4,9.5,29,7500,3.4,0,0,1,0,0,1,ckd\\r\\n6,60,1.01,4,0,1,1,1,0,94,67,1,135,4.9,9.9,30,16700,4.8,1,1,1,0,1,1,ckd\\r\\n?,70,1.01,3,0,0,0,1,1,110,115,6,134,2.7,9.1,26,9200,3.4,0,0,1,0,1,1,ckd\\r\\n46,110,1.015,0,0,0,0,1,1,130,16,0.9,?,?,?,0,0,0,1,1,1,1,1,1,ckd\\r\\n32,90,1.025,1,0,1,1,1,1,?,223,18.1,113,6.5,5.5,15,2600,2.8,0,0,1,0,0,0,ckd\\r\\n80,70,1.01,2,?,0,1,1,1,?,49,1.2,?,?,?,0,0,0,0,0,1,1,1,1,ckd\\r\\n70,90,1.02,2,1,1,1,1,0,184,98.6,3.3,138,3.9,5.8,0,0,0,0,0,0,0,1,1,ckd\\r\\n49,100,1.01,3,0,1,1,1,1,129,158,11.8,122,3.2,8.1,24,9600,3.5,0,0,1,0,0,0,ckd\\r\\n57,80,?,?,?,0,0,1,1,?,111,9.3,124,5.3,6.8,0,4300,3,0,0,1,1,1,0,ckd\\r\\n59,100,1.02,4,2,0,0,1,1,252,40,3.2,137,4.7,11.2,30,26400,3.9,0,0,1,0,0,1,ckd\\r\\n65,80,1.015,0,0,0,0,1,1,92,37,1.5,140,5.2,8.8,25,10700,3.2,0,1,0,1,0,1,ckd\\r\\n90,90,1.025,1,0,0,0,1,1,139,89,3,140,4.1,12,37,7900,3.9,0,0,1,1,1,1,ckd\\r\\n64,70,?,?,?,0,0,1,1,113,94,7.3,137,4.3,7.9,21,0,0,0,0,0,1,0,0,ckd\\r\\n78,60,?,?,?,0,0,1,1,114,74,2.9,135,5.9,8,24,0,0,1,0,1,1,1,0,ckd\\r\\n?,90,?,?,?,0,0,1,1,207,80,6.8,142,5.5,8.5,0,0,0,0,0,1,1,1,0,ckd\\r\\n65,90,1.01,4,2,0,0,1,1,172,82,13.5,145,6.3,8.8,31,0,0,0,0,1,1,0,0,ckd\\r\\n61,70,?,?,?,0,0,1,1,100,28,2.1,?,?,12.6,43,0,0,0,0,1,1,1,1,ckd\\r\\n60,70,1.01,1,0,0,0,1,1,109,96,3.9,135,4,13.8,41,0,0,0,1,1,1,1,1,ckd\\r\\n50,70,1.01,0,0,0,0,1,1,230,50,2.2,?,?,12,41,10400,4.6,0,0,1,1,1,1,ckd\\r\\n67,80,?,?,?,0,0,1,1,341,37,1.5,?,?,12.3,41,6900,4.9,0,0,1,1,1,0,ckd\\r\\n19,70,1.02,0,0,0,0,1,1,?,?,?,?,?,11.5,0,6900,0,1,1,1,1,1,1,ckd\\r\\n59,100,1.015,4,2,0,0,1,1,255,132,12.8,135,5.7,7.3,20,9800,3.9,0,0,0,1,1,0,ckd\\r\\n54,120,1.015,0,0,0,0,1,1,103,18,1.2,?,?,?,0,0,0,1,1,1,1,1,1,ckd\\r\\n40,70,1.015,3,4,0,0,1,1,253,150,11.9,132,5.6,10.9,31,8800,3.4,0,0,1,0,0,1,ckd\\r\\n55,80,1.01,3,1,0,1,0,0,214,73,3.9,137,4.9,10.9,34,7400,3.7,0,0,1,1,0,1,ckd\\r\\n68,80,1.015,0,0,0,1,1,1,171,30,1,?,?,13.7,43,4900,5.2,1,0,1,1,1,1,ckd\\r\\n2,?,1.01,3,0,0,1,1,1,?,?,?,?,?,?,0,0,0,1,1,1,1,0,1,ckd\\r\\n64,70,1.01,0,0,0,0,1,1,107,15,?,?,?,12.8,38,0,0,1,1,1,1,1,1,ckd\\r\\n63,100,1.01,1,0,0,0,1,1,78,61,1.8,141,4.4,12.2,36,10500,4.3,1,0,1,1,1,1,ckd\\r\\n33,90,1.015,0,0,0,0,1,1,92,19,0.8,?,?,11.8,34,7000,0,1,1,1,1,1,1,ckd\\r\\n68,90,1.01,0,0,0,0,1,1,238,57,2.5,?,?,9.8,28,8000,3.3,0,0,1,0,1,1,ckd\\r\\n36,80,1.01,0,0,0,0,1,1,103,?,?,?,?,11.9,36,8800,0,1,1,1,1,1,1,ckd\\r\\n66,70,1.02,1,0,0,0,1,1,248,30,1.7,138,5.3,?,0,0,0,0,0,1,1,1,1,ckd\\r\\n74,60,?,?,?,0,0,1,1,108,68,1.8,?,?,?,0,0,0,0,0,1,1,1,1,ckd\\r\\n71,90,1.01,0,3,0,0,1,1,303,30,1.3,136,4.1,13,38,9200,4.6,0,0,1,1,1,1,ckd\\r\\n34,60,1.02,0,0,0,0,1,1,117,28,2.2,138,3.8,?,0,0,0,1,1,1,1,0,1,ckd\\r\\n60,90,1.01,3,5,1,0,1,0,490,95,2.7,131,3.8,11.5,35,12000,4.5,0,0,1,1,1,1,ckd\\r\\n64,100,1.015,4,2,1,1,1,0,163,54,7.2,140,4.6,7.9,26,7500,3.4,0,0,1,1,0,1,ckd\\r\\n57,80,1.015,0,0,0,0,1,1,120,48,1.6,?,?,11.3,36,7200,3.8,0,0,1,1,1,1,ckd\\r\\n60,70,?,?,?,0,0,1,1,124,52,2.5,?,?,?,0,0,0,0,1,1,1,1,1,ckd\\r\\n59,50,1.01,3,0,0,1,1,1,241,191,12,114,2.9,9.6,31,15700,3.8,1,0,1,1,0,1,ckd\\r\\n65,60,1.01,2,0,0,1,0,1,192,17,1.7,130,4.3,?,0,9500,0,0,0,1,0,1,1,ckd\\r\\n60,90,?,?,?,0,0,1,1,269,51,2.8,138,3.7,11.5,35,0,0,0,0,0,1,0,1,ckd\\r\\n50,90,1.015,1,0,1,1,1,1,?,?,?,?,?,?,0,0,0,1,1,1,1,0,1,ckd\\r\\n51,100,1.015,2,0,0,0,1,0,93,20,1.6,146,4.5,?,0,0,0,1,1,1,0,1,1,ckd\\r\\n37,100,1.01,0,0,1,0,1,1,?,19,1.3,?,?,15,44,4100,5.2,0,1,1,1,1,1,ckd\\r\\n45,70,1.01,2,0,0,0,1,1,113,93,2.3,?,?,7.9,26,5700,0,1,1,0,1,1,0,ckd\\r\\n65,80,?,?,?,0,0,1,1,74,66,2,136,5.4,9.1,25,0,0,0,0,0,1,0,1,ckd\\r\\n80,70,1.015,2,2,0,0,1,1,141,53,2.2,?,?,12.7,40,9600,0,0,0,1,0,0,1,ckd\\r\\n72,100,?,?,?,0,0,1,1,201,241,13.4,127,4.8,9.4,28,0,0,0,0,1,1,1,0,ckd\\r\\n34,90,1.015,2,0,0,0,1,1,104,50,1.6,137,4.1,11.9,39,0,0,1,1,1,1,1,1,ckd\\r\\n65,70,1.015,1,0,0,0,1,1,203,46,1.4,?,?,11.4,36,5000,4.1,0,0,1,0,0,1,ckd\\r\\n57,70,1.015,1,0,0,1,1,1,165,45,1.5,140,3.3,10.4,31,4200,3.9,1,1,1,1,1,1,ckd\\r\\n69,70,1.01,4,3,0,1,0,0,214,96,6.3,120,3.9,9.4,28,11500,3.3,0,0,0,1,0,0,ckd\\r\\n62,90,1.02,2,1,0,0,1,1,169,48,2.4,138,2.9,13.4,47,11000,6.1,0,1,1,1,1,1,ckd\\r\\n64,90,1.015,3,2,0,1,0,1,463,64,2.8,135,4.1,12.2,40,9800,4.6,0,0,1,1,1,0,ckd\\r\\n48,100,?,?,?,0,0,1,1,103,79,5.3,135,6.3,6.3,19,7200,2.6,0,1,0,0,1,1,ckd\\r\\n48,110,1.015,3,0,1,0,0,1,106,215,15.2,120,5.7,8.6,26,5000,2.5,0,1,0,1,1,0,ckd\\r\\n54,90,1.025,1,0,0,1,1,1,150,18,1.2,140,4.2,?,0,0,0,1,1,1,0,0,0,ckd\\r\\n59,70,1.01,1,3,1,1,1,1,424,55,1.7,138,4.5,12.6,37,10200,4.1,0,0,0,1,1,1,ckd\\r\\n56,90,1.01,4,1,0,1,0,1,176,309,13.3,124,6.5,3.1,9,5400,2.1,0,0,1,0,0,0,ckd\\r\\n40,80,1.025,0,0,0,0,1,1,140,10,1.2,135,5,15,48,10400,4.5,1,1,1,1,1,1,notckd\\r\\n23,80,1.025,0,0,0,0,1,1,70,36,1,150,4.6,17,52,9800,5,1,1,1,1,1,1,notckd\\r\\n45,80,1.025,0,0,0,0,1,1,82,49,0.6,147,4.4,15.9,46,9100,4.7,1,1,1,1,1,1,notckd\\r\\n57,80,1.025,0,0,0,0,1,1,119,17,1.2,135,4.7,15.4,42,6200,6.2,1,1,1,1,1,1,notckd\\r\\n51,60,1.025,0,0,0,0,1,1,99,38,0.8,135,3.7,13,49,8300,5.2,1,1,1,1,1,1,notckd\\r\\n34,80,1.025,0,0,0,0,1,1,121,27,1.2,144,3.9,13.6,52,9200,6.3,1,1,1,1,1,1,notckd\\r\\n60,80,1.025,0,0,0,0,1,1,131,10,0.5,146,5,14.5,41,10700,5.1,1,1,1,1,1,1,notckd\\r\\n38,60,1.02,0,0,0,0,1,1,91,36,0.7,135,3.7,14,46,9100,5.8,1,1,1,1,1,1,notckd\\r\\n42,80,1.02,0,0,0,0,1,1,98,20,0.5,140,3.5,13.9,44,8400,5.5,1,1,1,1,1,1,notckd\\r\\n35,80,1.02,0,0,0,0,1,1,104,31,1.2,135,5,16.1,45,4300,5.2,1,1,1,1,1,1,notckd\\r\\n30,80,1.02,0,0,0,0,1,1,131,38,1,147,3.8,14.1,45,9400,5.3,1,1,1,1,1,1,notckd\\r\\n49,80,1.02,0,0,0,0,1,1,122,32,1.2,139,3.9,17,41,5600,4.9,1,1,1,1,1,1,notckd\\r\\n55,80,1.02,0,0,0,0,1,1,118,18,0.9,135,3.6,15.5,43,7200,5.4,1,1,1,1,1,1,notckd\\r\\n45,80,1.02,0,0,0,0,1,1,117,46,1.2,137,5,16.2,45,8600,5.2,1,1,1,1,1,1,notckd\\r\\n42,80,1.02,0,0,0,0,1,1,132,24,0.7,140,4.1,14.4,50,5000,4.5,1,1,1,1,1,1,notckd\\r\\n50,80,1.02,0,0,0,0,1,1,97,40,0.6,150,4.5,14.2,48,10500,5,1,1,1,1,1,1,notckd\\r\\n55,80,1.02,0,0,0,0,1,1,133,17,1.2,135,4.8,13.2,41,6800,5.3,1,1,1,1,1,1,notckd\\r\\n48,80,1.025,0,0,0,0,1,1,122,33,0.9,146,3.9,13.9,48,9500,4.8,1,1,1,1,1,1,notckd\\r\\n?,80,?,?,?,0,0,1,1,100,49,1,140,5,16.3,53,8500,4.9,1,1,1,1,1,1,notckd\\r\\n25,80,1.025,0,0,0,0,1,1,121,19,1.2,142,4.9,15,48,6900,5.3,1,1,1,1,1,1,notckd\\r\\n23,80,1.025,0,0,0,0,1,1,111,34,1.1,145,4,14.3,41,7200,5,1,1,1,1,1,1,notckd\\r\\n30,80,1.025,0,0,0,0,1,1,96,25,0.5,144,4.8,13.8,42,9000,4.5,1,1,1,1,1,1,notckd\\r\\n56,80,1.025,0,0,0,0,1,1,139,15,1.2,135,5,14.8,42,5600,5.5,1,1,1,1,1,1,notckd\\r\\n47,80,1.02,0,0,0,0,1,1,95,35,0.9,140,4.1,?,0,0,0,1,1,1,1,1,1,notckd\\r\\n19,80,1.02,0,0,0,0,1,1,107,23,0.7,141,4.2,14.4,44,0,0,1,1,1,1,1,1,notckd\\r\\n52,80,1.02,0,0,0,0,1,1,125,22,1.2,139,4.6,16.5,43,4700,4.6,1,1,1,1,1,1,notckd\\r\\n20,60,1.025,0,0,0,0,1,1,?,?,?,137,4.7,14,41,4500,5.5,1,1,1,1,1,1,notckd\\r\\n46,60,1.025,0,0,0,0,1,1,123,46,1,135,5,15.7,50,6300,4.8,1,1,1,1,1,1,notckd\\r\\n48,60,1.02,0,0,0,0,1,1,112,44,1.2,142,4.9,14.5,44,9400,6.4,1,1,1,1,1,1,notckd\\r\\n24,70,1.025,0,0,0,0,1,1,140,23,0.6,140,4.7,16.3,48,5800,5.6,1,1,1,1,1,1,notckd\\r\\n47,80,?,?,?,0,0,1,1,93,33,0.9,144,4.5,13.3,52,8100,5.2,1,1,1,1,1,1,notckd\\r\\n55,80,1.025,0,0,0,0,1,1,130,50,1.2,147,5,15.5,41,9100,6,1,1,1,1,1,1,notckd\\r\\n20,70,1.02,0,0,0,0,1,1,123,44,1,135,3.8,14.6,44,5500,4.8,1,1,1,1,1,1,notckd\\r\\n60,70,1.02,0,0,0,0,1,1,?,?,?,?,?,16.4,43,10800,5.7,1,1,1,1,1,1,notckd\\r\\n33,80,1.025,0,0,0,0,1,1,100,37,1.2,142,4,16.9,52,6700,6,1,1,1,1,1,1,notckd\\r\\n66,70,1.02,0,0,0,0,1,1,94,19,0.7,135,3.9,16,41,5300,5.9,1,1,1,1,1,1,notckd\\r\\n71,70,1.02,0,0,0,0,1,1,81,18,0.8,145,5,14.7,44,9800,6,1,1,1,1,1,1,notckd\\r\\n39,70,1.025,0,0,0,0,1,1,124,22,0.6,137,3.8,13.4,43,0,0,1,1,1,1,1,1,notckd\\r\\n56,70,1.025,0,0,0,0,1,1,70,46,1.2,135,4.9,15.9,50,11000,5.1,0,0,0,1,1,1,notckd\\r\\n42,70,1.02,0,0,0,0,1,1,93,32,0.9,143,4.7,16.6,43,7100,5.3,1,1,1,1,1,1,notckd\\r\\n54,70,1.02,0,0,0,0,0,0,76,28,0.6,146,3.5,14.8,52,8400,5.9,1,1,1,1,1,1,notckd\\r\\n47,80,1.025,0,0,0,0,1,1,124,44,1,140,4.9,14.9,41,7000,5.7,1,1,1,1,1,1,notckd\\r\\n30,80,1.02,0,0,0,0,1,1,89,42,0.5,139,5,16.7,52,10200,5,1,1,1,1,1,1,notckd\\r\\n50,?,1.02,0,0,0,0,1,1,92,19,1.2,150,4.8,14.9,48,4700,5.4,1,1,1,1,1,1,notckd\\r\\n75,60,1.02,0,0,0,0,1,1,110,50,0.7,135,5,14.3,40,8300,5.8,1,1,1,0,0,0,notckd\\r\\n44,70,?,?,?,0,0,1,1,106,25,0.9,150,3.6,15,50,9600,6.5,1,1,1,1,1,1,notckd\\r\\n41,70,1.02,0,0,0,0,1,1,125,38,0.6,140,5,16.8,41,6300,5.9,1,1,1,1,1,1,notckd\\r\\n53,60,1.025,0,0,0,0,1,1,116,26,1,146,4.9,15.8,45,7700,5.2,0,0,0,1,1,1,notckd\\r\\n34,60,1.02,0,0,0,0,1,1,91,49,1.2,135,4.5,13.5,48,8600,4.9,1,1,1,1,1,1,notckd\\r\\n73,60,1.02,0,0,0,0,1,1,127,48,0.5,150,3.5,15.1,52,11000,4.7,1,1,1,1,1,1,notckd\\r\\n45,60,1.02,0,0,0,0,0,0,114,26,0.7,141,4.2,15,43,9200,5.8,1,1,1,1,1,1,notckd\\r\\n44,60,1.025,0,0,0,0,1,1,96,33,0.9,147,4.5,16.9,41,7200,5,1,1,1,1,1,1,notckd\\r\\n29,70,1.02,0,0,0,0,1,1,127,44,1.2,145,5,14.8,48,0,0,1,1,1,1,1,1,notckd\\r\\n55,70,1.02,0,0,0,0,1,1,107,26,1.1,?,?,17,50,6700,6.1,1,1,1,1,1,1,notckd\\r\\n33,80,1.025,0,0,0,0,1,1,128,38,0.6,135,3.9,13.1,45,6200,4.5,1,1,1,1,1,1,notckd\\r\\n41,80,1.02,0,0,0,0,1,1,122,25,0.8,138,5,17.1,41,9100,5.2,1,1,1,1,1,1,notckd\\r\\n52,80,1.02,0,0,0,0,1,1,128,30,1.2,140,4.5,15.2,52,4300,5.7,1,1,1,1,1,1,notckd\\r\\n47,60,1.02,0,0,0,0,1,1,137,17,0.5,150,3.5,13.6,44,7900,4.5,1,1,1,1,1,1,notckd\\r\\n43,80,1.025,0,0,0,0,1,1,81,46,0.6,135,4.9,13.9,48,6900,4.9,1,1,1,1,1,1,notckd\\r\\n51,60,1.02,0,0,0,0,1,1,129,25,1.2,139,5,17.2,40,8100,5.9,1,1,1,1,1,1,notckd\\r\\n46,60,1.02,0,0,0,0,1,1,102,27,0.7,142,4.9,13.2,44,11000,5.4,1,1,1,1,1,1,notckd\\r\\n56,60,1.025,0,0,0,0,1,1,132,18,1.1,147,4.7,13.7,45,7500,5.6,1,1,1,1,1,1,notckd\\r\\n80,70,1.02,0,0,0,0,1,1,?,?,?,135,4.1,15.3,48,6300,6.1,1,1,1,1,1,1,notckd\\r\\n55,80,1.02,0,0,0,0,1,1,104,28,0.9,142,4.8,17.3,52,8200,4.8,1,1,1,1,1,1,notckd\\r\\n39,70,1.025,0,0,0,0,1,1,131,46,0.6,145,5,15.6,41,9400,4.7,1,1,1,1,1,1,notckd\\r\\n44,70,1.025,0,0,0,0,1,1,?,?,?,?,?,13.8,48,7800,4.4,1,1,1,1,1,1,notckd\\r\\n35,?,1.02,0,0,0,0,0,0,99,30,0.5,135,4.9,15.4,48,5000,5.2,1,1,1,1,1,1,notckd\\r\\n58,70,1.02,0,0,0,0,1,1,102,48,1.2,139,4.3,15,40,8100,4.9,1,1,1,1,1,1,notckd\\r\\n61,70,1.025,0,0,0,0,1,1,120,29,0.7,137,3.5,17.4,52,7000,5.3,1,1,1,1,1,1,notckd\\r\\n30,60,1.02,0,0,0,0,1,1,138,15,1.1,135,4.4,?,0,0,0,1,1,1,1,1,1,notckd\\r\\n57,60,1.02,0,0,0,0,1,1,105,49,1.2,150,4.7,15.7,44,10400,6.2,1,1,1,1,1,1,notckd\\r\\n65,60,1.02,0,0,0,0,1,1,109,39,1,144,3.5,13.9,48,9600,4.8,1,1,1,1,1,1,notckd\\r\\n70,60,?,?,?,0,0,1,1,120,40,0.5,140,4.6,16,43,4500,4.9,1,1,1,1,1,1,notckd\\r\\n43,80,1.025,0,0,0,0,1,1,130,30,1.1,143,5,15.9,45,7800,4.5,1,1,1,1,1,1,notckd\\r\\n40,80,1.02,0,0,0,0,1,1,119,15,0.7,150,4.9,?,0,0,0,1,1,1,1,1,1,notckd\\r\\n58,80,1.02,0,0,0,0,1,1,100,50,1.2,140,3.5,14,50,6700,6.5,1,1,1,1,1,1,notckd\\r\\n47,60,1.02,0,0,0,0,1,1,109,25,1.1,141,4.7,15.8,41,8300,5.2,1,1,1,1,1,1,notckd\\r\\n30,60,1.025,0,0,0,0,1,1,120,31,0.8,150,4.6,13.4,44,10700,5.8,1,1,1,1,1,1,notckd\\r\\n28,70,1.02,0,0,0,0,0,0,131,29,0.6,145,4.9,?,45,8600,6.5,1,1,1,1,1,1,notckd\\r\\n33,60,1.025,0,0,0,0,1,1,80,25,0.9,146,3.5,14.1,48,7800,5.1,1,1,1,1,1,1,notckd\\r\\n43,80,1.02,0,0,0,0,1,1,114,32,1.1,135,3.9,?,42,0,0,1,1,1,1,1,1,notckd\\r\\n59,70,1.025,0,0,0,0,1,1,130,39,0.7,147,4.7,13.5,46,6700,4.5,1,1,1,1,1,1,notckd\\r\\n34,70,1.025,0,0,0,0,1,1,?,33,1,150,5,15.3,44,10500,6.1,1,1,1,1,1,1,notckd\\r\\n23,80,1.02,0,0,0,0,1,1,99,46,1.2,142,4,17.7,46,4300,5.5,1,1,1,1,1,1,notckd\\r\\n24,80,1.025,0,0,0,0,1,1,125,?,?,136,3.5,15.4,43,5600,4.5,1,1,1,1,1,1,notckd\\r\\n60,60,1.02,0,0,0,0,1,1,134,45,0.5,139,4.8,14.2,48,10700,5.6,1,1,1,1,1,1,notckd\\r\\n25,60,1.02,0,0,0,0,1,1,119,27,0.5,?,?,15.2,40,9200,5.2,1,1,1,1,1,1,notckd\\r\\n44,70,1.025,0,0,0,0,1,1,92,40,0.9,141,4.9,14,52,7500,6.2,1,1,1,1,1,1,notckd\\r\\n62,80,1.02,0,0,0,0,1,1,132,34,0.8,147,3.5,17.8,44,4700,4.5,1,1,1,1,1,1,notckd\\r\\n25,70,1.02,0,0,0,0,1,1,88,42,0.5,136,3.5,13.3,48,7000,4.9,1,1,1,1,1,1,notckd\\r\\n32,70,1.025,0,0,0,0,1,1,100,29,1.1,142,4.5,14.3,43,6700,5.9,1,1,1,1,1,1,notckd\\r\\n63,70,1.025,0,0,0,0,1,1,130,37,0.9,150,5,13.4,41,7300,4.7,1,1,1,1,1,1,notckd\\r\\n44,60,1.02,0,0,0,0,1,1,95,46,0.5,138,4.2,15,50,7700,6.3,1,1,1,1,1,1,notckd\\r\\n37,60,1.025,0,0,0,0,1,1,111,35,0.8,135,4.1,16.2,50,5500,5.7,1,1,1,1,1,1,notckd\\r\\n64,60,1.02,0,0,0,0,1,1,106,27,0.7,150,3.3,14.4,42,8100,4.7,1,1,1,1,1,1,notckd\\r\\n22,60,1.025,0,0,0,0,1,1,97,18,1.2,138,4.3,13.5,42,7900,6.4,1,1,1,1,1,1,notckd\\r\\n33,60,?,?,?,0,0,1,1,130,41,0.9,141,4.4,15.5,52,4300,5.8,1,1,1,1,1,1,notckd\\r\\n43,60,1.025,0,0,0,0,1,1,108,25,1,144,5,17.8,43,7200,5.5,1,1,1,1,1,1,notckd\\r\\n38,80,1.02,0,0,0,0,1,1,99,19,0.5,147,3.5,13.6,44,7300,6.4,1,1,1,1,1,1,notckd\\r\\n35,70,1.025,0,0,0,0,1,1,82,36,1.1,150,3.5,14.5,52,9400,6.1,1,1,1,1,1,1,notckd\\r\\n65,70,1.025,0,0,0,0,1,1,85,20,1,142,4.8,16.1,43,9600,4.5,1,1,1,1,1,1,notckd\\r\\n29,80,1.02,0,0,0,0,1,1,83,49,0.9,139,3.3,17.5,40,9900,4.7,1,1,1,1,1,1,notckd\\r\\n37,60,1.02,0,0,0,0,1,1,109,47,1.1,141,4.9,15,48,7000,5.2,1,1,1,1,1,1,notckd\\r\\n39,60,1.02,0,0,0,0,1,1,86,37,0.6,150,5,13.6,51,5800,4.5,1,1,1,1,1,1,notckd\\r\\n32,60,1.025,0,0,0,0,1,1,102,17,0.4,147,4.7,14.6,41,6800,5.1,1,1,1,1,1,1,notckd\\r\\n23,60,1.02,0,0,0,0,1,1,95,24,0.8,145,5,15,52,6300,4.6,1,1,1,1,1,1,notckd\\r\\n34,70,1.025,0,0,0,0,1,1,87,38,0.5,144,4.8,17.1,47,7400,6.1,1,1,1,1,1,1,notckd\\r\\n66,70,1.025,0,0,0,0,1,1,107,16,1.1,140,3.6,13.6,42,11000,4.9,1,1,1,1,1,1,notckd\\r\\n47,60,1.02,0,0,0,0,1,1,117,22,1.2,138,3.5,13,45,5200,5.6,1,1,1,1,1,1,notckd\\r\\n74,60,1.02,0,0,0,0,1,1,88,50,0.6,147,3.7,17.2,53,6000,4.5,1,1,1,1,1,1,notckd\\r\\n35,60,1.025,0,0,0,0,1,1,105,39,0.5,135,3.9,14.7,43,5800,6.2,1,1,1,1,1,1,notckd\\r\\n29,80,1.02,0,0,0,0,1,1,70,16,0.7,138,3.5,13.7,54,5400,5.8,1,1,1,1,1,1,notckd\\r\\n33,80,1.025,0,0,0,0,1,1,89,19,1.1,144,5,15,40,10300,4.8,1,1,1,1,1,1,notckd\\r\\n67,80,1.025,0,0,0,0,1,1,99,40,0.5,?,?,17.8,44,5900,5.2,1,1,1,1,1,1,notckd\\r\\n73,80,1.025,0,0,0,0,1,1,118,44,0.7,137,3.5,14.8,45,9300,4.7,1,1,1,1,1,1,notckd\\r\\n24,80,1.02,0,0,0,0,1,1,93,46,1,145,3.5,?,0,10700,6.3,1,1,1,1,1,1,notckd\\r\\n60,80,1.025,0,0,0,0,1,1,81,15,0.5,141,3.6,15,46,10500,5.3,1,1,1,1,1,1,notckd\\r\\n68,60,1.025,0,0,0,0,1,1,125,41,1.1,139,3.8,17.4,50,6700,6.1,1,1,1,1,1,1,notckd\\r\\n30,80,1.025,0,0,0,0,1,1,82,42,0.7,146,5,14.9,45,9400,5.9,1,1,1,1,1,1,notckd\\r\\n75,70,1.02,0,0,0,0,1,1,107,48,0.8,144,3.5,13.6,46,10300,4.8,1,1,1,1,1,1,notckd\\r\\n69,70,1.02,0,0,0,0,1,1,83,42,1.2,139,3.7,16.2,50,9300,5.4,1,1,1,1,1,1,notckd\\r\\n28,60,1.025,0,0,0,0,1,1,79,50,0.5,145,5,17.6,51,6500,5,1,1,1,1,1,1,notckd\\r\\n72,60,1.02,0,0,0,0,1,1,109,26,0.9,150,4.9,15,52,10500,5.5,1,1,1,1,1,1,notckd\\r\\n61,70,1.025,0,0,0,0,1,1,133,38,1,142,3.6,13.7,47,9200,4.9,1,1,1,1,1,1,notckd\\r\\n79,80,1.025,0,0,0,0,1,1,111,44,1.2,146,3.6,16.3,40,8000,6.4,1,1,1,1,1,1,notckd\\r\\n70,80,1.02,0,0,0,0,1,1,74,41,0.5,143,4.5,15.1,48,9700,5.6,1,1,1,1,1,1,notckd\\r\\n58,70,1.025,0,0,0,0,1,1,88,16,1.1,147,3.5,16.4,53,9100,5.2,1,1,1,1,1,1,notckd\\r\\n64,70,1.02,0,0,0,0,1,1,97,27,0.7,145,4.8,13.8,49,6400,4.8,1,1,1,1,1,1,notckd\\r\\n71,60,1.025,0,0,0,0,1,1,?,?,0.9,140,4.8,15.2,42,7700,5.5,1,1,1,1,1,1,notckd\\r\\n62,80,1.025,0,0,0,0,1,1,78,45,0.6,138,3.5,16.1,50,5400,5.7,1,1,1,1,1,1,notckd\\r\\n59,60,1.02,0,0,0,0,1,1,113,23,1.1,139,3.5,15.3,54,6500,4.9,1,1,1,1,1,1,notckd\\r\\n71,70,1.025,0,0,0,0,1,1,79,47,0.5,142,4.8,16.6,40,5800,5.9,1,1,1,1,1,1,notckd\\r\\n48,80,1.025,0,0,0,0,1,1,75,22,0.8,137,5,16.8,51,6000,6.5,1,1,1,1,1,1,notckd\\r\\n80,80,1.025,0,0,0,0,1,1,119,46,0.7,141,4.9,13.9,49,5100,5,1,1,1,1,1,1,notckd\\r\\n57,60,1.02,0,0,0,0,1,1,132,18,1.1,150,4.7,15.4,42,11000,4.5,1,1,1,1,1,1,notckd\\r\\n63,70,1.02,0,0,0,0,1,1,113,25,0.6,146,4.9,16.5,52,8000,5.1,1,1,1,1,1,1,notckd\\r\\n46,70,1.025,0,0,0,0,1,1,100,47,0.5,142,3.5,16.4,43,5700,6.5,1,1,1,1,1,1,notckd\\r\\n15,80,1.025,0,0,0,0,1,1,93,17,0.9,136,3.9,16.7,50,6200,5.2,1,1,1,1,1,1,notckd\\r\\n51,80,1.02,0,0,0,0,1,1,94,15,1.2,144,3.7,15.5,46,9500,6.4,1,1,1,1,1,1,notckd\\r\\n41,80,1.025,0,0,0,0,1,1,112,48,0.7,140,5,17,52,7200,5.8,1,1,1,1,1,1,notckd\\r\\n52,80,1.025,0,0,0,0,1,1,99,25,0.8,135,3.7,15,52,6300,5.3,1,1,1,1,1,1,notckd\\r\\n36,80,1.025,0,0,0,0,1,1,85,16,1.1,142,4.1,15.6,44,5800,6.3,1,1,1,1,1,1,notckd\\r\\n57,80,1.02,0,0,0,0,1,1,133,48,1.2,147,4.3,14.8,46,6600,5.5,1,1,1,1,1,1,notckd\\r\\n43,60,1.025,0,0,0,0,1,1,117,45,0.7,141,4.4,13,54,7400,5.4,1,1,1,1,1,1,notckd\\r\\n50,80,1.02,0,0,0,0,1,1,137,46,0.8,139,5,14.1,45,9500,4.6,1,1,1,1,1,1,notckd\\r\\n55,80,1.02,0,0,0,0,1,1,140,49,0.5,150,4.9,15.7,47,6700,4.9,1,1,1,1,1,1,notckd\\r\\n42,70,1.025,0,0,0,0,1,1,75,31,1.2,141,3.5,16.5,54,7800,6.2,1,1,1,1,1,1,notckd\\r\\n12,80,1.02,0,0,0,0,1,1,100,26,0.6,137,4.4,15.8,49,6600,5.4,1,1,1,1,1,1,notckd\\r\\n17,60,1.025,0,0,0,0,1,1,114,50,1,135,4.9,14.2,51,7200,5.9,1,1,1,1,1,1,notckd\\r\\n58,80,1.025,0,0,0,0,1,1,131,18,1.1,141,3.5,15.8,53,6800,6.1,1,1,1,1,1,1,notckd\\r\\n'}"
            ]
          },
          "metadata": {
            "tags": []
          },
          "execution_count": 2
        }
      ]
    },
    {
      "cell_type": "code",
      "metadata": {
        "id": "DVdJ-_pRxq_2",
        "outputId": "33603215-a791-4555-f492-58bb9c8b51c8",
        "colab": {
          "base_uri": "https://localhost:8080/",
          "height": 224
        }
      },
      "source": [
        "df = pd.read_csv('chronic_kidney_disease.csv')\n",
        "df.head(5)"
      ],
      "execution_count": null,
      "outputs": [
        {
          "output_type": "execute_result",
          "data": {
            "text/html": [
              "<div>\n",
              "<style scoped>\n",
              "    .dataframe tbody tr th:only-of-type {\n",
              "        vertical-align: middle;\n",
              "    }\n",
              "\n",
              "    .dataframe tbody tr th {\n",
              "        vertical-align: top;\n",
              "    }\n",
              "\n",
              "    .dataframe thead th {\n",
              "        text-align: right;\n",
              "    }\n",
              "</style>\n",
              "<table border=\"1\" class=\"dataframe\">\n",
              "  <thead>\n",
              "    <tr style=\"text-align: right;\">\n",
              "      <th></th>\n",
              "      <th>age</th>\n",
              "      <th>bp</th>\n",
              "      <th>sg</th>\n",
              "      <th>al</th>\n",
              "      <th>su</th>\n",
              "      <th>rbc</th>\n",
              "      <th>pc</th>\n",
              "      <th>pcc</th>\n",
              "      <th>ba</th>\n",
              "      <th>bgr</th>\n",
              "      <th>bu</th>\n",
              "      <th>sc</th>\n",
              "      <th>sod</th>\n",
              "      <th>pot</th>\n",
              "      <th>hemo</th>\n",
              "      <th>pcv</th>\n",
              "      <th>wbcc</th>\n",
              "      <th>rbcc</th>\n",
              "      <th>htn</th>\n",
              "      <th>dm</th>\n",
              "      <th>cad</th>\n",
              "      <th>appet</th>\n",
              "      <th>pe</th>\n",
              "      <th>ane</th>\n",
              "      <th>class</th>\n",
              "    </tr>\n",
              "  </thead>\n",
              "  <tbody>\n",
              "    <tr>\n",
              "      <th>0</th>\n",
              "      <td>48</td>\n",
              "      <td>80</td>\n",
              "      <td>1.02</td>\n",
              "      <td>1</td>\n",
              "      <td>0</td>\n",
              "      <td>0</td>\n",
              "      <td>0</td>\n",
              "      <td>1</td>\n",
              "      <td>1</td>\n",
              "      <td>121</td>\n",
              "      <td>36</td>\n",
              "      <td>1.2</td>\n",
              "      <td>?</td>\n",
              "      <td>?</td>\n",
              "      <td>15.4</td>\n",
              "      <td>44</td>\n",
              "      <td>7800</td>\n",
              "      <td>5.2</td>\n",
              "      <td>0</td>\n",
              "      <td>0</td>\n",
              "      <td>1</td>\n",
              "      <td>1</td>\n",
              "      <td>1</td>\n",
              "      <td>1</td>\n",
              "      <td>ckd</td>\n",
              "    </tr>\n",
              "    <tr>\n",
              "      <th>1</th>\n",
              "      <td>7</td>\n",
              "      <td>50</td>\n",
              "      <td>1.02</td>\n",
              "      <td>4</td>\n",
              "      <td>0</td>\n",
              "      <td>0</td>\n",
              "      <td>0</td>\n",
              "      <td>1</td>\n",
              "      <td>1</td>\n",
              "      <td>?</td>\n",
              "      <td>18</td>\n",
              "      <td>0.8</td>\n",
              "      <td>?</td>\n",
              "      <td>?</td>\n",
              "      <td>11.3</td>\n",
              "      <td>38</td>\n",
              "      <td>6000</td>\n",
              "      <td>0.0</td>\n",
              "      <td>1</td>\n",
              "      <td>1</td>\n",
              "      <td>1</td>\n",
              "      <td>1</td>\n",
              "      <td>1</td>\n",
              "      <td>1</td>\n",
              "      <td>ckd</td>\n",
              "    </tr>\n",
              "    <tr>\n",
              "      <th>2</th>\n",
              "      <td>62</td>\n",
              "      <td>80</td>\n",
              "      <td>1.01</td>\n",
              "      <td>2</td>\n",
              "      <td>3</td>\n",
              "      <td>0</td>\n",
              "      <td>0</td>\n",
              "      <td>1</td>\n",
              "      <td>1</td>\n",
              "      <td>423</td>\n",
              "      <td>53</td>\n",
              "      <td>1.8</td>\n",
              "      <td>?</td>\n",
              "      <td>?</td>\n",
              "      <td>9.6</td>\n",
              "      <td>31</td>\n",
              "      <td>7500</td>\n",
              "      <td>0.0</td>\n",
              "      <td>1</td>\n",
              "      <td>0</td>\n",
              "      <td>1</td>\n",
              "      <td>0</td>\n",
              "      <td>1</td>\n",
              "      <td>0</td>\n",
              "      <td>ckd</td>\n",
              "    </tr>\n",
              "    <tr>\n",
              "      <th>3</th>\n",
              "      <td>48</td>\n",
              "      <td>70</td>\n",
              "      <td>1.005</td>\n",
              "      <td>4</td>\n",
              "      <td>0</td>\n",
              "      <td>0</td>\n",
              "      <td>1</td>\n",
              "      <td>0</td>\n",
              "      <td>1</td>\n",
              "      <td>117</td>\n",
              "      <td>56</td>\n",
              "      <td>3.8</td>\n",
              "      <td>111</td>\n",
              "      <td>2.5</td>\n",
              "      <td>11.2</td>\n",
              "      <td>32</td>\n",
              "      <td>6700</td>\n",
              "      <td>3.9</td>\n",
              "      <td>0</td>\n",
              "      <td>1</td>\n",
              "      <td>1</td>\n",
              "      <td>0</td>\n",
              "      <td>0</td>\n",
              "      <td>0</td>\n",
              "      <td>ckd</td>\n",
              "    </tr>\n",
              "    <tr>\n",
              "      <th>4</th>\n",
              "      <td>51</td>\n",
              "      <td>80</td>\n",
              "      <td>1.01</td>\n",
              "      <td>2</td>\n",
              "      <td>0</td>\n",
              "      <td>0</td>\n",
              "      <td>0</td>\n",
              "      <td>1</td>\n",
              "      <td>1</td>\n",
              "      <td>106</td>\n",
              "      <td>26</td>\n",
              "      <td>1.4</td>\n",
              "      <td>?</td>\n",
              "      <td>?</td>\n",
              "      <td>11.6</td>\n",
              "      <td>35</td>\n",
              "      <td>7300</td>\n",
              "      <td>4.6</td>\n",
              "      <td>1</td>\n",
              "      <td>1</td>\n",
              "      <td>1</td>\n",
              "      <td>1</td>\n",
              "      <td>1</td>\n",
              "      <td>1</td>\n",
              "      <td>ckd</td>\n",
              "    </tr>\n",
              "  </tbody>\n",
              "</table>\n",
              "</div>"
            ],
            "text/plain": [
              "  age  bp     sg al su  rbc  pc  pcc  ...  rbcc htn dm cad appet pe ane  class\n",
              "0  48  80   1.02  1  0    0   0    1  ...   5.2   0  0   1     1  1   1    ckd\n",
              "1   7  50   1.02  4  0    0   0    1  ...   0.0   1  1   1     1  1   1    ckd\n",
              "2  62  80   1.01  2  3    0   0    1  ...   0.0   1  0   1     0  1   0    ckd\n",
              "3  48  70  1.005  4  0    0   1    0  ...   3.9   0  1   1     0  0   0    ckd\n",
              "4  51  80   1.01  2  0    0   0    1  ...   4.6   1  1   1     1  1   1    ckd\n",
              "\n",
              "[5 rows x 25 columns]"
            ]
          },
          "metadata": {
            "tags": []
          },
          "execution_count": 3
        }
      ]
    },
    {
      "cell_type": "markdown",
      "metadata": {
        "id": "el_YtqsIGgls"
      },
      "source": [
        "## Part 1: Short questions: **(6 marks)**\n",
        "\n",
        "\n"
      ]
    },
    {
      "cell_type": "markdown",
      "metadata": {
        "id": "jEjryKNbwRdp"
      },
      "source": [
        "![image.png](data:image/png;base64,iVBORw0KGgoAAAANSUhEUgAAAMoAAADHCAYAAABY+8x2AAAgAElEQVR4Ae19B5xVxfX/an62KIoIKmANgr1EYzTFRGOiicZ/YhJbMLbEFqOxa8RYEnuLDQUVEAQFBWwgTQRp0uv2XZYtbC9v99X7bvv+P99z36yP57YH7+2+xRm4e++7bc49M985Z+acM5MFnTQHNAc65UBWp3ck3OC6bsKZbX92dn3bu/UvzYGe5UBX62tSQLFtG5ZltX6ZykTtHceBaZpyD8/pTfMg0+sA6zPrNest6297qctA4QcbhiFbaWkpysrKBBDNzc3YsmULgsGgZMj7mDn3OmkO9AYOsK4SLB3V2S4DhR/Ml82bNw933303/ve//6GhoQH//ve/MWbMGLz22msIh8PCFyIzEonA5/P16EYQBwIBtLS09Dgdfr+/x+lgeZAnbNS478nyyRQ6FA9YZztq4JMCSjQaxZtvvomHH34YEydORE5ODqZOnYqKigo5xwrJxPvGjh2LJ598Ek8//TSeeeaZHtueeuqpHqeB36/o6Gl+kJYnnniix3lCPpCOnqwbzz77LB5//HGhY/369amTKNTjNm7cCLaO77//Pl544QXZE5X33HOPtFAECq8/9thjqKmpQSgU6rGtqakJU6ZMQV5eXo/RoFrvuXPnYuXKlcKbnuRJXV2dNGC1tbU9xhN+P/Nn48E9edSTPGE9fe6550T7kJa+jT9JSRR+zKRJk1BeXo7Jkydj+vTpgsb8/HxpoZREIVAoTXh/TydWDPateipR7+VG3lAN7OlEWti/7Egf7y4aSQdVHm49SQ+7DM8//7w0Yu19e1JAoQ5XX18v/RGChEBYvHgxRo4cCVZI9bEEClsL7ns6sRCoCnLf3Yl9Om5MPZF/4veyfKgVcJ8J9JA+8oe0dNQ/SPyOVP1WPGADxj53R/U1KaCoQmcLzQ9jRmQ6f/NapgGF9Cm6FO2pYnJX3qPyVwWi+NOVZ9NxD+ngpiplT9Oj8mfZcFN8Sse3t/VOlV/KgdJWZm2dyySJ0hZ9+pzmADmggaLrgeZAFziggdIFJulbNAe+tUARXwD+Yb/dBdiNlnP8Hdt4TrrXjneNDjnah+DbCZpvJVBY2U1WeqLAAGwHoPnT4AWODocBJww0uECLC7gGYNlAM2xE4cAWJH07K8y39au/tUCJArBilT4CB37YiMCGCQeW68CNWvC7FiKuBYQtuJZN/IiE6f7B429r9cyc7/5WAoXspx8mQRGAAxMWYFuAYyACbmG4bgBhBGC5EcAwRaSIlqZUs8wpQ01JN3AgrUDh2Lca//Yqp6fhx5/rqeFhql2uAwQpWVj5ae8M2YATBdwwTJgCoghocAMcqmDyETGUdUPh6CwyhwNpAwqNQjRWKesufys/fh4rsPQEUFjho44pnfYIvH6IHQbcIGBYDhzSGuvTs8vS5AABl6oaH3HhgoqbdPMzpyQ1JWnlQNqAQlAQEEwEBUHTVuoZoLiw3QYYeXkwqxvQBA8IUQvwxQCB5giCK4vhBl0RNvS84hdQXXMFRhoobZXnznoubUAhMAgUxpoUFhaKD1VVVRVKSkrE0U6BiEChN6aKT+kuRofLvsLao49H+Z9vgun3iYywYpKENDQ9+TRW9j8cgY9nE+reKLLtgUXHmXVXKWVOPgoodMFKma8XJQglCtPs2bNx++23o7KyEjfddBPuv/9+CehSEoZAeeSRR8BISKWOqX2X2NTauXbAfxy6ZbW25S9VpFhyqDLxLGA31CPv+ouR0/8glO13KCpeehpOqM4bA3ZchBd+gY0H9sXmgwdj3cknIlqwUjooHACz6bMWeyX37OcIcGJ0RCVfKnRtS1BFjt73Lg6wThIkbPQZMkJ3//ZS0k6RrPyjRo2SF9OP/4YbbhDpwcAXJVEYn3LxxRfj7bffFqnDzNW19gjhedZLr9ZTH2LP3EQUJiLshnNY17YQcWrRUrICps8vhhPHjSISNVH1rwdRdOAAhOcvRPODz2PDvvsi8P5IOK6LSEUl8o7cH5UX/RLmplLkDh2KyrPPgF1XI+/lOJkbMRDasB62GUHEMBGxOZzscgwALbaNqLs1NjrQ0Rfoa72NAwxjZ+wUA8k60oCSAgq9LBmVtnr1atx7772icjE2hcCgZGlsbBQJQolC/36GezIRJErMdcRI6ZArwERtIEpZEjMGWl6bbxSUIvuIU1H617th+X3S8lvNLVj7h99g48C+CGfPRtPUN7CuX19Uv/wUbMtC9cwlyD7kCDTeMwJ2fj4azjoHBUd9D9HCZXBAi4uLhudGYf2++yA4cwxMGGgU24vlAZaChBbMHnDV74hf+tqOcYB1klKF9TTl8SjLli3DtGnTBBiMdnz33XeRnZ2NESNGSIbMmIBixtwzUSXj1pn65Tq2DO1K5D2Hphj3peqn5cKqr0HhZX9D3sGDUNavL+pe+zfCUcbB+GE1FWLD2adjzRH7Yf3+e6Dwystg+2q8vkjYQsXo8VjVvx9KjzsCqw4/GYEZS8BhYmYRmrMGuQf0xeZBA1Fw4gmIZpfAbwMBGAjDB9Ml0GPq2I6VjX46gzjABpwbVS6qXmzg20tJSRQlFRgIRZAwcIv9FU4uQTWMiRkzmo+SR2VMkKhn2yOEKpdr2lJx6XrCvgPN5hQkBI5jRlD64NVYN2gAQqvXIvzIwyjdfx80z/sEsLy+U2T1auQfPBDF3z8Bdm2Zp8U57GGYcIwIyv9+DTYdNAAVoz6Qim8gimh5CQqHDEHZ8J8DOWvQNOxo1JzyGzgl9WKYrEMNfG4A4PAZpYpOOw0H2HCzvrKeMn5e1de2PjApoLT1Ap5LlBTMMOkIR9ZB+l85np2QAHENG4ZlyVBuNOjHht+fjzVDToV/UyV8kz/DxgMOR/krkxAxHbhBGwibCE+eiui6RWJNdKOAzzEQJPxcwKnZgoqJb8KIUJYAju1D84L3kTPoSJQ89AJ8xXUoPv9ibDpxCMyclUA4AkQjsCM27KgJSjyddh4OqMZbBW4pDaitL0wJUBJfvF1AYc2NWQSpdQVBdY0V1RtpoutiqKICDx76OO44fDqu2/153LL/U/jo3WJUMHLPaEbUcGVcKspxMjpGWkAlQvC7AbhEYIhX6AgJmKYlhsgt+SE8+f0J+GPWG7jq9Fn4Tb//IHvmIhlIcKRvAhBwzY4FU+CV+LX6d2/lQCJQ0i5REhm1PUBROGFNdxyXPQNYjgGnJoimL1fSfAh/0I+ThhRhwO5rccyx2dh773zcem0uwmELtuugznXgd22EbHoPuDLsayMA2CEBimnYHB+Aa0Th2vVwXQPvTmvBvvvl4sfHrsEh+83FgD75KM3jsLMFIxpG3fq1ohLSW8zSw8OJRd2rf/dKoLClj4jOSJXI8+plR756xPP49LATEF36JZrCwMHf24JrfzQfFXlBnHbCGtzz5zw0h2w0I4oWNwzX4EaQWYAVFd96cZF0HTTCD9OMwpXRNI6Zm3h/SjMGH7oR+QUGXvpnNk7oV4jCHMq0EjS8OhLr++2L4LsfiJOLqV1cejUwEonvlUAhKNyog6DDtpwdFBfB6V9h4wEHoeDIgag67lQ0ri7GwGM34eSjS/HoVSXY9zvLcfV16xCKmAi6bO8pl7jxr/cOvked9eJOCAJ1xsW0Dyqwxx4LMfy6Slz4x1rstXc21m62EF33DvL7fQ/Vhw1EzpDBCC1dTwQn8lr/7sUc6JVAYdWN0IJOQyMHvIqzsXa/g1Bw7R/hlC9G3VGHo/JXl+Pa8+fgxJM24IQTV+DkUzfjqWdqEQ1GAZMewh5I2i47jn0RTJGY6V2QiQWz63HmGZtwwgnrcdKJBTjr5xtQvKIY2Sf1R/GFv4dRsAz5Zw9C7plDYFV5I2ltv1+f7W0c6JVAITwaOBu+5QVZVc+ZjvxDDkbgX7cjmp2LipNPRMH3TwEC3rStLBQPFi4QaoZthsQK31FhcaxAYCgP+uGiHI507Tnkxp6713tvWr4Y2YcPRcNfH4SxaRO2nHcm8k4aimhJcSzPjnLR13oLB3olUFhVI44F27IlhNe2TDQ9/yyK+wxE9nE/wsphwxD6/PPY0BiHxWIBJRzmtVxEXCemerVfTF70Y0zqcKDA9gF2AK7LOEg/hwvg2gHxDwuPeg+5/fshd9hQ5Bx2JPwfzutYYLWfrb6SoRzolUChCd4xA7AsGyHlFg+g/G93Ys2gAWh4bxKdShBmZaZ7v8+FG2GnP4ooA4CdCFwJmG+vVOhWSeMjpYYD2C7EvZjDYKYB1zIRhgGTBhyi1rRR++DtWD9wAJpGj5an6I6plLtE21F7uerzmcuBXgsUNxoWb046Oooy5PPDDJaj5v0X4fj9Uln99P2ipdwyQDt+IxoQ4UwRjMLyDPTtlAyrON/KPSO6aGnnrXSz2QK4TXCdGjS7FkwxoJiwwo3YOnkMrMZmGW7m0zrtPBzopUBhF8GBIYa9CEJfLETlTXfBrSmRym16fW+w3Q+hFo4bEZXL74YQdhvghikZOilE1nRKErHUW3ROFluKi610SANFmWO7MBCCgzqRXwyv3/rIC2gc83acPPmmN0InOevLGciBtAElXt2gxzAz4r6oqGgbXy4aHBm4xQAvleKfVecS99ScWJcjRcXIPWoYinfJQv3dd8FxLJlxiBXbcemo6BejJD0oZUIVVmwGwHfW5FOCiBcy6bJltNdxGd/YILYby3TEAdJ0XPEpZuc++OZMLMnKwob9d0d4wRwBiyhvBJyoaXxpjPDED9K/M5oDCiiMs0pZ4Ba/mA5kTAx0ef3118VbeMKECbIYy/Lly1uvEygPPPCArEtCYggS9Wy7nKPZw3EQrinDlkv+jC3HnQrfX4Zj42GDUfX2KFjhYKwzTbtIrKfAHZ/z/rT76tYLsfs99UsejF3ihBn0MbMQIL1BzknhoGnhVJQdMRCll5yHhjN+hbJhJ8C/Zr7cQ1smwpz0mqNtEQn2as1HH/QaDtBzmLFUKV0fhRWensEECSMYGeHIJemqq6vFzZ7ShYn+/ZdffjnGjRvn9Tlis8p3xr0oDJQu+wgb9zkQTc+8CTcaQsnZZ2DFgP0Q2bK+s8d36LoXQdkIWC1A0IITDKLowr8gb8CRiNbnwVy5GHl79EfJLf+EE+Hs/V5kZAtCCIJ+yB78dogI/XC3coD1ubi4WIK26D2cssAthk2+8847+Pjjj1ulyGeffSbqFwO5FFDohfniiy+2LiRE0daVeBTLMREIVKHy/Ouw+agfwj/6aWw68CCUjLgXjlHvGQrTxEoCxaEu5zSD/sqWE4Y19XMUH/FjVNx5CyqHX4rcE4+HtWKFhwiTTpeugCQikZgaKGkqmrS9Vqle7CK89NJLrfFTbWWYlPcw408YNsmgrEsuuURiUShduOTao48+2urPT9WL93HPROQqFawtIrybHLihsKgwZkEpKo49BIVZWSi7+ha4NlUc4sRT/dp9xw5cYPdGnFssTnXkTaJHjS787Dsoz9odJfvsgcink6mcScAXO/mIsF9EnzKvjxJTCHeACv1od3OAdZMNO9eSVPW1LRqSAopCICUE10akBHn55Zclhp5rFFJqMDFDxiB3lPE3iGEUYbgFMGgtceCbPw4FF5wPp6ZeeiRUbRj/ns5kmy4cw4FpMqLxa1DW3HA/Kp68D7bZJNO0+ih9OMjGGVw4iGDGDD/pJS+dn/6tfLeqzymPR0mUCkRjW4kASTZwywYt8n6YaIFFjZ+NNe2CzU2o/WJubBi3rdxSdI6fYoQRcsOwGYBCv7BgALWLV4oLv+Qi7jU2DNpa4KAWQB0BrIad22ZHigjUr0k1BxKB0lHDnpRE4cgVX65CexkSzGNuPFbA2R6gUFr4bBc+NwjbtDw9CC6q77sDK767G5pnTE41nxLe53pqlWuIYZNIrXrsMSzavT9aPpgi9zIQzGLjwHUQo1H4YzPjU/tyOAl4whv1z8zmQNqAQiDEg4W/1TmqYzsCFE4E7EYsNDhAlKEidhRN095Ffr+BqD36OGw4+jgE1q6F41oyAYVoRrRjsHvgsCsec01hbY3fVFnxHI3xLjvtMSu+mnyYcfWWg7BtIcxoSU5xNP0TFPXti5rjhiHniKGILF2IsMMeCqcytoEgJ/lW7i4eUDoz4yhS9D4zOJA2oHT187ZHosjCJpYPYdsBp6kIrFuOTXv0R83V/4RbUIDiI45B7pk/BOx6Ospvk6IGFzU1vM4+ays3AiO+5hLUhoGAE0KUk0SEXNgSZsybiEzvAc4hFikpQfGAg1A5/FzYFfkoPOUsbD7hGNiVpbF8Y7Eu/KVAuQ1F+kdv4EDvBAptLcGITDjXCKBm/mwUfG8I6v5+PYxVs1Bxyoko/NlZWDGjGvPmh/HZrGYsWNiIwsI6iX9HRMTF1xVXAaa1xChJmkC7Bye85LgDl4Oorgvgy0VBzJoTxOx5ESxZEkbD5ytQfPwxqLvtRthLN6Lm7D8j94RTEN2i3exb2bkTHPRKoHCMqZraUcAbTuLIl3/MeKzbdx8UDR2A3B8cj8bV+Tju8Br02SUfgw/aiKysVbjh6nmIhClN6J/FIQFPkCih0lqe9MrnnHoUBjYXgGB/y8KsiTX4v13zMKBfPvrvU4499ixGbokNzJiCsn79UNX3WBQMHYrol196r4oNYCg1s/X9+qDXcaBXAoU9jHLHhREIAi1Bb4JtThjxz5uRd9hhMGZ9BF8LcMqQAlw35BMsG12FIwdV4/br8xEJs5dNr2JXOtvscDMsOF7zkh8RB65tAA7HqqLyf947jTj4oE1475VyPP3LxTiw71psKOBMYhYqH3sY64ccicopz4ozP30u6WbDpIHS63DxDYJ7JVBE1xfThQFa6GmaoAHQaSpH3YfTxSrfYgLHHJuDH2SNxjs3l2HI4fn46z9WIhyyvDmIOEWR7Y3CiW9Z/PA1+xIRC4YdQMBt8aYeirqYPmkz+h04Fy/dvQlX7DUGffZeitxKzw2Zi3KVzpgLJ9QCv0NVTaediQO9Eihs/02X826ZoMcY597izJEMxmIdp07VXNyAnxy1GIcPysGg7y7DgbvNxi2PzkcoasCOhOCGvQpOfHCmFVr0VRKVjKN2MdtHs4yTRTBvbgWO6zMfR2UtwvcGl+Ko/Tdi49JCsdPLbJWwYAdtmAFbXFbU+/S+93OgVwKF/Qs/3edtDtPSjYSzM7bIUCzNf7YRQdENt2LSgHOx4MMiTHt8Np7v8wcsfWY6DJOzblXDtkPwB8IwiAY1dBtzEiZkmEd4a41MjBd26bofQcOqUozucxkmXjYFs2cGMP7Ue7HmtHNgVxaL+hdFHXz0/QobAINidNppOJA2oHSml6vrHB6O951R5zvmMGemC3nrXYvOZYDT4FENo8pjBIPIv+y3qOk/COaiWcDop1HS/2BExnwqPlfERiQQwIoHHkbZuDGtWdFUIpN+A/Atm4Oiq6+BubFIrrPa+1esQ973j4Pv9uHAsvmo+8lZKDnhDJg5FZJv1G5BwOH89t7qLK0v1ge9ngNpAwpfTCs8/fe50haPKyoqwBnu8/LyWq3zynuY3sZMfE4R1T5342wTvEn6F6J0ff1IoAFl5/0Ka/fNQklWFmpvu08mo5A8bKD6+ZFYl5WF0j2z0PL5DFHZaOSnGhcszEbu8UehKCsL5VdfDtPf6Kl0DCuZ+TFy9++Lsn59sGHYULR8uVAWrKdQkjB8+nS5HCcjHHXaWTigGnDW45R6D9P6vm7dOnkpZ7CnUyQzoKfwRx991LoiF2NWuCIXAaVAIp3rHeAwIcMeiJm/EdlHHY+Cc3+NqFHrzXRvmWgcNwVF/Yeg4aab0Pyrc5B70nFoWbQcruEgUlGC4ssuRvVpZ6D5lrtQfNRRqH/4XrhN3votlGT1/30M84cMQd1kSqOIDB0zbJjQkF4SF1LlUlw67TQcIFAYO8WGnoFbKVtxi377CxYskPUa77vvPgnYuvvuu8XNnpJFSQ1mfsUVV+CDDz4Q8BAkOwoUgoQW+wjj6j9djOjmYjS4smo8zFAjcs7/f8gfeDCsljIYX0xBzm67ouKR/yBKEC2ZjfV774OaR/8tK9BXXPRrlO23L6zcXAEaV/WiEbJo1gzYkWoYThAtji0jb557P111NFB2GoTEPoRA4fqjjJ3iMiUpC9zii7kxFPiee+7BmjVrZG0UxqQQOFS5mLin+71SvXiOIOKz25vYsnN13zBjWzy3LTRywjz6btlBRObMQvbRx6DqtutQee7Pkf2jnyFaXiTrrTjhJpRcfzM2HnEsal97FJ8f1A9bH3sQltWCZrgS2tvqVW8FZXLuBoeDCzGfsChj6LXqtb1ll6nPqYadmlJKFxLiCxcvXixL002cOBGffvqpgGXt2rUCHEoSpu3y9eqUm3SApEXds7EQLbS1iF9jbOah+tfewuasLJQc2B/20vWiqoU4xhsBnEYfSn/4MwkGK736WlnWgZN4exNXuIg6QXD+Fem4ON46LVwpgn0UTjYRht3pBHudfoK+IaM4oICi4lFYb9tLSbnZEygM0HrjjTekb1JXVycrFbG/wvO8zpQeoDhwZdETOmo5MvsK7SScWIKjWhxC5spbtf+8GWXjXxWDIs9xGQgz4NX/4FfzsPXKS4CyEpFKbsiSie/oOdyCFtiOKbMZSZedDxueywvlpMxypLso7dWjXnk+bUDpaj8jPUBhOLErc3EZdMVn++4GYLshWS3YZcfb5ZCy1wGPuBFEHa7YBYQtUybJs8FYE9sbbrbYbwLhAds0ZfTMiPe+5/tsF1GXW6wfv/2aY6+sSDs70WkFCsHCIC1KD/Y5VPBWPFPTAxTPOs/Wngqe59ZIoASAiBdPYjkRcXxkgJVjNXtLZYVdIBhGxGlBlHN4mezr0MU+KpPdyeq/IjrE896b9ktC4DkBK/tVDLPkcHX8F+rjnYEDaQNKV5mTNqDErOyqzlJ68F+nlVg9kPgBcp5/vBtab2s9iD2Q+DvxPfp3r+TAzguUXlkcmuhM5YAGSqaWjKYroziggZJRxaGJyVQOaKBkasloujKKAxooGVUcmphM5YAGSqaWjKYroziQNqDQbsKXq8nueKwyi+dA2oaH4zPRx5oDO8gBVXdT7sJCY6N6OWlULiuJ9GqgJHJE/85EDqi6nHKgUKLQ1X7p0qXinsyM6F7P3/Gg0UDJxGqhaUrkQNqAwkgwBrmMHj1attraWtm/+uqrsgSEAotCqPqdSKD+rTmQCRxQQOE+pUvTUZqsWLFC1mxkwFZ2djbGjh2LpqYm3HXXXRLxSAZQotxxxx0Cqq46UmYC4zQN3y4OUENqbGwEF8MiULj+T3upy272fCklCjvyubm5EhE2bdo0zJo1SwK1/vWvf7UChXEpV111FXidzyT2bdojRp/XHOhuDpSXl0uQIUOBUxbhyErPuBOGA7/11luYNGmSLFE3c+ZM2VOSMHHPNfEIKiYChc/qpDmQiRxg/exs4asuSxR+IBH35ZdfyiKmDP+lqCJYGO24atWqVjCozjwnmWCiDkhiKJV00hzIFA4oTUc17Kqhb4u+LgOFlVxJiLZexHOqc8TOfPy8XiRIJ82BTOOA0nJYX7kuaUqAksxHKonSUcbJvE/fqzmQDg4oDUeN0nZUX7ssUZIhVAMlGW7pe3uKA/EaUEqHh7v6QRooXeWUvq8nOaCB0pPc13n3Gg5ooPSaotKE9iQHNFB6kvs6717DAQ2UXlNUmtCe5EDSQOEwGTc+qIbM1D7+Q9Q57uNtI/ytrvF+3ZmP55o+zlQOJAUUGl3UA6z8dHyk129bnr/Kksn7eawAw9/qHRoomVotNF2JHFB1tkt2FAUKelEyETg8x5no46UEryUCQgGH1+Lv1RJFWKn/ZDgHkgIKKzuB8dVXX4FxJZQonSU+E5+UdFHnCJQnn3yyQ5cAda/eaw70FAeSAopSvUpLSzFixAhxcly+fLksNbdp06ZWR0d+DO9l4Ba9hT/55BMBAp0kZ8yYAS79wOtMFGVcHyVefaPEiZc6PcUcna/mgOKAAgrrZaeWed4ULyGGDx+OK6+8Ev/5z39kyTnlo8/7KG0Iks8//xwPP/ywgOPCCy/ErbfeKgFdKmN6Df/973/HwoUL5d08nyh1FLF6rznQUxxgna6pqZG4qaeeeqrjwC1Vubl4KVcdIrLef/99zJs3T1zq2VfhParvwo9isMvIkSNRUFAg6hrXb5w6dWqr2qYCtxjUxecIkngw9hRjdL6aA/EcIFC2bt2KCRMmSDyKEgrx96jjLN7MykwVilKkurpaXZM9pQivEyxUpXJycgRIXHmL8SgMB6b7/aWXXor6+np5Ro0iKLd8PqsAuc3L9Q/NgR7kgKqTxECnqwLzJgKAs6moxHOqcvOaeiErPvseBNTs2bNRXFwskY7Tp0+X4C2FSAKFEY7s1DOp59X79V5zIBM4wHrOxPrKBU9VfW2LtqTc7AkaRjJSpeKKvxRb7PATNLymkh4eVpzQ+0zmgGrAlQaUMqB01M+geqYQqoGSydVD06Y4kDagKDAwA26UItyoknGvgaKKQO97AwfSBhQFBDKBmahOfuLQr5YovaGaaBrTBpSuslYDpauc0vf1JAc0UHqS+zrvXsMBDZReU1Sa0J7kgAZKT3Jf591rOKCB0muKShPakxzQQOlJ7uu8ew0HMgIonU163Gu4qQndaTmQCBRa6NtLSbmwqJckWuhVsBftLNw4PPz4449DTdKtzsfbYdS79F5zoKc4oOol62u8b2Jb9CQFFFrfueQDnSCnTJmCYDAoPl9cB4ULDCnrPJFJb0waJJl4PtEo2RYx+pzmQHdyQEkUAqbTwK1kCKOrCoOx6GL/6KOPSswKA7i4ZsoTTzwhXph8HyXJDTfcIFGQCiQKNMnkp+/VHEgnBwgUFY/C2eyV93tbeSYlURQC6V7/yiuviBfxnDlzBBjxK24RKDfddJMASAEkUV1rixh9TnOguznACEcGHXKZkpQsTccPYKVn4BbVLvyrdO4AACAASURBVAZsMVCLgOEMLvfdd1/r0nTKbZnShEnpgt3NBJ2f5kBHHFB95rSoXqNGjcJDDz0kahVDgrlCMIHD0GEV0ah9vToqHn0tUzigNCTVsLPetpeSUr0oITZu3CgdevZL6urqwCW09Trz7bFXn89kDqQNKKq/0dbHx49qaYnSFof0uUzjQNqAwhdzo05HYKjj+PNkhgZKplUJTU9bHGC9ZUq56tVWZm2d00Bpiyv6XKZxQAMl00pE05ORHNBAychi+ZYQ5c0AlOTHbtdDSebxzds1UL7JE30m7RxgZY8ArgVwDncbcOHARQguLIDdAW6ud4vrmrARhoso4DreBj/gRj27G+yvn5P5t6K05KX0KzRQUspO/bKucYAoCHsoYH0WoLCyt8AlgOKBYgOOa8BWICKwHAKtGeA5OteCgLE90AlQuMqCBkrXykLfldEcoAShDOF/2QQdhgcgggVNAGoA1At4xDIuUsYEXD9gW0DU9vAgI1IW4PJ5h9P+0MUjpd+vJUpK2alf1lUOUDDQaYlwUUceYng2AFe2Jrjg/NaUPkryWJ6KRoFBXNiOBxaqcaKOWaKdeeDrKjWd3ydATcfwMA2O3JQdhS4rPCYyeT4eoXQyUy4B2iGy80LbGe4gHNiTsAUuVKE4QaLjVfJtPtATObZNACSqU0SKBVgO3Kjq0FhwBEGJ927z0qR/KAM67Sj0Hlb1ta0XJeXCwgrPZSBUUsfcM3gr0ddLBW4RQPGWe/W83u9cHDC9rrl04gkZ2w7Bth0Egw6WLa3E4kWV+GpxPZYtqEblVj8cJwzbNVBS2oglS8qwcFEpFi2swKpl1bCiFlyu7EYx5dLITRjyR+qSMpoTICkL3KLkoK8XQTF58mRZfIVAmDRpkvzmshEq0lFlrIBDghR6U/eZ+k2ZxQEXNthBZ0+d+pcDx22Ryr21KoIzz5yGww9dgEMHrcdpJ63DjI+5ekIApm3j2ScrceIJRRg4aBW+d0Q2zv9pDvwtlB5BwHRiYFH9ntR/NetnZ6HrSUkUVnZ6DL/++uvyYq6lcv755+O2226TWe2VzkcAXXXVVQImPqOQm/pP1G/MHA6wteeoleF1TyyqVwSKhaLNEfTZdwFuuasCL/yvEfvssxFj36iVa1TNbvhrLvbbbw2ee64Rv/p9Ofbv+yXq66m5BIEw+yt8dyNc9mu+0VHZsQ4+lzthqMhzzz2XmsAtgoCVnqtpFRUVge72TU1Nsn4jIx7feOON1sAXSpQ77rhDvIoJEp12Bg6wvxAbkaIWRDuI2yyqkytDuzxJURKfHOmz5JWGMHDQcrz2VhBLlkUwaGAJxo/hsDFgWg5u+ecGDBmyCIvXNuH6G+vx/YFL0FBnILTNcDAnflC2FD8s2wEtMRYMODIaRhAF2wBSPD3bHrNOM5aKyy0yFDhlgVuq0peUlMiLGxoawIVRqXJx7Uf+ZlJOZipwa1vy9K/eyQGCoAlwIt4wLmrgoAKWS4MhUFMVxI035OLSS8rwpz8V4drrSjB/eQVsRFFUGsGuu8zF3nuvxYADlyMrKw/jx9aIhLAsF7fcXISsrA048JCN2CUrG/0GfAxfiyGwmDqlAlddXYE//LEel19Rg3tuXItQSwCO5cBiHwgGLNuFa3OImUDqelKDT9ynNGaeQCEKuYIwJ5Tw+XwYM2YMxo0bB4YEqz4JJQoXj+Rep52FA7SvR2C5XIGNWkIQrhMGNSz+ys4OYZddPsewU9bjB+eWISsrH6PHVonkCQUjmDK5Bm++WY1Ro7Zi0iQfSkv8sJ0mWE4z1qz2Y8KEFowa1YQx4xow6ZPNMINRWFEX112/RYB17vkB9O1bg/67LoavjuCMwHWiIk0ch7P/ECTcuq6KKaCohr2j+ppUH0X1NSiiKLIoMdhnWbNmTevQMKuFBsrOAo7473BhEiouIDih5d2kcAnCQRPyNwcx+NAFeO/Jcsy86E38Yp/p+GhsQOyHcNpq6SMwzXq4rq+Nyu0AEROhCHDT/WW4vM+z2HTbG/jX9QYGDlmJkvowQqiAiRZvHEwGD9TgdDzNHR+nDSiUJtw6SxoonXGoN153YTpBWDDhiAU9Cjdsw3XYYW9GcWEIR/T7BHOOewG+rP0wc7eTsPHTdWL94B8nEoTpxGKYnBa4TgCuZXgddYc2OBMIOiBuAo4BvxNAxPXh/RemYu4uh8Dapy9GH/0WDjvwQ5Q0GDAQgG0bsDkqZroxQ2VyfE0bULpKhgZKVznVu+5zTUuGax0rAMfxw4rWw7UbRSI0bzHw/AkjsHDPn6D4vBuw/tCh2HzdFbB9W2A7ETjhqBgRxWmSfR2KIyUExF0lAhgmoqaNcrioISDLqlD60/NQcsovkfPjczAv6ySM/P4DCLYYHjBCgB2NAFEfYEekg995M/41zzVQvuaFPkolB0wXBInZOrrEmh6zljdX48sjBqL6Nz9HU2kLih+5C+v67Alj5kxEqbLRXYuSiM8SJNRM2Lmh2kTvYbq3WBH43SCaeb/loOmpd7Dl//ZD+KOlqC0sQdGQ/VFwzk9ivmPxH8alEaOgIT+ZpIGSDLf0vV3nAN1KEEFpbQRXX5OH3/0uFxddVIzhwwuxamEpKh97EEXDDoF/xB0oOftk5P3mIlh5pXCMCCJuiLZ6sbBzlJkDxw5CcOC5RInbvctf7KjzBgehpStRdMZx2Py7i2A+cB9KD9wbW18cj2v/WoTf/X4LfntRCa64oghzPq6FGbVgwQ/6HXc1aaB0lVP6vuQ4wIYfLgqL/Nh115kYNnQNzvhRDrKyVmHCOw1AIISqq6/GxqwsFBw1DMH1mxDiE2YUjt0i4KAEkfAT0OHFAO358puDBA5dJb0IFs8248C/cAbm77knVmdlIfzEvfBVWthtr+UYMnQjzjpnM7KySvHi01VwbD5JD2UNlOQKVd+dWg5QU7I4etWCgoIABh2yAJ/M8aOkNIjBhyzC2HcD3uBsYSEqf385glM/EKWMBgLxe3TCcKQit0MW63cUMG3IyJprceCIupmNqtFvYNO1VwKhGtQ0uRg0eBHGT25AaYWFwYesxqsjy2E7NDYml7RESY5f+u4uckCcFGEgNz+AvfdZip+eXYvfXlSJPfZajbcn1yIsUsIFSksAJ4AwLeexkBLDtWmF6bi9Jw7ZjaETgEgXhnHZQDQEo2arUFldb2GfPstw+plbccEFa7H77gvx8v+2gp7I3/QM6PjDNFA65o++ul0ccOHYpvTBK6uiuPnGHFx4XjnO//kWXHVJIb5a1YAooqJq0dkkCIPjViIl2HeP2dA7zNlyHQRdxj16psOA48qwgbiNCX5s+IM2brg2B78+txAX/XYV/nLFJiyaExTbjmWRvgxQvUgEUUifL+4VImmIVO4t5IQeHu6wPvTSi4wrqYNrGjCjBurqKlFZ0YDKshZUlwcRCXhxJxQK9NEy2f+w2fFwYbs2HFrSZTy47c9n9Q7DgF8gZoARKLblwKEK5mlggBWG7fjFXaaiLIiamlpUV9bCCNHyyVE16US1nUEbZ1X9TYtlXlnnaZXnMfd0XYn369JAaaNUev0p6kNs61lrWa0TVB27BXD8EJ8Wi5KEdhOOc1HhCokq1raF/mvG8F7b5juCnk9Z1AIMgswWsEkHxqTzo/IiTg4YX+fkHaUFKJQm8WAgOChZmFQciiJEA0VxYufa246F4oIQ5syoxNw5NZg7p0oCskyD/iw0QjZ7RkX6uZguXIeqECMdxTLoDft2xBLpmFjivsJnQVUqSv9gbqbYKp0QJVcjDDOKxQsbMfuzrZj5WSlmzSlHaZkvc1QvguWtt97C+++/Ly73nM1+4sSJ4qqsnCIpyl588cVvAKgjHulrmc4BFxEjhDvv3IwjDivGgQeuxKGHrMN5v1yGFr8pxr6Iw5afri5A0JX5VOCKu4vVGgbf3ld6qhdXZwMYmUGLSJQuUyb3DixO5WsyUpa2nEbUt0Rw2mlf4eCDNuCA/tkYdnQ2xk8ok+vt5ZF4XvVnWKdT6j1MUcVFhOgxzNBJutu/8MILEnfCpSBU6C9jVi677DKJfFRSKL4Pk0iw/t0bOOAiHA7hj5eWYfChazBmTAMu+E0lhh65Ao0NVLEMWOzDet0S6Y3QBUss77GgRyptHSWZV4KP0HWLw9ExDY+ChhofvZUd+oehFtX1fvTtuxj3/qsJ48eH0KdPMV79XxMceaijXLa9RqdeNuqc4yElK24p1YtgKCwsxGuvvSaLCs2ePVvc7dWKW7yP99x9991Yt25da3Sj0ge3JVP/6k0cCIdt/OUqhu2uwZLP6/Gn/1eP44/JRWMjVXBKDdMDBiu22rbnA9Wz8XsZMrZhG5QoBmpqDQw8eD0e+68fsz+vwcEHr8ebr9YlBRTWVXYTlixZIg0/1yRtLyXlZq+kAyXJyJEjJS6FkoVrpCigMCOqXi+//HLrRBQqHFiJuvaI0eczmwPhCHDlVSXIysrGQQcUIytrLYYMnQWfjz5fnJJLZvWSrr6M0lIiqBR/rM4l7nlPbOPzsvEUj2VPMLIjD2ytsrHbbiux+25F2L9ftsSsvPJ8RVKql9JyWD9TpnopiULJwAUiZ82aJasCc7UthgGvWrVKOvfMPLEzT4ApohJ5o3/3Fg44sB0fsnOaMfOzIKZND+DTTxuwZFkJwmaFzJqipuOifKGaRYHQmrb50Xp22wMlQWLPqveod3H413F8cFCDgBHEvHmN+PhjH6ZP92H27DDKS42kO/MECetrymZh4RcpicCKT6nB39zn5+e3fjDPMeMnn3xS9vHPtd6kD3ohB1y44sLyTdItVMOxfGLHoNHQ4qw7MgtLHDq6IlHigEJwiBc+BwdsS0ZcXbpycRoj14+orYLBqC7RxJl8YqOv6jDn9WJdbi8lpXq195LE84kSJfG6/t0bOUAXe8sbzlJ1tPUzWMNDcMwQXLb6lg3HZJDW1+j4+qj1oW8eJACFgwOGaUp8vMupVpkvwbJN4smAdz45n8hWgzkBkjLVaxvaOvmhgdIJg3rlZVrYmyVAqq7Cj4sv/gxnn70WP/tZKS68sBmfz28WFxcZG+b3caSL0wxxFCymSnUKFnUj73eBqGl571D8coMINBv4wx+W4ZxzyvHzn9Xhgl/X48P3K+GYgZj3pbq5870aYNJA6ZxX+o4ucoBxHiHxvLKRt6kFu+02F6f/sBC/vaAIu+yahzfeY+y7V7HXLVgMI+J18Pl6AoQYEKDwj9ok79iPWOed19RlW4LzgXBjALlfLBcPsCqfid12n42jTyrC+ReXIWuXQrz4UkPMe9gzgHfxk7RE6Sqj9H1JcIDGdoYCA8jPDWHw4KWYMT+I8oowDjlkMSZNCUgN94+ZhqVDj8aW/94tM9vTHuKE/YBJ6zyXf/D8sqS3L70Qv+euYnGWF4dzuyAiQ2Z00PeLlNrw+8tROOx4YP06VDfZGDR4Cd4Z14zS8ggOHrwSj49uEO+Wr9HYte/SEqVrfNJ3JcsBBovARmFeEH36LMXJp5Xhp2dtwV7fzcaHUyLAuhUoOepY5A4eiKX9vgvfm6/AcEII2CbCVggOZ45ww3DZiZZVHDiczIneTbgOox99sNwALOnb0GUlgtIRD2LRnruhcu9dUPmzH6G+oBH7HbAYJx67GT/9SQ522yMXT79eCcupFjeamNzq0pdpoHSJTfqm5DnAjnMQVbVB3Hn7OlxxaQEuuzgHt99UjFVLcrDq1yei7pzTEVmxEr6b/43qI49AYN4cGZOyDM4saUJGxWLDxzSiy5AyZ02lvsVJ7ChxXAem7aDujbexbuBA+N59F9EvFmPr4KOw7oK/YcQtK3DptRvxl8tW47Zr8rB0fr1M+O3Qnz+JpIGSBLP0rV3lAKfU9Rxhw1EHjU0h1NdFUF8bRFN9GEZLA+qvvRR5p58KqzQPzZcOR+0Bg2GuXwObOpFBJ0dOM8Gl6po9JYtqmbimMCCYESyWTCwRRBMs10D4w2ko6XMASp/7D6zCDSg67EQEbn8MLTUt2NLYgMb6EJpqg4gGwxIgJqtEdPVz2G+S2V++ntmUg1DtJT083B5n9PkEDtDm4IPjMM5EXaIY8MaKGystXHPSWIzf9QL4jjsWK/oORe4zr8GxGJ3iwrBdsdxLOLHTALi1gNUijo50fLTtCOyojYjlwu9GwcBhpzmI4j+8grwDjkPVMUMx6Tu/xV0/HI9IRFlZFB1b4bpbZSZLdaYrew2UrnBJ35MkBzjuRfcRqkdqClMa+xijYmJLfhj7912MZ34wGit33R937v53fDp9qywDQfNLC+dIcaKwGYjFvg7jSggUi/MZs/8Ss5EYnCo1IosRhS3g2Xvz8EbWBcjvezhuGjoF/Q9agbqGmO2ErvzS2amHzJynpk7q4pdpoHSRUfq25DjA7oMMVHHwi9OkupGY+kKvck44MQ+zZlSgaskaHH3w55g6kfEh1d66jJKVJ33kkAsFm7bMP+zNZsezzIDg4+yPUfijFq54YCt+evDbqFu8Af8Y0Yj9hy5GnSwJERa3KL6Rsfxi6EzuczJH9erIJSDJb9K3ZwAHpAV2vFkZxQees8jTQAKgqNSPffedj2NP9uHUs8L4v73K8ebEKpiIwFdh4DfnLceZZ+Tjhz/chHPO+RKzZ2yRZy3bwiuv5uCsszbi9NMrceaZhTj/D8sQDERhuRFcdfsW7Lr7Vpzy4wYMOKwC/ft+hMZ6DjO7MN0oOOc9J+u2HW+JCQqmriYlUeg1nFbLPB3KPv30U9x7772y8lZ84BZ9Z9R6E/SnUUR19SP0fZnIAYoStviUJixTdsa9sq2tDeGeO9fj2iu34NrLN+G+27Kxak2tmEu2bA1jjz0X4vQzN+CPf8rBd76zBm+9sRlAJSzTwD+u24zvZBXi0qsrMPToQhyw/xL4fJQVLfh4ylbc8bcSXPenItxy9So89dAXCIc50z1X9OKyqpzmhRaYBCfMJNjHOBTGVaWtM0+J8d///lfWSKFHsQIKA7cuvfRSWQ5CrfOovYeTKLmMvVV1ogkYtt2uNwEEW/eoDV9TBE2NEfgagmhpCiAq1nkT+VvDGDh4LT74OIiysigGD96McePqJfadRsx/3LwBhw9bjM1lITzwQDmGDV4oCwkRkJGghZaGIHz1jWhu9CPgDyASsmFxelfp2MRs/smIkjj+MhCRy9JxS0ngVty7Ww+JwGuuuUZWVH3vvfdaQ395/uGHH0ZeXp5IEnobU/pQsujUmznA8vOMjgQJ10lhZbUszvbIa170oSx53fqZrkySt+++c3D0saU47bTN2GuvlRgzoVqgZpoubv1HDnbfaw1O/f4WDBqUjcP7fokm6bATi3yvdIq8N9JDIOIgajAen+djoI2pgK3ZduGAWg4b+/Xr1+Oll16SsJH2Htvu4WFWeup2mzdvxtq1a3HjjTdKpCMzIlAYWqkmnaA04aaB0l4x9JbzrLRq8+wQbAQpFUzpmHMmL9pJvJnqHYMjZQ4aG038+/71uO7KAgwfvgE3/2MNlq5pYkwkbCeKjz7dir/enIsrr8nH9ddm48lHchAKe2PQFmOZXE5TJHNNyBRI7BfxOQ4pe8CNeV4myUZVH/kNXMMxbaoXVazHHntMwoK5wpYKpWSG8fEoSdKvb+9FHODwLCuc7GNakHQY2HWgpR1VcJx6BFqi8DUaaGryobEpDIPrz7P2u82IGA1oaAqhyWeI+hYMcFntqHQ6vHXoawA0xFbVUlLEc33ZEYmigEKpktZ4FKpTubm5MskE129UGRMonS1H3Ivqgia1Qw5QwsS60vFAoUCQITEGQ8UHRLGix4aJKRAM/vakx9fZ0ETZ4q3JSJXO5UpEsVnuJSCFzxOEfHY7dK5YRmqAiUBJ26gXQaE66l9/oHdEoOg1HBO5shP8VpjY5lN40mvlWac5EiY2QNbvGH5kKJn1mvXboXpG+wrn74rNZcfYFU5yx2clhIXvjKlVxJAAkIZNupgokKgL2xCT1I9uAQop4igX9Tv2PyhdVNJAUZzYyfaq4m/TiLPCcuN6J/Tq8tY4scUW3wJxVBTk0BJPr2HaO+phck16npc1hTi9XSNsSh7xjyFQYt0hAozzHrkESVMsr20I2G4mdxtQPN2U+qm3KYo1UBQndtJ9rB57X8cf3BSK2IG3Pfd5GgMFRLzGTov3oLeIECVDLEpLIlG4VgpRkQAC9Vp5z9eNcSo4221AaY9YDZT2OKPPZxIHNFAyqTQ0LRnLAQ2UjC0aTVgmcUADJZNKQ9OSsRzQQMnYotGEZRIHNFAyqTQ0LRnLAQ2UjC0aTVgmcaBbgELbCY2NTDxmUs6PHB6mU6Ty/ZKLPfxH0didZCj7kiqQ7sy7rbzi6egJfrRFE+sM6Yqnra370nmOLiz0Hua+vbTd3sN8IT/yiy++EHcVLgWhKgaB8sQTT8iKXIoJPbGni82yZctAP7T4AukuWlTDQQ8GhhyUlZWJB0N35Z+YD+lh4zVt2jSpFInXu/M3g/o++eQToUfxqTvzj8+Lzr2dOfHuEFAaGxslAy75QAlCgDAx4yuuuELAQmczemZ296byHT58OO67775uz5/fS8dQLifA6Lmbb74Zt956q9DB393ND+bHfEnTeeedJ40bW1G6l3c3LVzhinz55S9/KfnzNytqd9PC/MgP+iWShrQEblF60HP4gw8+kDiUe+65B01NTSJCGYfCJb8qKytRVVUlex5358Z8uZWWlrbS0p35x+dFOihNuCm64q+n65h5qXfH50vpz/Px19V93bFXtDCWSR0zQrY78m4vD5+PUzEluM/E6WE7JFG4LsqkSZPkAx955JHWNRw7yjAub32oOZBRHGC9bS8Sd4eAwrUaObEE1a7x48e3ut2rvkpPc4EfTlra+/h00xfPB9KidHHm2x2NCfNTNCgeKJ6oPe9R9PDedKbE96u8Vf7dwZP474vnQTyveJ5bPH3bDRR+NEe9ampqZGMnUWUcT0xPH8d/bHfTklgx4vPv6Fr8fTt6zHwSeZD4m+XWXamjOtJdPGnrW+PzVvyIP7fdQGFmqpVSGfPFzKS+vr7DjpG6P517VgaCl3sCuqKiQuhNZ56J7yY/2F+rrq5uzZsDHhzs4LX4gkh8NlW/+f3MhyNvbNTIC/4mbzgYoypud9CiKiC/jXRwYx3iYrk87u7Eb+aIKOsr6SCPVFkpviiadggozCh+Y2YLFy6UFYEffPBB6eSr6/FMUpmnes9KwY3DwuPGjZNRNzKBquHo0aMxZsyYbSa8IG3pTKyMnM6JtHCEhbN9cE96Nm3alHagqMLmaA5HAceOHSv2Ag4qcKSHI08rV64UniU2eungi+I3AcpRQHbmOS/cq6++Knwiv9KZmL+qh9wvWrQI999/P0aNGiUDUexn8/jDDz9s7UYoenYIKOolak+DDQuAcyXNnDlTbCxEqSJO3ZeuPRlBoHAkhbYC0sIRHoKksLAQjz/+uLRezL87aKI0oSRjxWSBcEnxdevWyaw1b7/9dtqlLr+R/CdP2HISFATuZ599Jmur07bzyiuviE0lvhKlq3xID3nC/iyHg1kmHJ7lnvxYs2aN0Jqu/OPLnY0ph8tZLhMmTBAauC8oKJCpttj/jk8pBQpfzspIwCxfvhxcWpuMiScwPvNUH7NVVBuHp2kfKCoqwuTJk6XFIG0EEZNq3VJNQ/z7mAdbc0qy2bNn49133xXQsGKMHDmydSbN+GdSeUyAUKXhnomV4KGHHsJbb70ljRmlLQ3DLDfek26esGxoAH799del8Vq6dKlIOtaXjz/+WLQR3pOuxO9TGxsQNhxURzlyS0kyZ84cUYtp7+JwcXxKKVD4wWyh2Iqzhdi4caO03N1RCGQAWwlV2NR72WJwfJ4qBu0pVHko9plU5YlnRqqPqUoQrKwQ7JewJacnAzdWDBZWOpOSmiwXqn+UbjSs8ZhWcaqC77zzjoCZfFP3p4smvn/Dhg2YOHEi7rzzTrHBsUxYRqw33KvySwcN8WVOzwBO2khJS3qmTp0q9YUNLKVuWiUKGcFWii0WxZiSJun46LbeGQ9IGj8XLFgglWDx4sWiB7NfQBrVfemuGCwE9kmoApInNHZRupE3LIh0Vgryh60z8+D3siV/7bXXMH/+fGksSAcBQz4pOtS+Ld6m4hz5TZrYaLDxYKtN8LI1/+ijj7q1Q09a2EciQClRSIvqL7GcFK3qu1MqUZTYJCPS3TFTHxC/58exsEkHK4dSO3isKoQCSfxz6TomHWzNCRiVP/nCkS/SSXrTmeILW/FASTG2qKrVJC3dwRdVPvxm5seNibyJ1wbSyZPEd1PDUHWVvCEtpDOePj6TUqCwYvbEMJ/6eFX5uFdbPD3qnLpPPZeuvaoIzI9J5c9jgijdQFF5JBa6Agvp4T2KH4redPGD7+U3U9NgufBY0cJr3ZF//LfF8z+xnpAv8fSkFChkODNkBqoA4glL9zE/XG3Mi7SwpWJhqMrA66SPe55LZ+L7VV7MT/FGnU9n3ny3yod5x4Mm8Tdp5JbuxDzi6VC8UXxJd/6J7yct3FT+5AtpIt94nnuVUgoUvjT+5SqTntqTFrX1FA3x+SbDG97LAmSBsfAIeCZVyRMLMj6f+OP28mzvfPyzqT5uL8/2zqc6//be15X8Uw6U9ojR55PnAAuQG/sTHE5evXq1HNMOQWMZwaJT93BAA6V7+LxduRAkSj2hDeT2228X2xSHVDlA0JWWcLsy1g99gwMaKN9gSWacIAjYt4qXGvQ2+MUvfiFGS1KpgdJ9ZaWB0n28TjonAkEBhUO5I0aMkBXOaOWnpNGp+ziggdJ9vE4qJyVR2HlnH4WOg3QJoofBLbfcIu4oWqIkxdIdulkDZYfYl96HCQQChe449BNTcxLk5ORg7ty529gg0kuJfrsGSobWAYJEDQ9zz+FhqmFKFeNvgkin7uGABkr38Hm7cmlLtWrr3Ha9XD+UFAc0UJJiVXBNNwAAAAxJREFUl77528qB/w8zAIFjkiPorQAAAABJRU5ErkJggg==)"
      ]
    },
    {
      "cell_type": "markdown",
      "metadata": {
        "id": "IxGjw5XowM-e"
      },
      "source": [
        "\n",
        "1.  For the above figure, what value of k in KNN method will give the best accuracy for leave-one-out cross-validation. Report accuracy and k value. **(3 marks)**"
      ]
    },
    {
      "cell_type": "code",
      "metadata": {
        "id": "EVH6ve6LUO6o"
      },
      "source": [
        ""
      ],
      "execution_count": null,
      "outputs": []
    },
    {
      "cell_type": "markdown",
      "metadata": {
        "id": "ROd6H3MDLUqi"
      },
      "source": [
        "2.  In classification, overfitting and underfitting is a big problem. Does it happen in Random Forest or not? Why? **(3 marks)**"
      ]
    },
    {
      "cell_type": "markdown",
      "metadata": {
        "id": "3lKALVvvm_nJ"
      },
      "source": [
        "**Answer:**  Every ML algorithm can overfit but randomForest could reduce and most of time overcome overfitting by averaging or combinning the results of different decison trees.Decision Trees are prone to overfitting especially when a tree is deep . by minimizing error due to bias(underfititng) and error due to varience(overfiting) we could manage and prevent a model from overfiting and underfititng.Random forest is a good modeling technique .Random forest is a collection of decison tree . That mean if we have 20 features . we randomly  choose 5 or 6 features for each tree.At this way we could   make trees with different features while we are preventing chosing only few features which casue underfitting and also we could prevent overfitting by choosing many features which cause high varience (noisy data). In fact Random forest models aggregate decison trees to get a good result."
      ]
    },
    {
      "cell_type": "markdown",
      "metadata": {
        "id": "7MpUbHZtMMut"
      },
      "source": [
        "## Part 2: **(24 marks = 4 methods x 6)**\n",
        "\n",
        "Using the following four supervised machine learning methods, answer questions(A-D).\n",
        "1.   Support vector machine\n",
        "2.   K-Nearest Neighbour\n",
        "3.   Decision tree, and\n",
        "4.   Random forest\n",
        "\n",
        "**A.**  Build optimised classification model to predict the chronic kidney disease from the dataset. **(1 marks)**\n",
        "\n",
        "**B.** For each optimised model, answer the followings -  **(3 marks)**\n",
        "\n",
        "*  which hyperparameters were optimised? [Hint: For SVM, kernel can be considered as one of the hyperparameters.]\n",
        "\n",
        "*  what set or range of values were used for each hyperparameter?\n",
        "\n",
        "*  which metric was used to measure the performance?\n",
        "\n",
        "*  justify your design decisions.\n",
        "\n",
        "**C.**  Plot the prediction performance against hyperparameter values to visualise the optimisation process and mark the optimal value. **(1 marks)**\n",
        "\n",
        "**D.** Evaluate the model (obtained from A) performance on the test set. Report the confusion matrix, F1-score and accuracy. **(1 marks)**"
      ]
    },
    {
      "cell_type": "markdown",
      "metadata": {
        "id": "365MPsP5N5s2"
      },
      "source": [
        "**Note:** The dataset has many columns with missing values which is filled with question mark(?).A it is suggested on the discussion form I change them to nan values then use imoputation method to fill them . The dataset has 9 missing values in age column so I filled them with mean age in ag column. for categorial columns with missing values (sg,al,su) I used the first fill method for imputation, for categorial columns with missing values I have used kNN imputation method(knn imputer). KNN  imputations use the whole dataset to replace the NaN value, whereas  mean uses only the column of the missing value, so  it does not effect the dataset structure.after making the model with that apporach I noticed high accuracy so again I tried to make a pipeline and only impute missing values columns in train_data and not toucing data set data to prevent data leakage and false positive evaluation result. still get very high accuracy but the good point is making models become so faster but using pipeline."
      ]
    },
    {
      "cell_type": "markdown",
      "metadata": {
        "id": "jOvIzSHgRNU0"
      },
      "source": [
        "**Approach**\n",
        "`*To reach best optimized model and decide which one has the best score* `: I have tried to  make models with pipeline and Knn imputaion on train and validation data to make decision which model is more optimized .  I have used validation curve for evalauting models based on each hyperparameter and RandomizeSearchCV for assessing a combination of hyperparameters effect on a model."
      ]
    },
    {
      "cell_type": "markdown",
      "metadata": {
        "id": "1bezDsq-bXV4"
      },
      "source": [
        "**Approach :**  At the end for each model I have decide to select  the highest mean_test_score value from Randomsearchsv as criteria   for choosing which combination of the hyperparameters could make the most optimized model."
      ]
    },
    {
      "cell_type": "code",
      "metadata": {
        "id": "j4ecTcxnfHCt"
      },
      "source": [
        "df.loc[(df['sg']=='?'),'sg'] = np.nan\n",
        "df.loc[(df['al']=='?'),'al'] = np.nan\n",
        "df.loc[(df['su']=='?'),'su'] = np.nan"
      ],
      "execution_count": null,
      "outputs": []
    },
    {
      "cell_type": "code",
      "metadata": {
        "id": "CbnR5rDMbHz9"
      },
      "source": [
        "df.loc[(df['age']=='?'),'age'] = np.nan\n",
        "df['age'] = pd.to_numeric(df.age)\n",
        "age_mean = df['age'].mean()\n",
        "age_mean = int(age_mean)\n",
        "df['age'].fillna(age_mean,inplace=True)\n",
        "df['age'] = df['age'].astype('int')"
      ],
      "execution_count": null,
      "outputs": []
    },
    {
      "cell_type": "code",
      "metadata": {
        "id": "5-1rFY0wcCj2"
      },
      "source": [
        "df.loc[(df['bp']=='?'),'bp'] = np.nan\n",
        "df['bp'] = pd.to_numeric(df.bp)\n",
        "#df['bp'].fillna(df['bp'],inplace=True)"
      ],
      "execution_count": null,
      "outputs": []
    },
    {
      "cell_type": "code",
      "metadata": {
        "id": "2pkva1o_cKgG"
      },
      "source": [
        "df.loc[(df['bgr']=='?'),'bgr'] = np.nan\n",
        "df['bgr'] = pd.to_numeric(df.bgr)\n",
        "#df['bgr'].fillna(df['bgr'].mean(),inplace=True)\n"
      ],
      "execution_count": null,
      "outputs": []
    },
    {
      "cell_type": "code",
      "metadata": {
        "id": "LC7XwhoxcQnL"
      },
      "source": [
        "df.loc[(df['bu']=='?'),'bu'] = np.nan\n",
        "df['bu'] = pd.to_numeric(df.bu)\n",
        "#df['bu'].fillna(df['bu'].mean(),inplace=True)"
      ],
      "execution_count": null,
      "outputs": []
    },
    {
      "cell_type": "code",
      "metadata": {
        "id": "0BG4OzKgczO4"
      },
      "source": [
        "df.loc[(df['sc']=='?'),'sc'] = np.nan\n",
        "df['sc'] = pd.to_numeric(df.sc)\n",
        "#df['sc'].fillna(df['sc'].mean(),inplace=True)"
      ],
      "execution_count": null,
      "outputs": []
    },
    {
      "cell_type": "code",
      "metadata": {
        "id": "Gu4tQVp6c6Hy"
      },
      "source": [
        "df.loc[(df['sod']=='?'),'sod'] = np.nan\n",
        "df['sod'] = pd.to_numeric(df.sod)\n",
        "#df['sod'].fillna(df['sod'].mean(),inplace=True)"
      ],
      "execution_count": null,
      "outputs": []
    },
    {
      "cell_type": "code",
      "metadata": {
        "id": "02srb0jrc-vT"
      },
      "source": [
        "df.loc[(df['pot']=='?'),'pot'] = np.nan\n",
        "df['pot'] = pd.to_numeric(df.pot)\n",
        "#df['pot'].fillna(df['pot'].mean(),inplace=True)"
      ],
      "execution_count": null,
      "outputs": []
    },
    {
      "cell_type": "code",
      "metadata": {
        "id": "UqI5DFVMdDkH"
      },
      "source": [
        "df.loc[(df['hemo']=='?'),'hemo'] = np.nan\n",
        "df['hemo'] = pd.to_numeric(df.hemo)\n",
        "#df['hemo'].fillna(df['hemo'].mean(),inplace=True)"
      ],
      "execution_count": null,
      "outputs": []
    },
    {
      "cell_type": "markdown",
      "metadata": {
        "id": "Qx1N8KF2XfQw"
      },
      "source": [
        "**First I have made all models through pipeline process by using mean value for numerical data and most frequent strategiy for categorial data to impute missing values in train data.**\n",
        "\n",
        "---\n",
        "\n"
      ]
    },
    {
      "cell_type": "code",
      "metadata": {
        "id": "WaZmu8BdsSM9"
      },
      "source": [
        "x = df.drop('class',axis=1)\n",
        "y = df['class']"
      ],
      "execution_count": null,
      "outputs": []
    },
    {
      "cell_type": "code",
      "metadata": {
        "id": "qpi--mGwsCI5"
      },
      "source": [
        "x_train, x_test, y_train, y_test = train_test_split(x,y, test_size = 0.30 , random_state =42)"
      ],
      "execution_count": null,
      "outputs": []
    },
    {
      "cell_type": "code",
      "metadata": {
        "id": "E7VHRdb0Ecdr"
      },
      "source": [
        "from sklearn.impute import SimpleImputer\n",
        "numerical_imputer = SimpleImputer(strategy='mean')\n",
        "categorical_imputer = SimpleImputer(strategy='most_frequent')"
      ],
      "execution_count": null,
      "outputs": []
    },
    {
      "cell_type": "code",
      "metadata": {
        "id": "AxEDSLbSEiJb"
      },
      "source": [
        "from sklearn.pipeline import Pipeline\n",
        "from sklearn.preprocessing import StandardScaler\n",
        "# impute and scale\n",
        "numerical_transformer = Pipeline(steps=[\n",
        "  ('imputer', numerical_imputer),\n",
        "  ('scaler', StandardScaler())\n",
        "])\n",
        "# impute and encode\n",
        "categorical_transformer = Pipeline(steps=[\n",
        "  ('imputer', categorical_imputer)\n",
        "])"
      ],
      "execution_count": null,
      "outputs": []
    },
    {
      "cell_type": "code",
      "metadata": {
        "id": "jUY9FTVnE8_N"
      },
      "source": [
        "from sklearn.compose import ColumnTransformer\n",
        "# get columns from X_train\n",
        "\n",
        "#numerical_cols = X_train[['bp','bgr','bu','sc','sod','pot','hemo','age','pcv','wbcc','rbcc']]\n",
        "#categorical_cols = X_train[['al','sg','su','pc','pcc','ba','htn','dm','cad','pe','appet','ane','rbc']]\n",
        "numerical_cols = x_train.select_dtypes(include=['int64','float64']).columns\n",
        "categorical_cols = x_train.select_dtypes(include='object').columns\n",
        "preprocessor = ColumnTransformer(\n",
        "  transformers=[\n",
        "    ('num', numerical_transformer, numerical_cols),\n",
        "    ('cat', categorical_transformer, categorical_cols),\n",
        "])"
      ],
      "execution_count": null,
      "outputs": []
    },
    {
      "cell_type": "markdown",
      "metadata": {
        "id": "WO6zoP9VIebE"
      },
      "source": [
        "***Note:*** In all 4 algorithms I have used the result from randomsearchcv for tunning the hyperparameters to make an optimized model.It is a good way to find optimal hyperparameters for making an optimized model.\n"
      ]
    },
    {
      "cell_type": "markdown",
      "metadata": {
        "id": "DLAylrDOUnub"
      },
      "source": [
        "## *support vector machine for pipeline *"
      ]
    },
    {
      "cell_type": "code",
      "metadata": {
        "id": "_xNuDsdkV4KE"
      },
      "source": [
        "pipeline_svm = Pipeline(steps=[\n",
        "  ('preprocessor', preprocessor),\n",
        "  #('model', model_svm)\n",
        "   ('poly_svm', SVC(kernel='poly'))\n",
        "])"
      ],
      "execution_count": null,
      "outputs": []
    },
    {
      "cell_type": "code",
      "metadata": {
        "id": "zAHo2GGUWWhB"
      },
      "source": [
        "pipeline_svm.fit(x_train,y_train)"
      ],
      "execution_count": null,
      "outputs": []
    },
    {
      "cell_type": "code",
      "metadata": {
        "id": "OWdHKqOmWdpw"
      },
      "source": [
        "y_pred_svm = pipeline_svm.predict(x_test)"
      ],
      "execution_count": null,
      "outputs": []
    },
    {
      "cell_type": "code",
      "metadata": {
        "id": "qhzGFteXWr8Q",
        "outputId": "a1d26981-26bd-445c-d0a3-fd4a53299476",
        "colab": {
          "base_uri": "https://localhost:8080/"
        }
      },
      "source": [
        "print(f1_score(y_test,y_pred_svm,average=None))"
      ],
      "execution_count": null,
      "outputs": [
        {
          "output_type": "stream",
          "text": [
            "[0.96688742 0.94382022]\n"
          ],
          "name": "stdout"
        }
      ]
    },
    {
      "cell_type": "code",
      "metadata": {
        "id": "Zjhg84yYPZQw",
        "outputId": "77eeb838-d44e-41c8-afbb-0dd9e0bcf431",
        "colab": {
          "base_uri": "https://localhost:8080/",
          "height": 173
        }
      },
      "source": [
        "x_test.head(4)"
      ],
      "execution_count": null,
      "outputs": [
        {
          "output_type": "execute_result",
          "data": {
            "text/html": [
              "<div>\n",
              "<style scoped>\n",
              "    .dataframe tbody tr th:only-of-type {\n",
              "        vertical-align: middle;\n",
              "    }\n",
              "\n",
              "    .dataframe tbody tr th {\n",
              "        vertical-align: top;\n",
              "    }\n",
              "\n",
              "    .dataframe thead th {\n",
              "        text-align: right;\n",
              "    }\n",
              "</style>\n",
              "<table border=\"1\" class=\"dataframe\">\n",
              "  <thead>\n",
              "    <tr style=\"text-align: right;\">\n",
              "      <th></th>\n",
              "      <th>age</th>\n",
              "      <th>bp</th>\n",
              "      <th>sg</th>\n",
              "      <th>al</th>\n",
              "      <th>su</th>\n",
              "      <th>rbc</th>\n",
              "      <th>pc</th>\n",
              "      <th>pcc</th>\n",
              "      <th>ba</th>\n",
              "      <th>bgr</th>\n",
              "      <th>bu</th>\n",
              "      <th>sc</th>\n",
              "      <th>sod</th>\n",
              "      <th>pot</th>\n",
              "      <th>hemo</th>\n",
              "      <th>pcv</th>\n",
              "      <th>wbcc</th>\n",
              "      <th>rbcc</th>\n",
              "      <th>htn</th>\n",
              "      <th>dm</th>\n",
              "      <th>cad</th>\n",
              "      <th>appet</th>\n",
              "      <th>pe</th>\n",
              "      <th>ane</th>\n",
              "    </tr>\n",
              "  </thead>\n",
              "  <tbody>\n",
              "    <tr>\n",
              "      <th>209</th>\n",
              "      <td>19</td>\n",
              "      <td>70.0</td>\n",
              "      <td>1.02</td>\n",
              "      <td>0</td>\n",
              "      <td>0</td>\n",
              "      <td>0</td>\n",
              "      <td>0</td>\n",
              "      <td>1</td>\n",
              "      <td>1</td>\n",
              "      <td>NaN</td>\n",
              "      <td>NaN</td>\n",
              "      <td>NaN</td>\n",
              "      <td>NaN</td>\n",
              "      <td>NaN</td>\n",
              "      <td>11.5</td>\n",
              "      <td>0</td>\n",
              "      <td>6900</td>\n",
              "      <td>0.0</td>\n",
              "      <td>1</td>\n",
              "      <td>1</td>\n",
              "      <td>1</td>\n",
              "      <td>1</td>\n",
              "      <td>1</td>\n",
              "      <td>1</td>\n",
              "    </tr>\n",
              "    <tr>\n",
              "      <th>280</th>\n",
              "      <td>47</td>\n",
              "      <td>80.0</td>\n",
              "      <td>NaN</td>\n",
              "      <td>NaN</td>\n",
              "      <td>NaN</td>\n",
              "      <td>0</td>\n",
              "      <td>0</td>\n",
              "      <td>1</td>\n",
              "      <td>1</td>\n",
              "      <td>93.0</td>\n",
              "      <td>33.0</td>\n",
              "      <td>0.9</td>\n",
              "      <td>144.0</td>\n",
              "      <td>4.5</td>\n",
              "      <td>13.3</td>\n",
              "      <td>52</td>\n",
              "      <td>8100</td>\n",
              "      <td>5.2</td>\n",
              "      <td>1</td>\n",
              "      <td>1</td>\n",
              "      <td>1</td>\n",
              "      <td>1</td>\n",
              "      <td>1</td>\n",
              "      <td>1</td>\n",
              "    </tr>\n",
              "    <tr>\n",
              "      <th>33</th>\n",
              "      <td>60</td>\n",
              "      <td>100.0</td>\n",
              "      <td>1.02</td>\n",
              "      <td>2</td>\n",
              "      <td>0</td>\n",
              "      <td>1</td>\n",
              "      <td>1</td>\n",
              "      <td>1</td>\n",
              "      <td>1</td>\n",
              "      <td>140.0</td>\n",
              "      <td>55.0</td>\n",
              "      <td>2.5</td>\n",
              "      <td>NaN</td>\n",
              "      <td>NaN</td>\n",
              "      <td>10.1</td>\n",
              "      <td>29</td>\n",
              "      <td>0</td>\n",
              "      <td>0.0</td>\n",
              "      <td>0</td>\n",
              "      <td>1</td>\n",
              "      <td>1</td>\n",
              "      <td>0</td>\n",
              "      <td>1</td>\n",
              "      <td>1</td>\n",
              "    </tr>\n",
              "    <tr>\n",
              "      <th>210</th>\n",
              "      <td>59</td>\n",
              "      <td>100.0</td>\n",
              "      <td>1.015</td>\n",
              "      <td>4</td>\n",
              "      <td>2</td>\n",
              "      <td>0</td>\n",
              "      <td>0</td>\n",
              "      <td>1</td>\n",
              "      <td>1</td>\n",
              "      <td>255.0</td>\n",
              "      <td>132.0</td>\n",
              "      <td>12.8</td>\n",
              "      <td>135.0</td>\n",
              "      <td>5.7</td>\n",
              "      <td>7.3</td>\n",
              "      <td>20</td>\n",
              "      <td>9800</td>\n",
              "      <td>3.9</td>\n",
              "      <td>0</td>\n",
              "      <td>0</td>\n",
              "      <td>0</td>\n",
              "      <td>1</td>\n",
              "      <td>1</td>\n",
              "      <td>0</td>\n",
              "    </tr>\n",
              "  </tbody>\n",
              "</table>\n",
              "</div>"
            ],
            "text/plain": [
              "     age     bp     sg   al   su  rbc  pc  ...  rbcc  htn  dm  cad  appet  pe  ane\n",
              "209   19   70.0   1.02    0    0    0   0  ...   0.0    1   1    1      1   1    1\n",
              "280   47   80.0    NaN  NaN  NaN    0   0  ...   5.2    1   1    1      1   1    1\n",
              "33    60  100.0   1.02    2    0    1   1  ...   0.0    0   1    1      0   1    1\n",
              "210   59  100.0  1.015    4    2    0   0  ...   3.9    0   0    0      1   1    0\n",
              "\n",
              "[4 rows x 24 columns]"
            ]
          },
          "metadata": {
            "tags": []
          },
          "execution_count": 106
        }
      ]
    },
    {
      "cell_type": "code",
      "metadata": {
        "id": "iFu5uxGMPePx"
      },
      "source": [
        "## hyperparameter  and range of values \n",
        "\n",
        "kernel = ['poly','rbf','linear']\n",
        "degree = range(1,10)\n",
        "C = [1e2,1e-2,1e0]\n",
        "gamma = [1e2,1e-2]"
      ],
      "execution_count": null,
      "outputs": []
    },
    {
      "cell_type": "code",
      "metadata": {
        "id": "K6hSPFBbC-l5"
      },
      "source": [
        "param_grid = {\"poly_svm__kernel\": ['poly','rbf','linear'], \"poly_svm__C\":[1e2,1e-2,1e0], 'poly_svm__degree':degree,'poly_svm__gamma':gamma}\n"
      ],
      "execution_count": null,
      "outputs": []
    },
    {
      "cell_type": "markdown",
      "metadata": {
        "id": "uAnGbTXq-Lh1"
      },
      "source": [
        "**make a randomize searchCV with hyperparameters as parameters**"
      ]
    },
    {
      "cell_type": "code",
      "metadata": {
        "id": "4ooCzBUxQHHV"
      },
      "source": [
        "rand = RandomizedSearchCV(pipeline_svm,param_distributions=param_grid,cv=10, n_iter=10,scoring='accuracy')\n",
        "rand.fit(x_train,y_train)"
      ],
      "execution_count": null,
      "outputs": []
    },
    {
      "cell_type": "code",
      "metadata": {
        "id": "4106DcXEIkJ0",
        "outputId": "c5ce30b3-cdeb-4759-d5e9-df8b2673ed53",
        "colab": {
          "base_uri": "https://localhost:8080/",
          "height": 199
        }
      },
      "source": [
        "rand_df = pd.DataFrame(rand.cv_results_)\n",
        "max_value =  rand_df.loc[(rand_df.mean_test_score == max(rand_df.mean_test_score))  ]\n",
        "max_value"
      ],
      "execution_count": null,
      "outputs": [
        {
          "output_type": "execute_result",
          "data": {
            "text/html": [
              "<div>\n",
              "<style scoped>\n",
              "    .dataframe tbody tr th:only-of-type {\n",
              "        vertical-align: middle;\n",
              "    }\n",
              "\n",
              "    .dataframe tbody tr th {\n",
              "        vertical-align: top;\n",
              "    }\n",
              "\n",
              "    .dataframe thead th {\n",
              "        text-align: right;\n",
              "    }\n",
              "</style>\n",
              "<table border=\"1\" class=\"dataframe\">\n",
              "  <thead>\n",
              "    <tr style=\"text-align: right;\">\n",
              "      <th></th>\n",
              "      <th>mean_fit_time</th>\n",
              "      <th>std_fit_time</th>\n",
              "      <th>mean_score_time</th>\n",
              "      <th>std_score_time</th>\n",
              "      <th>param_poly_svm__kernel</th>\n",
              "      <th>param_poly_svm__gamma</th>\n",
              "      <th>param_poly_svm__degree</th>\n",
              "      <th>param_poly_svm__C</th>\n",
              "      <th>params</th>\n",
              "      <th>split0_test_score</th>\n",
              "      <th>split1_test_score</th>\n",
              "      <th>split2_test_score</th>\n",
              "      <th>split3_test_score</th>\n",
              "      <th>split4_test_score</th>\n",
              "      <th>split5_test_score</th>\n",
              "      <th>split6_test_score</th>\n",
              "      <th>split7_test_score</th>\n",
              "      <th>split8_test_score</th>\n",
              "      <th>split9_test_score</th>\n",
              "      <th>mean_test_score</th>\n",
              "      <th>std_test_score</th>\n",
              "      <th>rank_test_score</th>\n",
              "    </tr>\n",
              "  </thead>\n",
              "  <tbody>\n",
              "    <tr>\n",
              "      <th>1</th>\n",
              "      <td>0.007891</td>\n",
              "      <td>0.000090</td>\n",
              "      <td>0.003255</td>\n",
              "      <td>0.000075</td>\n",
              "      <td>linear</td>\n",
              "      <td>0.01</td>\n",
              "      <td>8</td>\n",
              "      <td>0.01</td>\n",
              "      <td>{'poly_svm__kernel': 'linear', 'poly_svm__gamm...</td>\n",
              "      <td>1.0</td>\n",
              "      <td>0.928571</td>\n",
              "      <td>1.0</td>\n",
              "      <td>0.928571</td>\n",
              "      <td>1.0</td>\n",
              "      <td>1.0</td>\n",
              "      <td>1.0</td>\n",
              "      <td>0.964286</td>\n",
              "      <td>0.892857</td>\n",
              "      <td>0.928571</td>\n",
              "      <td>0.964286</td>\n",
              "      <td>0.039123</td>\n",
              "      <td>1</td>\n",
              "    </tr>\n",
              "    <tr>\n",
              "      <th>3</th>\n",
              "      <td>0.008541</td>\n",
              "      <td>0.000701</td>\n",
              "      <td>0.003520</td>\n",
              "      <td>0.000332</td>\n",
              "      <td>linear</td>\n",
              "      <td>100</td>\n",
              "      <td>6</td>\n",
              "      <td>0.01</td>\n",
              "      <td>{'poly_svm__kernel': 'linear', 'poly_svm__gamm...</td>\n",
              "      <td>1.0</td>\n",
              "      <td>0.928571</td>\n",
              "      <td>1.0</td>\n",
              "      <td>0.928571</td>\n",
              "      <td>1.0</td>\n",
              "      <td>1.0</td>\n",
              "      <td>1.0</td>\n",
              "      <td>0.964286</td>\n",
              "      <td>0.892857</td>\n",
              "      <td>0.928571</td>\n",
              "      <td>0.964286</td>\n",
              "      <td>0.039123</td>\n",
              "      <td>1</td>\n",
              "    </tr>\n",
              "  </tbody>\n",
              "</table>\n",
              "</div>"
            ],
            "text/plain": [
              "   mean_fit_time  std_fit_time  ...  std_test_score  rank_test_score\n",
              "1       0.007891      0.000090  ...        0.039123                1\n",
              "3       0.008541      0.000701  ...        0.039123                1\n",
              "\n",
              "[2 rows x 22 columns]"
            ]
          },
          "metadata": {
            "tags": []
          },
          "execution_count": 139
        }
      ]
    },
    {
      "cell_type": "markdown",
      "metadata": {
        "id": "m5Teq6f6-gRD"
      },
      "source": [
        "**I have considerd the highest mean test score in randomsearch result as criterion  which combination of hyperparameters will make an optimized model**"
      ]
    },
    {
      "cell_type": "markdown",
      "metadata": {
        "id": "pLiYTz2Q2JPS"
      },
      "source": [
        "The random searchcv result shows we can make a model with svm with high acciracy if we initialize the hyperparmater with: \n",
        "kernel = linear,gamma=0.01 or 100 ,degree=8 C=0.01 \n"
      ]
    },
    {
      "cell_type": "code",
      "metadata": {
        "id": "ELxmIc3UKO9g",
        "outputId": "8fcedce3-47fa-44a2-82f8-88d83cf44b22",
        "colab": {
          "base_uri": "https://localhost:8080/"
        }
      },
      "source": [
        "degree = range(1,11)\n",
        "\n",
        "train_scores, valid_scores = validation_curve( pipeline_svm, x_train, y_train, param_name=\"poly_svm__degree\", param_range=degree,\n",
        "    cv=10, scoring=\"accuracy\")\n",
        "\n",
        "print(train_scores.shape)"
      ],
      "execution_count": null,
      "outputs": [
        {
          "output_type": "stream",
          "text": [
            "(10, 10)\n"
          ],
          "name": "stdout"
        }
      ]
    },
    {
      "cell_type": "code",
      "metadata": {
        "id": "6FjS75jYMDWA",
        "outputId": "eca3ef86-8ab5-4ebf-9235-f888ad9c1c71",
        "colab": {
          "base_uri": "https://localhost:8080/",
          "height": 312
        }
      },
      "source": [
        "mean_train_score = np.mean(train_scores, axis=1)\n",
        "mean_val_score = np.mean(valid_scores, axis=1)\n",
        "plt.plot(degree, mean_train_score, color=\"blue\", linewidth=2, label=\"Training\")\n",
        "plt.plot(degree, mean_val_score, color=\"red\", linewidth=2, label=\"Validation\")\n",
        "plt.legend(loc=\"upper right\")\n",
        "plt.xlabel(\"degree\")\n",
        "plt.ylabel(\"Model Accuracy\")\n",
        "plt.title(\"Accuracy comparison of training/validation set\")"
      ],
      "execution_count": null,
      "outputs": [
        {
          "output_type": "execute_result",
          "data": {
            "text/plain": [
              "Text(0.5, 1.0, 'Accuracy comparison of training/validation set')"
            ]
          },
          "metadata": {
            "tags": []
          },
          "execution_count": 164
        },
        {
          "output_type": "display_data",
          "data": {
            "image/png": "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\n",
            "text/plain": [
              "<Figure size 432x288 with 1 Axes>"
            ]
          },
          "metadata": {
            "tags": [],
            "needs_background": "light"
          }
        }
      ]
    },
    {
      "cell_type": "code",
      "metadata": {
        "id": "IyFvwYEA1OcM"
      },
      "source": [
        "## the above figures shows the model with poly as kernel can make a model with high accuracy when the degree is three."
      ],
      "execution_count": null,
      "outputs": []
    },
    {
      "cell_type": "code",
      "metadata": {
        "id": "BrdS9y9vMTMd",
        "outputId": "eb7539fd-d288-423e-b0c5-49e72b809c33",
        "colab": {
          "base_uri": "https://localhost:8080/"
        }
      },
      "source": [
        "\n",
        "kernel = ['rbf','poly','linear']\n",
        "\n",
        "train_scores, valid_scores = validation_curve( pipeline_svm, x_train, y_train, param_name=\"poly_svm__kernel\", param_range=kernel,\n",
        "    cv=10, scoring=\"accuracy\")\n",
        "\n",
        "#Size of train_scores will be: length of parameter (max_depth_range) X number of folds\n",
        "print(train_scores.shape)"
      ],
      "execution_count": null,
      "outputs": [
        {
          "output_type": "stream",
          "text": [
            "(3, 10)\n"
          ],
          "name": "stdout"
        }
      ]
    },
    {
      "cell_type": "code",
      "metadata": {
        "id": "n1yvlwwKMpYF",
        "outputId": "430ae147-9696-4285-abab-7b679f7003c5",
        "colab": {
          "base_uri": "https://localhost:8080/",
          "height": 312
        }
      },
      "source": [
        "mean_train_score = np.mean(train_scores, axis=1)\n",
        "mean_val_score = np.mean(valid_scores, axis=1)\n",
        "plt.plot(kernel, mean_train_score, color=\"blue\", linewidth=2, label=\"Training\")\n",
        "plt.plot(kernel, mean_val_score, color=\"red\", linewidth=2, label=\"Validation\")\n",
        "plt.legend(loc=\"lower right\")\n",
        "plt.xlabel(\"kerenl\")\n",
        "plt.ylabel(\"Model Accuracy\")\n",
        "plt.title(\"Accuracy comparison of training/validation set\")"
      ],
      "execution_count": null,
      "outputs": [
        {
          "output_type": "execute_result",
          "data": {
            "text/plain": [
              "Text(0.5, 1.0, 'Accuracy comparison of training/validation set')"
            ]
          },
          "metadata": {
            "tags": []
          },
          "execution_count": 143
        },
        {
          "output_type": "display_data",
          "data": {
            "image/png": "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\n",
            "text/plain": [
              "<Figure size 432x288 with 1 Axes>"
            ]
          },
          "metadata": {
            "tags": [],
            "needs_background": "light"
          }
        }
      ]
    },
    {
      "cell_type": "markdown",
      "metadata": {
        "id": "OPVcI_3R866E"
      },
      "source": [
        "**The figure shows poly kernel could be a good choice for high accuracy**"
      ]
    },
    {
      "cell_type": "markdown",
      "metadata": {
        "id": "qu4Qru5XhNSb"
      },
      "source": [
        "**Best Optimized model for support vector machine**"
      ]
    },
    {
      "cell_type": "code",
      "metadata": {
        "id": "OmByE0wQhRre"
      },
      "source": [
        "pipeline_svm_op = Pipeline(steps=[\n",
        "  ('preprocessor', preprocessor),\n",
        "  #('model', model_svm)\n",
        "   ('linear_svm', SVC(kernel='linear',gamma=1e-2,degree=8,C=1e-2))\n",
        "])"
      ],
      "execution_count": null,
      "outputs": []
    },
    {
      "cell_type": "code",
      "metadata": {
        "id": "jRyY6lHFhhX4"
      },
      "source": [
        "pipeline_svm_op.fit(x_train,y_train)"
      ],
      "execution_count": null,
      "outputs": []
    },
    {
      "cell_type": "code",
      "metadata": {
        "id": "xApOXOTZiH83"
      },
      "source": [
        "y_predict = pipeline_svm_op.predict(x_test)"
      ],
      "execution_count": null,
      "outputs": []
    },
    {
      "cell_type": "code",
      "metadata": {
        "id": "TBzgoI4riZDR",
        "outputId": "a6e9f093-b747-4612-cdda-3df8df094047",
        "colab": {
          "base_uri": "https://localhost:8080/"
        }
      },
      "source": [
        "## accuracy score\n",
        "print(accuracy_score(y_test,y_predict))"
      ],
      "execution_count": null,
      "outputs": [
        {
          "output_type": "stream",
          "text": [
            "0.9666666666666667\n"
          ],
          "name": "stdout"
        }
      ]
    },
    {
      "cell_type": "code",
      "metadata": {
        "id": "Zd3PUVW7it4M",
        "outputId": "29c4ff73-7d3f-48dd-8c00-6176e79c63de",
        "colab": {
          "base_uri": "https://localhost:8080/"
        }
      },
      "source": [
        "# confusion matrix\n",
        "print ( confusion_matrix(y_test,y_predict))"
      ],
      "execution_count": null,
      "outputs": [
        {
          "output_type": "stream",
          "text": [
            "[[72  4]\n",
            " [ 0 44]]\n"
          ],
          "name": "stdout"
        }
      ]
    },
    {
      "cell_type": "code",
      "metadata": {
        "id": "9-ZnFFpJi6q1",
        "outputId": "d33ae740-3439-4de0-8746-02b0ad7dc150",
        "colab": {
          "base_uri": "https://localhost:8080/"
        }
      },
      "source": [
        "## f1_score\n",
        "print (f1_score(y_test,y_predict,average=None, labels=['ckd','notckd']))"
      ],
      "execution_count": null,
      "outputs": [
        {
          "output_type": "stream",
          "text": [
            "[0.97297297 0.95652174]\n"
          ],
          "name": "stdout"
        }
      ]
    },
    {
      "cell_type": "code",
      "metadata": {
        "id": "5D6YyKaKwb1v",
        "outputId": "65d649bd-29e8-4ba9-bdfa-b626628f9eed",
        "colab": {
          "base_uri": "https://localhost:8080/"
        }
      },
      "source": [
        "scores = cross_val_score(pipeline_svm_op,x,y,cv=10)\n",
        "scores"
      ],
      "execution_count": null,
      "outputs": [
        {
          "output_type": "execute_result",
          "data": {
            "text/plain": [
              "array([1.   , 0.95 , 0.95 , 1.   , 0.8  , 0.975, 0.975, 1.   , 1.   ,\n",
              "       1.   ])"
            ]
          },
          "metadata": {
            "tags": []
          },
          "execution_count": 48
        }
      ]
    },
    {
      "cell_type": "code",
      "metadata": {
        "id": "4Y16LOxEwnQU",
        "outputId": "0a25bc16-7d5b-47cc-ce38-08561d9b58c8",
        "colab": {
          "base_uri": "https://localhost:8080/"
        }
      },
      "source": [
        "print(\"Accuracy: %0.2f (+/- %0.2f)\" % (scores.mean(), scores.std() * 2))"
      ],
      "execution_count": null,
      "outputs": [
        {
          "output_type": "stream",
          "text": [
            "Accuracy: 0.97 (+/- 0.12)\n"
          ],
          "name": "stdout"
        }
      ]
    },
    {
      "cell_type": "markdown",
      "metadata": {
        "id": "wdkhr9d1VEQq"
      },
      "source": [
        "**K-nearest model**"
      ]
    },
    {
      "cell_type": "code",
      "metadata": {
        "id": "dRIJuxBoVCfL"
      },
      "source": [
        "pipeline_knn = Pipeline(steps=[\n",
        "  ('preprocessor', preprocessor),\n",
        "  #('model', model_svm)\n",
        "   ('knn_model', KNeighborsClassifier(n_neighbors=3))\n",
        "])"
      ],
      "execution_count": null,
      "outputs": []
    },
    {
      "cell_type": "code",
      "metadata": {
        "id": "hRQ23cImVCRu"
      },
      "source": [
        "pipeline_knn.fit(x_train,y_train)"
      ],
      "execution_count": null,
      "outputs": []
    },
    {
      "cell_type": "code",
      "metadata": {
        "id": "C7kp_5WyWo1Q"
      },
      "source": [
        "n_neighbors = [3,5,10,20]\n",
        "weights = ['uniform','distance']\n",
        "metrics = ['euclidean','manhattan','chebyshev','minkowski']\n",
        "leaf_size =[30,40,100]\n",
        "n_jobs = range (1,11)"
      ],
      "execution_count": null,
      "outputs": []
    },
    {
      "cell_type": "code",
      "metadata": {
        "id": "T2FK8iPOWGuZ"
      },
      "source": [
        "param_grid = {'knn_model__weights':weights, 'knn_model__metric':metrics,'knn_model__n_neighbors':n_neighbors,'knn_model__leaf_size':leaf_size\n",
        "              ,'knn_model__n_jobs':n_jobs}"
      ],
      "execution_count": null,
      "outputs": []
    },
    {
      "cell_type": "code",
      "metadata": {
        "id": "WCQiB1JzV_rg"
      },
      "source": [
        "rand = RandomizedSearchCV(pipeline_knn,param_distributions=param_grid,cv=10, n_iter=10,scoring='accuracy')\n",
        "rand.fit(x_train,y_train)"
      ],
      "execution_count": null,
      "outputs": []
    },
    {
      "cell_type": "code",
      "metadata": {
        "id": "GHfxuudlYCra",
        "outputId": "48286127-888c-4111-f314-db38d060310f",
        "colab": {
          "base_uri": "https://localhost:8080/",
          "height": 264
        }
      },
      "source": [
        "rand_df = pd.DataFrame(rand.cv_results_)\n",
        "max_value =  rand_df.loc[(rand_df.mean_test_score == max(rand_df.mean_test_score))  ]\n",
        "max_value"
      ],
      "execution_count": null,
      "outputs": [
        {
          "output_type": "execute_result",
          "data": {
            "text/html": [
              "<div>\n",
              "<style scoped>\n",
              "    .dataframe tbody tr th:only-of-type {\n",
              "        vertical-align: middle;\n",
              "    }\n",
              "\n",
              "    .dataframe tbody tr th {\n",
              "        vertical-align: top;\n",
              "    }\n",
              "\n",
              "    .dataframe thead th {\n",
              "        text-align: right;\n",
              "    }\n",
              "</style>\n",
              "<table border=\"1\" class=\"dataframe\">\n",
              "  <thead>\n",
              "    <tr style=\"text-align: right;\">\n",
              "      <th></th>\n",
              "      <th>mean_fit_time</th>\n",
              "      <th>std_fit_time</th>\n",
              "      <th>mean_score_time</th>\n",
              "      <th>std_score_time</th>\n",
              "      <th>param_knn_model__weights</th>\n",
              "      <th>param_knn_model__n_neighbors</th>\n",
              "      <th>param_knn_model__n_jobs</th>\n",
              "      <th>param_knn_model__metric</th>\n",
              "      <th>param_knn_model__leaf_size</th>\n",
              "      <th>params</th>\n",
              "      <th>split0_test_score</th>\n",
              "      <th>split1_test_score</th>\n",
              "      <th>split2_test_score</th>\n",
              "      <th>split3_test_score</th>\n",
              "      <th>split4_test_score</th>\n",
              "      <th>split5_test_score</th>\n",
              "      <th>split6_test_score</th>\n",
              "      <th>split7_test_score</th>\n",
              "      <th>split8_test_score</th>\n",
              "      <th>split9_test_score</th>\n",
              "      <th>mean_test_score</th>\n",
              "      <th>std_test_score</th>\n",
              "      <th>rank_test_score</th>\n",
              "    </tr>\n",
              "  </thead>\n",
              "  <tbody>\n",
              "    <tr>\n",
              "      <th>1</th>\n",
              "      <td>0.030236</td>\n",
              "      <td>0.012061</td>\n",
              "      <td>0.045721</td>\n",
              "      <td>0.015432</td>\n",
              "      <td>distance</td>\n",
              "      <td>3</td>\n",
              "      <td>7</td>\n",
              "      <td>manhattan</td>\n",
              "      <td>100</td>\n",
              "      <td>{'knn_model__weights': 'distance', 'knn_model_...</td>\n",
              "      <td>0.892857</td>\n",
              "      <td>0.928571</td>\n",
              "      <td>0.964286</td>\n",
              "      <td>0.857143</td>\n",
              "      <td>0.964286</td>\n",
              "      <td>0.964286</td>\n",
              "      <td>1.0</td>\n",
              "      <td>0.928571</td>\n",
              "      <td>0.857143</td>\n",
              "      <td>0.928571</td>\n",
              "      <td>0.928571</td>\n",
              "      <td>0.045175</td>\n",
              "      <td>1</td>\n",
              "    </tr>\n",
              "    <tr>\n",
              "      <th>6</th>\n",
              "      <td>0.007669</td>\n",
              "      <td>0.000093</td>\n",
              "      <td>0.008227</td>\n",
              "      <td>0.000104</td>\n",
              "      <td>uniform</td>\n",
              "      <td>10</td>\n",
              "      <td>2</td>\n",
              "      <td>euclidean</td>\n",
              "      <td>30</td>\n",
              "      <td>{'knn_model__weights': 'uniform', 'knn_model__...</td>\n",
              "      <td>0.964286</td>\n",
              "      <td>0.928571</td>\n",
              "      <td>0.964286</td>\n",
              "      <td>0.857143</td>\n",
              "      <td>1.000000</td>\n",
              "      <td>0.964286</td>\n",
              "      <td>1.0</td>\n",
              "      <td>0.892857</td>\n",
              "      <td>0.857143</td>\n",
              "      <td>0.857143</td>\n",
              "      <td>0.928571</td>\n",
              "      <td>0.055328</td>\n",
              "      <td>1</td>\n",
              "    </tr>\n",
              "    <tr>\n",
              "      <th>9</th>\n",
              "      <td>0.007842</td>\n",
              "      <td>0.000226</td>\n",
              "      <td>0.036283</td>\n",
              "      <td>0.075904</td>\n",
              "      <td>uniform</td>\n",
              "      <td>10</td>\n",
              "      <td>4</td>\n",
              "      <td>minkowski</td>\n",
              "      <td>30</td>\n",
              "      <td>{'knn_model__weights': 'uniform', 'knn_model__...</td>\n",
              "      <td>0.964286</td>\n",
              "      <td>0.928571</td>\n",
              "      <td>0.964286</td>\n",
              "      <td>0.857143</td>\n",
              "      <td>1.000000</td>\n",
              "      <td>0.964286</td>\n",
              "      <td>1.0</td>\n",
              "      <td>0.892857</td>\n",
              "      <td>0.857143</td>\n",
              "      <td>0.857143</td>\n",
              "      <td>0.928571</td>\n",
              "      <td>0.055328</td>\n",
              "      <td>1</td>\n",
              "    </tr>\n",
              "  </tbody>\n",
              "</table>\n",
              "</div>"
            ],
            "text/plain": [
              "   mean_fit_time  std_fit_time  ...  std_test_score  rank_test_score\n",
              "1       0.030236      0.012061  ...        0.045175                1\n",
              "6       0.007669      0.000093  ...        0.055328                1\n",
              "9       0.007842      0.000226  ...        0.055328                1\n",
              "\n",
              "[3 rows x 23 columns]"
            ]
          },
          "metadata": {
            "tags": []
          },
          "execution_count": 159
        }
      ]
    },
    {
      "cell_type": "code",
      "metadata": {
        "id": "Lx3m3uyUYyD4",
        "outputId": "68183d6a-a8b1-409a-9a4e-722a547b4e10",
        "colab": {
          "base_uri": "https://localhost:8080/"
        }
      },
      "source": [
        "n_neighbors = range(3,11)\n",
        "\n",
        "train_scores, valid_scores = validation_curve( pipeline_knn, x_train, y_train, param_name=\"knn_model__n_neighbors\", param_range=n_neighbors,\n",
        "    cv=10, scoring=\"accuracy\")\n",
        "\n",
        "#Size of train_scores will be: length of parameter (max_depth_range) X number of folds\n",
        "print(train_scores.shape)"
      ],
      "execution_count": null,
      "outputs": [
        {
          "output_type": "stream",
          "text": [
            "(8, 10)\n"
          ],
          "name": "stdout"
        }
      ]
    },
    {
      "cell_type": "code",
      "metadata": {
        "id": "GBHvjz6fZdmA",
        "outputId": "00ace703-9194-43bd-cb06-1ca6dbafe5e5",
        "colab": {
          "base_uri": "https://localhost:8080/",
          "height": 313
        }
      },
      "source": [
        "mean_train_score = np.mean(train_scores, axis=1)\n",
        "mean_val_score = np.mean(valid_scores, axis=1)\n",
        "plt.plot(n_neighbors, mean_train_score, color=\"blue\", linewidth=2, label=\"Training\")\n",
        "plt.plot(n_neighbors, mean_val_score, color=\"red\", linewidth=2, label=\"Validation\")\n",
        "plt.legend(loc=\"upper right\")\n",
        "plt.xlabel(\"n_neighbors\")\n",
        "plt.ylabel(\"Model Accuracy\")\n",
        "plt.title(\"Accuracy comparison of training/validation set\")"
      ],
      "execution_count": null,
      "outputs": [
        {
          "output_type": "execute_result",
          "data": {
            "text/plain": [
              "Text(0.5, 1.0, 'Accuracy comparison of training/validation set')"
            ]
          },
          "metadata": {
            "tags": []
          },
          "execution_count": 167
        },
        {
          "output_type": "display_data",
          "data": {
            "image/png": "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\n",
            "text/plain": [
              "<Figure size 432x288 with 1 Axes>"
            ]
          },
          "metadata": {
            "tags": [],
            "needs_background": "light"
          }
        }
      ]
    },
    {
      "cell_type": "markdown",
      "metadata": {
        "id": "3mL49vZXdmTw"
      },
      "source": [
        "##### The above figure shows  validation set has better accuracy by initializing n_neighbors = 6"
      ]
    },
    {
      "cell_type": "code",
      "metadata": {
        "id": "VUhLZ9QGdjal"
      },
      "source": [
        "pipeline_knn_N = Pipeline(steps=[\n",
        "  ('preprocessor', preprocessor),\n",
        "  #('model', model_svm)\n",
        "   ('knn_model', KNeighborsClassifier(n_neighbors=6))\n",
        "])"
      ],
      "execution_count": null,
      "outputs": []
    },
    {
      "cell_type": "code",
      "metadata": {
        "id": "5YV--4QYem-_"
      },
      "source": [
        "pipeline_knn_N.fit(x_train,y_train)"
      ],
      "execution_count": null,
      "outputs": []
    },
    {
      "cell_type": "code",
      "metadata": {
        "id": "r2KRrDyeeXFn",
        "outputId": "b3c11613-2d61-4d07-ff68-a876f5277d11",
        "colab": {
          "base_uri": "https://localhost:8080/"
        }
      },
      "source": [
        "print(accuracy_score(y_test,pipeline_knn_N.predict(x_test)))"
      ],
      "execution_count": null,
      "outputs": [
        {
          "output_type": "stream",
          "text": [
            "0.9166666666666666\n"
          ],
          "name": "stdout"
        }
      ]
    },
    {
      "cell_type": "code",
      "metadata": {
        "id": "dGG2-VRtZwwg",
        "outputId": "b2092c40-a43b-4748-c671-f1829beac0ce",
        "colab": {
          "base_uri": "https://localhost:8080/"
        }
      },
      "source": [
        "metrics = ['euclidean','manhattan','chebyshev','minkowski']\n",
        "\n",
        "train_scores, valid_scores = validation_curve( pipeline_knn, x_train, y_train, param_name=\"knn_model__metric\", param_range=metrics,\n",
        "    cv=10, scoring=\"accuracy\")\n",
        "\n",
        "#Size of train_scores will be: length of parameter (max_depth_range) X number of folds\n",
        "print(train_scores.shape)"
      ],
      "execution_count": null,
      "outputs": [
        {
          "output_type": "stream",
          "text": [
            "(4, 10)\n"
          ],
          "name": "stdout"
        }
      ]
    },
    {
      "cell_type": "code",
      "metadata": {
        "id": "aqJp1RIIaOJx",
        "outputId": "eacfd93c-85d5-4a6f-9bf3-e773e512e959",
        "colab": {
          "base_uri": "https://localhost:8080/",
          "height": 312
        }
      },
      "source": [
        "mean_train_score = np.mean(train_scores, axis=1)\n",
        "mean_val_score = np.mean(valid_scores, axis=1)\n",
        "plt.plot(metrics, mean_train_score, color=\"blue\", linewidth=2, label=\"Training\")\n",
        "plt.plot(metrics, mean_val_score, color=\"red\", linewidth=2, label=\"Validation\")\n",
        "plt.legend(loc=\"upper right\")\n",
        "plt.xlabel(\"metrics\")\n",
        "plt.ylabel(\"Model Accuracy\")\n",
        "plt.title(\"Accuracy comparison of training/validation set\")"
      ],
      "execution_count": null,
      "outputs": [
        {
          "output_type": "execute_result",
          "data": {
            "text/plain": [
              "Text(0.5, 1.0, 'Accuracy comparison of training/validation set')"
            ]
          },
          "metadata": {
            "tags": []
          },
          "execution_count": 242
        },
        {
          "output_type": "display_data",
          "data": {
            "image/png": "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\n",
            "text/plain": [
              "<Figure size 432x288 with 1 Axes>"
            ]
          },
          "metadata": {
            "tags": [],
            "needs_background": "light"
          }
        }
      ]
    },
    {
      "cell_type": "code",
      "metadata": {
        "id": "p4XPF20j3amP"
      },
      "source": [
        "## it shows the model is more optimized if we consider manhattan or chebyshev as distance metrics."
      ],
      "execution_count": null,
      "outputs": []
    },
    {
      "cell_type": "markdown",
      "metadata": {
        "id": "Q1ODeq3GfL6p"
      },
      "source": [
        "**Best Optimized  for k-nearest neighbor model based on RandomSearchcv result**"
      ]
    },
    {
      "cell_type": "code",
      "metadata": {
        "id": "zxJbiSThe6D1"
      },
      "source": [
        "pipeline_knn_op = Pipeline(steps=[\n",
        "  ('preprocessor', preprocessor),\n",
        "  #('model', model_svm)\n",
        "   ('knn_model', KNeighborsClassifier(n_neighbors=3,leaf_size=100,metric='manhattan',n_jobs=7))\n",
        "])"
      ],
      "execution_count": null,
      "outputs": []
    },
    {
      "cell_type": "code",
      "metadata": {
        "id": "Vpm2Ujj5fcJU"
      },
      "source": [
        "pipeline_knn_op.fit(x_train,y_train)"
      ],
      "execution_count": null,
      "outputs": []
    },
    {
      "cell_type": "code",
      "metadata": {
        "id": "YjpCVkEVVwnX"
      },
      "source": [
        "y_pred_knn  = pipeline_knn_op.predict(x_test)"
      ],
      "execution_count": null,
      "outputs": []
    },
    {
      "cell_type": "code",
      "metadata": {
        "id": "iy6JIACvfGrq",
        "outputId": "bff54a7c-3fbe-42c8-a906-054fe47b6319",
        "colab": {
          "base_uri": "https://localhost:8080/"
        }
      },
      "source": [
        "print(accuracy_score(y_test,y_pred_knn))"
      ],
      "execution_count": null,
      "outputs": [
        {
          "output_type": "stream",
          "text": [
            "0.9333333333333333\n"
          ],
          "name": "stdout"
        }
      ]
    },
    {
      "cell_type": "code",
      "metadata": {
        "id": "K_ht_1HAgC8c",
        "outputId": "edf0ee7d-88d5-4954-df11-e7919e5ea9ec",
        "colab": {
          "base_uri": "https://localhost:8080/"
        }
      },
      "source": [
        "print(f1_score(y_test,y_pred_knn,average=None))"
      ],
      "execution_count": null,
      "outputs": [
        {
          "output_type": "stream",
          "text": [
            "[0.94444444 0.91666667]\n"
          ],
          "name": "stdout"
        }
      ]
    },
    {
      "cell_type": "code",
      "metadata": {
        "id": "lmwl1zT8gPvN",
        "outputId": "249ea266-32bc-4288-9598-15ca54ff8f25",
        "colab": {
          "base_uri": "https://localhost:8080/"
        }
      },
      "source": [
        "print(confusion_matrix(y_test,y_pred_knn))"
      ],
      "execution_count": null,
      "outputs": [
        {
          "output_type": "stream",
          "text": [
            "[[68  8]\n",
            " [ 0 44]]\n"
          ],
          "name": "stdout"
        }
      ]
    },
    {
      "cell_type": "code",
      "metadata": {
        "id": "wRom07klv5El",
        "outputId": "7cbfabd0-3263-4bcc-83e5-36be60ed97c6",
        "colab": {
          "base_uri": "https://localhost:8080/"
        }
      },
      "source": [
        "scores = cross_val_score(pipeline_knn_op,x,y,cv=10)\n",
        "scores"
      ],
      "execution_count": null,
      "outputs": [
        {
          "output_type": "execute_result",
          "data": {
            "text/plain": [
              "array([0.975, 0.95 , 0.95 , 1.   , 0.825, 1.   , 0.925, 0.9  , 0.925,\n",
              "       0.975])"
            ]
          },
          "metadata": {
            "tags": []
          },
          "execution_count": 44
        }
      ]
    },
    {
      "cell_type": "code",
      "metadata": {
        "id": "banjvy78wDKX",
        "outputId": "62ea2178-cd84-4852-f0aa-a485cb1ba738",
        "colab": {
          "base_uri": "https://localhost:8080/"
        }
      },
      "source": [
        "print(\"Accuracy: %0.2f (+/- %0.2f)\" % (scores.mean(), scores.std() * 2))"
      ],
      "execution_count": null,
      "outputs": [
        {
          "output_type": "stream",
          "text": [
            "Accuracy: 0.94 (+/- 0.10)\n"
          ],
          "name": "stdout"
        }
      ]
    },
    {
      "cell_type": "markdown",
      "metadata": {
        "id": "79nIc68Ilbkk"
      },
      "source": [
        "**Decision Tree pipleline models**"
      ]
    },
    {
      "cell_type": "code",
      "metadata": {
        "id": "dtlrv0oslie7"
      },
      "source": [
        "pipeline_tree = Pipeline(steps=[\n",
        "  ('preprocessor', preprocessor),\n",
        "   ('tree_model', DecisionTreeClassifier())\n",
        "])"
      ],
      "execution_count": null,
      "outputs": []
    },
    {
      "cell_type": "code",
      "metadata": {
        "id": "4qQbW8n3mKgH"
      },
      "source": [
        "pipeline_tree.fit(x_train,y_train)"
      ],
      "execution_count": null,
      "outputs": []
    },
    {
      "cell_type": "code",
      "metadata": {
        "id": "vvfe-qkknDE7"
      },
      "source": [
        "## metrics and range of values \n",
        "ccp_alpha = [ i for i in np.arange(0.00,0.30,0.01)]\n",
        "max_depth_range = range(1,11)"
      ],
      "execution_count": null,
      "outputs": []
    },
    {
      "cell_type": "code",
      "metadata": {
        "id": "vyC4ka2DnEUG"
      },
      "source": [
        "param_grid = {'tree_model__ccp_alpha':ccp_alpha, 'tree_model__max_depth':max_depth_range}"
      ],
      "execution_count": null,
      "outputs": []
    },
    {
      "cell_type": "code",
      "metadata": {
        "id": "4rXqzvI8nEuq"
      },
      "source": [
        "rand = RandomizedSearchCV(pipeline_tree,param_distributions=param_grid,cv=10, n_iter=10,scoring='accuracy')\n",
        "rand.fit(x_train,y_train)"
      ],
      "execution_count": null,
      "outputs": []
    },
    {
      "cell_type": "code",
      "metadata": {
        "id": "Dp05X_rinE63",
        "outputId": "1aff3b19-11dd-40d6-88c0-c66ee1b31e68",
        "colab": {
          "base_uri": "https://localhost:8080/",
          "height": 213
        }
      },
      "source": [
        "rand_df = pd.DataFrame(rand.cv_results_)\n",
        "max_value =  rand_df.loc[(rand_df.mean_test_score == max(rand_df.mean_test_score))  ]\n",
        "max_value"
      ],
      "execution_count": null,
      "outputs": [
        {
          "output_type": "execute_result",
          "data": {
            "text/html": [
              "<div>\n",
              "<style scoped>\n",
              "    .dataframe tbody tr th:only-of-type {\n",
              "        vertical-align: middle;\n",
              "    }\n",
              "\n",
              "    .dataframe tbody tr th {\n",
              "        vertical-align: top;\n",
              "    }\n",
              "\n",
              "    .dataframe thead th {\n",
              "        text-align: right;\n",
              "    }\n",
              "</style>\n",
              "<table border=\"1\" class=\"dataframe\">\n",
              "  <thead>\n",
              "    <tr style=\"text-align: right;\">\n",
              "      <th></th>\n",
              "      <th>mean_fit_time</th>\n",
              "      <th>std_fit_time</th>\n",
              "      <th>mean_score_time</th>\n",
              "      <th>std_score_time</th>\n",
              "      <th>param_tree_model__max_depth</th>\n",
              "      <th>param_tree_model__ccp_alpha</th>\n",
              "      <th>params</th>\n",
              "      <th>split0_test_score</th>\n",
              "      <th>split1_test_score</th>\n",
              "      <th>split2_test_score</th>\n",
              "      <th>split3_test_score</th>\n",
              "      <th>split4_test_score</th>\n",
              "      <th>split5_test_score</th>\n",
              "      <th>split6_test_score</th>\n",
              "      <th>split7_test_score</th>\n",
              "      <th>split8_test_score</th>\n",
              "      <th>split9_test_score</th>\n",
              "      <th>mean_test_score</th>\n",
              "      <th>std_test_score</th>\n",
              "      <th>rank_test_score</th>\n",
              "    </tr>\n",
              "  </thead>\n",
              "  <tbody>\n",
              "    <tr>\n",
              "      <th>0</th>\n",
              "      <td>0.008578</td>\n",
              "      <td>0.001942</td>\n",
              "      <td>0.003327</td>\n",
              "      <td>0.000327</td>\n",
              "      <td>9</td>\n",
              "      <td>0.02</td>\n",
              "      <td>{'tree_model__max_depth': 9, 'tree_model__ccp_...</td>\n",
              "      <td>1.0</td>\n",
              "      <td>0.964286</td>\n",
              "      <td>1.0</td>\n",
              "      <td>1.0</td>\n",
              "      <td>1.0</td>\n",
              "      <td>0.857143</td>\n",
              "      <td>1.0</td>\n",
              "      <td>0.964286</td>\n",
              "      <td>0.857143</td>\n",
              "      <td>0.928571</td>\n",
              "      <td>0.957143</td>\n",
              "      <td>0.054865</td>\n",
              "      <td>1</td>\n",
              "    </tr>\n",
              "    <tr>\n",
              "      <th>3</th>\n",
              "      <td>0.007917</td>\n",
              "      <td>0.000185</td>\n",
              "      <td>0.003182</td>\n",
              "      <td>0.000072</td>\n",
              "      <td>9</td>\n",
              "      <td>0.06</td>\n",
              "      <td>{'tree_model__max_depth': 9, 'tree_model__ccp_...</td>\n",
              "      <td>1.0</td>\n",
              "      <td>0.964286</td>\n",
              "      <td>1.0</td>\n",
              "      <td>1.0</td>\n",
              "      <td>1.0</td>\n",
              "      <td>0.857143</td>\n",
              "      <td>1.0</td>\n",
              "      <td>0.964286</td>\n",
              "      <td>0.857143</td>\n",
              "      <td>0.928571</td>\n",
              "      <td>0.957143</td>\n",
              "      <td>0.054865</td>\n",
              "      <td>1</td>\n",
              "    </tr>\n",
              "    <tr>\n",
              "      <th>7</th>\n",
              "      <td>0.008629</td>\n",
              "      <td>0.000819</td>\n",
              "      <td>0.003486</td>\n",
              "      <td>0.000542</td>\n",
              "      <td>5</td>\n",
              "      <td>0.08</td>\n",
              "      <td>{'tree_model__max_depth': 5, 'tree_model__ccp_...</td>\n",
              "      <td>1.0</td>\n",
              "      <td>0.964286</td>\n",
              "      <td>1.0</td>\n",
              "      <td>1.0</td>\n",
              "      <td>1.0</td>\n",
              "      <td>0.857143</td>\n",
              "      <td>1.0</td>\n",
              "      <td>0.964286</td>\n",
              "      <td>0.857143</td>\n",
              "      <td>0.928571</td>\n",
              "      <td>0.957143</td>\n",
              "      <td>0.054865</td>\n",
              "      <td>1</td>\n",
              "    </tr>\n",
              "  </tbody>\n",
              "</table>\n",
              "</div>"
            ],
            "text/plain": [
              "   mean_fit_time  std_fit_time  ...  std_test_score  rank_test_score\n",
              "0       0.008578      0.001942  ...        0.054865                1\n",
              "3       0.007917      0.000185  ...        0.054865                1\n",
              "7       0.008629      0.000819  ...        0.054865                1\n",
              "\n",
              "[3 rows x 20 columns]"
            ]
          },
          "metadata": {
            "tags": []
          },
          "execution_count": 218
        }
      ]
    },
    {
      "cell_type": "code",
      "metadata": {
        "id": "t5x9jRXbnEj-",
        "outputId": "90477216-eb6d-4dd8-9ea0-6f2307cde601",
        "colab": {
          "base_uri": "https://localhost:8080/"
        }
      },
      "source": [
        "max_depth_range = range(1,11)\n",
        "\n",
        "train_scores, valid_scores = validation_curve( pipeline_tree, x_train, y_train, param_name=\"tree_model__max_depth\", param_range=max_depth_range,\n",
        "    cv=10, scoring=\"accuracy\")\n",
        "\n",
        "#Size of train_scores will be: length of parameter (max_depth_range) X number of folds\n",
        "print(train_scores.shape)"
      ],
      "execution_count": null,
      "outputs": [
        {
          "output_type": "stream",
          "text": [
            "(10, 10)\n"
          ],
          "name": "stdout"
        }
      ]
    },
    {
      "cell_type": "code",
      "metadata": {
        "id": "F1kf-zTXnEHF",
        "outputId": "36f17a8a-fd39-4a1e-9b5b-80b093880b8d",
        "colab": {
          "base_uri": "https://localhost:8080/",
          "height": 313
        }
      },
      "source": [
        "mean_train_score = np.mean(train_scores, axis=1)\n",
        "mean_val_score = np.mean(valid_scores, axis=1)\n",
        "plt.plot(max_depth_range, mean_train_score, color=\"blue\", linewidth=2, label=\"Training\")\n",
        "plt.plot(max_depth_range, mean_val_score, color=\"red\", linewidth=2, label=\"Validation\")\n",
        "plt.legend(loc=\"upper right\")\n",
        "plt.xlabel(\"max_depth\")\n",
        "plt.ylabel(\"Model Accuracy\")\n",
        "plt.title(\"Accuracy comparison of training/validation set\")"
      ],
      "execution_count": null,
      "outputs": [
        {
          "output_type": "execute_result",
          "data": {
            "text/plain": [
              "Text(0.5, 1.0, 'Accuracy comparison of training/validation set')"
            ]
          },
          "metadata": {
            "tags": []
          },
          "execution_count": 233
        },
        {
          "output_type": "display_data",
          "data": {
            "image/png": "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\n",
            "text/plain": [
              "<Figure size 432x288 with 1 Axes>"
            ]
          },
          "metadata": {
            "tags": [],
            "needs_background": "light"
          }
        }
      ]
    },
    {
      "cell_type": "code",
      "metadata": {
        "id": "gb6gizSRpH9a"
      },
      "source": [
        "## the above figure shows the max_depth=9 has the best score for validation_set \n",
        "pipeline_tree_max_depth = Pipeline(steps=[\n",
        "  ('preprocessor', preprocessor),\n",
        "   ('tree_model', DecisionTreeClassifier(max_depth=9))\n",
        "])"
      ],
      "execution_count": null,
      "outputs": []
    },
    {
      "cell_type": "code",
      "metadata": {
        "id": "CFA5Rm3FqMsE"
      },
      "source": [
        "pipeline_tree_max_depth.fit(x_train,y_train)"
      ],
      "execution_count": null,
      "outputs": []
    },
    {
      "cell_type": "code",
      "metadata": {
        "id": "8DZ1eS7IqZkr",
        "outputId": "8dda24bd-f282-4bec-c5d4-1b51a12c73eb",
        "colab": {
          "base_uri": "https://localhost:8080/"
        }
      },
      "source": [
        "print(accuracy_score(y_test,pipeline_tree_max_depth.predict(x_test)))"
      ],
      "execution_count": null,
      "outputs": [
        {
          "output_type": "stream",
          "text": [
            "0.975\n"
          ],
          "name": "stdout"
        }
      ]
    },
    {
      "cell_type": "code",
      "metadata": {
        "id": "LuPNw92VrABp",
        "outputId": "89a1a4f7-ca18-4cb1-eada-276f9bc6d715",
        "colab": {
          "base_uri": "https://localhost:8080/"
        }
      },
      "source": [
        "ccp_alpha = [ i for i in np.arange(0.00,0.30,0.01)]\n",
        "\n",
        "train_scores, valid_scores = validation_curve( pipeline_tree, x_train, y_train, param_name=\"tree_model__ccp_alpha\", param_range=ccp_alpha,\n",
        "    cv=10, scoring=\"accuracy\")\n",
        "\n",
        "#Size of train_scores will be: length of parameter (max_depth_range) X number of folds\n",
        "print(train_scores.shape)"
      ],
      "execution_count": null,
      "outputs": [
        {
          "output_type": "stream",
          "text": [
            "(30, 10)\n"
          ],
          "name": "stdout"
        }
      ]
    },
    {
      "cell_type": "code",
      "metadata": {
        "id": "97VUHOQRrPr2",
        "outputId": "34aa5b13-0241-42d5-9526-6d7b628c566c",
        "colab": {
          "base_uri": "https://localhost:8080/",
          "height": 313
        }
      },
      "source": [
        "mean_train_score = np.mean(train_scores, axis=1)\n",
        "mean_val_score = np.mean(valid_scores, axis=1)\n",
        "plt.plot(ccp_alpha, mean_train_score, color=\"blue\", linewidth=2, label=\"Training\")\n",
        "plt.plot(ccp_alpha, mean_val_score, color=\"red\", linewidth=2, label=\"Validation\")\n",
        "plt.legend(loc=\"upper right\")\n",
        "plt.xlabel(\"ccp_alpha\")\n",
        "plt.ylabel(\"Model Accuracy\")\n",
        "plt.title(\"Accuracy comparison of training/validation set\")"
      ],
      "execution_count": null,
      "outputs": [
        {
          "output_type": "execute_result",
          "data": {
            "text/plain": [
              "Text(0.5, 1.0, 'Accuracy comparison of training/validation set')"
            ]
          },
          "metadata": {
            "tags": []
          },
          "execution_count": 247
        },
        {
          "output_type": "display_data",
          "data": {
            "image/png": "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\n",
            "text/plain": [
              "<Figure size 432x288 with 1 Axes>"
            ]
          },
          "metadata": {
            "tags": [],
            "needs_background": "light"
          }
        }
      ]
    },
    {
      "cell_type": "code",
      "metadata": {
        "id": "FbNR5tm7rPvV",
        "outputId": "4fb84e70-d3b9-4414-8e3c-417e2de8df19",
        "colab": {
          "base_uri": "https://localhost:8080/"
        }
      },
      "source": [
        "## above figures shows initializing ccp_alpha=0.01 we could get the highest accuracy. make a model with it \n",
        "pipeline_tree_ca = Pipeline(steps=[\n",
        "  ('preprocessor', preprocessor),\n",
        "   ('tree_model', DecisionTreeClassifier(max_depth=3,ccp_alpha=0.01))\n",
        "])\n",
        "pipeline_tree_ca.fit(x_train,y_train)\n",
        "print(f1_score(y_test,pipeline_tree_ca.predict(x_test),average=None))"
      ],
      "execution_count": null,
      "outputs": [
        {
          "output_type": "stream",
          "text": [
            "[0.99337748 0.98876404]\n"
          ],
          "name": "stdout"
        }
      ]
    },
    {
      "cell_type": "markdown",
      "metadata": {
        "id": "0-vyKR6qsM-k"
      },
      "source": [
        "**optimized model for Decision Tree based on combination of hyperparameters in RandsearchCV** with max_depth=9 and ccp_alpha=0.02"
      ]
    },
    {
      "cell_type": "code",
      "metadata": {
        "id": "I2imoMFhrPym"
      },
      "source": [
        "pipeline_tree_op = Pipeline(steps=[\n",
        "  ('preprocessor', preprocessor),\n",
        "   ('tree_model', DecisionTreeClassifier(max_depth=9,ccp_alpha=0.02))\n",
        "])"
      ],
      "execution_count": null,
      "outputs": []
    },
    {
      "cell_type": "code",
      "metadata": {
        "id": "kc9BiGSQrQUW"
      },
      "source": [
        "pipeline_tree_op.fit(x_train,y_train)"
      ],
      "execution_count": null,
      "outputs": []
    },
    {
      "cell_type": "code",
      "metadata": {
        "id": "or2WdSo7rQiC"
      },
      "source": [
        "y_pred_tree = pipeline_tree_op.predict(x_test)"
      ],
      "execution_count": null,
      "outputs": []
    },
    {
      "cell_type": "code",
      "metadata": {
        "id": "NmK8TxIjrQeG",
        "outputId": "9d317a4d-0026-4b5e-88c1-bc2b519e2eeb",
        "colab": {
          "base_uri": "https://localhost:8080/"
        }
      },
      "source": [
        "print(accuracy_score(y_test,y_pred_tree))"
      ],
      "execution_count": null,
      "outputs": [
        {
          "output_type": "stream",
          "text": [
            "0.9916666666666667\n"
          ],
          "name": "stdout"
        }
      ]
    },
    {
      "cell_type": "code",
      "metadata": {
        "id": "8NhjVUPSrQbf",
        "outputId": "d5ff98ae-dc91-4b56-f32d-2920812cbc48",
        "colab": {
          "base_uri": "https://localhost:8080/"
        }
      },
      "source": [
        "print(f1_score(y_test,y_pred_tree,average=None))"
      ],
      "execution_count": null,
      "outputs": [
        {
          "output_type": "stream",
          "text": [
            "[0.99337748 0.98876404]\n"
          ],
          "name": "stdout"
        }
      ]
    },
    {
      "cell_type": "code",
      "metadata": {
        "id": "jkva9WCOt1uA",
        "outputId": "7910d200-9bab-40ed-8ee7-aaa4c9eeb508",
        "colab": {
          "base_uri": "https://localhost:8080/"
        }
      },
      "source": [
        " print(confusion_matrix(y_test,y_pred_tree))"
      ],
      "execution_count": null,
      "outputs": [
        {
          "output_type": "stream",
          "text": [
            "[[75  1]\n",
            " [ 0 44]]\n"
          ],
          "name": "stdout"
        }
      ]
    },
    {
      "cell_type": "code",
      "metadata": {
        "id": "20BVK2McvaNW",
        "outputId": "b7ab24cd-1a7e-4f87-820b-694f53b939b1",
        "colab": {
          "base_uri": "https://localhost:8080/"
        }
      },
      "source": [
        "scores = cross_val_score(pipeline_tree_op,x,y,cv=10)\n",
        "scores"
      ],
      "execution_count": null,
      "outputs": [
        {
          "output_type": "execute_result",
          "data": {
            "text/plain": [
              "array([0.95 , 0.975, 1.   , 0.975, 0.925, 0.95 , 1.   , 0.95 , 1.   ,\n",
              "       0.95 ])"
            ]
          },
          "metadata": {
            "tags": []
          },
          "execution_count": 39
        }
      ]
    },
    {
      "cell_type": "code",
      "metadata": {
        "id": "dDcRz6J9vmo2",
        "outputId": "328a6669-94a9-4099-9474-6318d9745317",
        "colab": {
          "base_uri": "https://localhost:8080/"
        }
      },
      "source": [
        "print(\"Accuracy: %0.2f (+/- %0.2f)\" % (scores.mean(), scores.std() * 2))"
      ],
      "execution_count": null,
      "outputs": [
        {
          "output_type": "stream",
          "text": [
            "Accuracy: 0.97 (+/- 0.05)\n"
          ],
          "name": "stdout"
        }
      ]
    },
    {
      "cell_type": "markdown",
      "metadata": {
        "id": "aukIsGhFuX1O"
      },
      "source": [
        "**RandomForest models pipeline**"
      ]
    },
    {
      "cell_type": "code",
      "metadata": {
        "id": "vF0BMvPZxLoV"
      },
      "source": [
        "## The hyperparameters I have worked on them   for tunning : Max_depth,max_features,min_samples_leaf, min_samples_split and n-estimator"
      ],
      "execution_count": null,
      "outputs": []
    },
    {
      "cell_type": "code",
      "metadata": {
        "id": "KUp7zVPVrQYU"
      },
      "source": [
        "pipeline_randomForest = Pipeline(steps=[\n",
        "  ('preprocessor', preprocessor),\n",
        "   ('Forest_model', RandomForestClassifier())\n",
        "])"
      ],
      "execution_count": null,
      "outputs": []
    },
    {
      "cell_type": "code",
      "metadata": {
        "id": "pr1VHtVouWKc"
      },
      "source": [
        "pipeline_randomForest.fit(x_train,y_train)"
      ],
      "execution_count": null,
      "outputs": []
    },
    {
      "cell_type": "code",
      "metadata": {
        "id": "i34_Ri7zrQLO"
      },
      "source": [
        "## range of values for hyperparameters are considered\n",
        "max_depth=[3,7,8,9,10, 20, 30, 40, 50, 60, 70, 80, 90, 100]\n",
        "max_features= ['auto', 'sqrt']\n",
        "min_samples_leaf=[1, 2, 4]\n",
        "min_samples_split= [2, 5, 10]\n",
        "n_estimators=[50,100,200, 400, 600, 800, 1000, 1200, 1400, 1600, 1800, 2000]"
      ],
      "execution_count": null,
      "outputs": []
    },
    {
      "cell_type": "code",
      "metadata": {
        "id": "b3iu_uhOrPnz"
      },
      "source": [
        "param_grid = {'Forest_model__max_depth':max_depth,'Forest_model__max_features':max_features,\n",
        "              'Forest_model__min_samples_leaf':min_samples_leaf,'Forest_model__min_samples_split':min_samples_split,\n",
        "              'Forest_model__n_estimators':n_estimators}"
      ],
      "execution_count": null,
      "outputs": []
    },
    {
      "cell_type": "code",
      "metadata": {
        "id": "ePTVBaHhuqnJ"
      },
      "source": [
        "rand = RandomizedSearchCV(pipeline_randomForest,param_distributions=param_grid,cv=10, n_iter=10,scoring='accuracy')\n",
        "rand.fit(x_train,y_train)"
      ],
      "execution_count": null,
      "outputs": []
    },
    {
      "cell_type": "code",
      "metadata": {
        "id": "Q2Yt0oj-uqqe",
        "outputId": "624a869f-c435-46b8-9fbb-d5ee5a6797cc",
        "colab": {
          "base_uri": "https://localhost:8080/",
          "height": 117
        }
      },
      "source": [
        "rand_df = pd.DataFrame(rand.cv_results_)\n",
        "max_value =  rand_df.loc[(rand_df.mean_test_score == max(rand_df.mean_test_score))  ]\n",
        "max_value"
      ],
      "execution_count": null,
      "outputs": [
        {
          "output_type": "execute_result",
          "data": {
            "text/html": [
              "<div>\n",
              "<style scoped>\n",
              "    .dataframe tbody tr th:only-of-type {\n",
              "        vertical-align: middle;\n",
              "    }\n",
              "\n",
              "    .dataframe tbody tr th {\n",
              "        vertical-align: top;\n",
              "    }\n",
              "\n",
              "    .dataframe thead th {\n",
              "        text-align: right;\n",
              "    }\n",
              "</style>\n",
              "<table border=\"1\" class=\"dataframe\">\n",
              "  <thead>\n",
              "    <tr style=\"text-align: right;\">\n",
              "      <th></th>\n",
              "      <th>mean_fit_time</th>\n",
              "      <th>std_fit_time</th>\n",
              "      <th>mean_score_time</th>\n",
              "      <th>std_score_time</th>\n",
              "      <th>param_Forest_model__n_estimators</th>\n",
              "      <th>param_Forest_model__min_samples_split</th>\n",
              "      <th>param_Forest_model__min_samples_leaf</th>\n",
              "      <th>param_Forest_model__max_features</th>\n",
              "      <th>param_Forest_model__max_depth</th>\n",
              "      <th>params</th>\n",
              "      <th>split0_test_score</th>\n",
              "      <th>split1_test_score</th>\n",
              "      <th>split2_test_score</th>\n",
              "      <th>split3_test_score</th>\n",
              "      <th>split4_test_score</th>\n",
              "      <th>split5_test_score</th>\n",
              "      <th>split6_test_score</th>\n",
              "      <th>split7_test_score</th>\n",
              "      <th>split8_test_score</th>\n",
              "      <th>split9_test_score</th>\n",
              "      <th>mean_test_score</th>\n",
              "      <th>std_test_score</th>\n",
              "      <th>rank_test_score</th>\n",
              "    </tr>\n",
              "  </thead>\n",
              "  <tbody>\n",
              "    <tr>\n",
              "      <th>8</th>\n",
              "      <td>1.316855</td>\n",
              "      <td>0.010004</td>\n",
              "      <td>0.082652</td>\n",
              "      <td>0.024857</td>\n",
              "      <td>1200</td>\n",
              "      <td>2</td>\n",
              "      <td>1</td>\n",
              "      <td>auto</td>\n",
              "      <td>20</td>\n",
              "      <td>{'Forest_model__n_estimators': 1200, 'Forest_m...</td>\n",
              "      <td>1.0</td>\n",
              "      <td>1.0</td>\n",
              "      <td>1.0</td>\n",
              "      <td>1.0</td>\n",
              "      <td>1.0</td>\n",
              "      <td>1.0</td>\n",
              "      <td>1.0</td>\n",
              "      <td>1.0</td>\n",
              "      <td>0.928571</td>\n",
              "      <td>0.964286</td>\n",
              "      <td>0.989286</td>\n",
              "      <td>0.022868</td>\n",
              "      <td>1</td>\n",
              "    </tr>\n",
              "  </tbody>\n",
              "</table>\n",
              "</div>"
            ],
            "text/plain": [
              "   mean_fit_time  std_fit_time  ...  std_test_score  rank_test_score\n",
              "8       1.316855      0.010004  ...        0.022868                1\n",
              "\n",
              "[1 rows x 23 columns]"
            ]
          },
          "metadata": {
            "tags": []
          },
          "execution_count": 278
        }
      ]
    },
    {
      "cell_type": "code",
      "metadata": {
        "id": "BvJvCa0p125e",
        "outputId": "c7bb5c08-b018-4820-a643-68a6c31381c7",
        "colab": {
          "base_uri": "https://localhost:8080/"
        }
      },
      "source": [
        "n_estimators = [ 50,100,200,300]\n",
        "\n",
        "train_scores, valid_scores = validation_curve( pipeline_randomForest, x_train, y_train, param_name=\"Forest_model__n_estimators\", param_range=n_estimators,\n",
        "    cv=10, scoring=\"accuracy\")\n",
        "\n",
        "#Size of train_scores will be: length of parameter (max_depth_range) X number of folds\n",
        "print(train_scores.shape)"
      ],
      "execution_count": null,
      "outputs": [
        {
          "output_type": "stream",
          "text": [
            "(4, 10)\n"
          ],
          "name": "stdout"
        }
      ]
    },
    {
      "cell_type": "code",
      "metadata": {
        "id": "4DyDvHa43AXL",
        "outputId": "9eb7906d-7a60-4105-f0bd-0356fc00b3ca",
        "colab": {
          "base_uri": "https://localhost:8080/",
          "height": 313
        }
      },
      "source": [
        "mean_train_score = np.mean(train_scores, axis=1)\n",
        "mean_val_score = np.mean(valid_scores, axis=1)\n",
        "plt.plot(n_estimators, mean_train_score, color=\"blue\", linewidth=2, label=\"Training\")\n",
        "plt.plot(n_estimators, mean_val_score, color=\"red\", linewidth=2, label=\"Validation\")\n",
        "plt.legend(loc=\"upper right\")\n",
        "plt.xlabel(\"n_estimators\")\n",
        "plt.ylabel(\"Model Accuracy\")\n",
        "plt.title(\"Accuracy comparison of training/validation set\")"
      ],
      "execution_count": null,
      "outputs": [
        {
          "output_type": "execute_result",
          "data": {
            "text/plain": [
              "Text(0.5, 1.0, 'Accuracy comparison of training/validation set')"
            ]
          },
          "metadata": {
            "tags": []
          },
          "execution_count": 291
        },
        {
          "output_type": "display_data",
          "data": {
            "image/png": "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\n",
            "text/plain": [
              "<Figure size 432x288 with 1 Axes>"
            ]
          },
          "metadata": {
            "tags": [],
            "needs_background": "light"
          }
        }
      ]
    },
    {
      "cell_type": "code",
      "metadata": {
        "id": "HV_vOlTq3QSt"
      },
      "source": [
        "## The above figure  shows at n_estimators=200 , the model has the highest accuracy\n",
        "pipeline_randomForest_n_estimators = Pipeline(steps=[\n",
        "  ('preprocessor', preprocessor),\n",
        "   ('Forest_model', RandomForestClassifier(n_estimators=200))\n",
        "])"
      ],
      "execution_count": null,
      "outputs": []
    },
    {
      "cell_type": "code",
      "metadata": {
        "id": "aoTABQPb36nM"
      },
      "source": [
        "pipeline_randomForest_n_estimators.fit(x_train,y_train)"
      ],
      "execution_count": null,
      "outputs": []
    },
    {
      "cell_type": "code",
      "metadata": {
        "id": "XVwVFUOg4FeV",
        "outputId": "1b266519-dd77-4a11-80d8-41bb2f0a1e88",
        "colab": {
          "base_uri": "https://localhost:8080/"
        }
      },
      "source": [
        "print(accuracy_score(y_test,pipeline_randomForest_n_estimators.predict(x_test)))"
      ],
      "execution_count": null,
      "outputs": [
        {
          "output_type": "stream",
          "text": [
            "1.0\n"
          ],
          "name": "stdout"
        }
      ]
    },
    {
      "cell_type": "code",
      "metadata": {
        "id": "oVyx1h1y4n2y",
        "outputId": "707daa8e-5e98-41b2-98c9-a961824e874e",
        "colab": {
          "base_uri": "https://localhost:8080/"
        }
      },
      "source": [
        "max_depth = range (1,21)\n",
        "\n",
        "train_scores, valid_scores = validation_curve( pipeline_randomForest, x_train, y_train, param_name=\"Forest_model__max_depth\", param_range=max_depth,\n",
        "    cv=10, scoring=\"accuracy\")\n",
        "\n",
        "#Size of train_scores will be: length of parameter (max_depth_range) X number of folds\n",
        "print(train_scores.shape)"
      ],
      "execution_count": null,
      "outputs": [
        {
          "output_type": "stream",
          "text": [
            "(20, 10)\n"
          ],
          "name": "stdout"
        }
      ]
    },
    {
      "cell_type": "code",
      "metadata": {
        "id": "3MnMf0Ya4tOz",
        "outputId": "11ee9f5b-c82c-408d-839a-9442931daa68",
        "colab": {
          "base_uri": "https://localhost:8080/",
          "height": 313
        }
      },
      "source": [
        "mean_train_score = np.mean(train_scores, axis=1)\n",
        "mean_val_score = np.mean(valid_scores, axis=1)\n",
        "plt.plot(max_depth, mean_train_score, color=\"blue\", linewidth=2, label=\"Training\")\n",
        "plt.plot(max_depth, mean_val_score, color=\"red\", linewidth=2, label=\"Validation\")\n",
        "plt.legend(loc=\"upper right\")\n",
        "plt.xlabel(\"max_depth\")\n",
        "plt.xticks(range(1,21))\n",
        "plt.ylabel(\"Model Accuracy\")\n",
        "plt.title(\"Accuracy comparison of training/validation set\")"
      ],
      "execution_count": null,
      "outputs": [
        {
          "output_type": "execute_result",
          "data": {
            "text/plain": [
              "Text(0.5, 1.0, 'Accuracy comparison of training/validation set')"
            ]
          },
          "metadata": {
            "tags": []
          },
          "execution_count": 301
        },
        {
          "output_type": "display_data",
          "data": {
            "image/png": "iVBORw0KGgoAAAANSUhEUgAAAYgAAAEXCAYAAAC3c9OwAAAABHNCSVQICAgIfAhkiAAAAAlwSFlzAAALEgAACxIB0t1+/AAAADh0RVh0U29mdHdhcmUAbWF0cGxvdGxpYiB2ZXJzaW9uMy4yLjIsIGh0dHA6Ly9tYXRwbG90bGliLm9yZy+WH4yJAAAgAElEQVR4nO3dd5gURfrA8e/LEgUUCQZYBFRAUPKKARUwHYaDAxMYDo7zzCfmM4MRA4bz7gyYUQQRlR8qioogZlkkJwUEWUAkLUEk7b6/P6pntxlmZmdmZ3Zmd97P88yzPd1d3TUzvf12VXVXiapijDHGBKuU6gwYY4xJTxYgjDHGhGQBwhhjTEgWIIwxxoRkAcIYY0xIFiCMMcaEZAHCVEgi8qyI3JXqfASISEsRmSkiW0Tk2iTt43YReSHR65YVEekmInm+9/NEpFs068axr7Q6PtKV2HMQpSMiU4B2wEGquiPF2TFpSkReBDar6vVhlk8BXlfVtDppR0tEGgLfq2p2KbbRDfcdlLiNGNcdAFyqqifEm7dkS9ff30oQpSAiTYETAQV6lvG+K5fl/soTEclKdR5CaALMizdxOfi9zwQ+SnUmTIKpqr3ifAF3A18BjwPvBy1rDLwDrAXWA//1LfsHsADYAswHOnrzFTjct94rwP3edDcgD/gX8CvwGrA/8L63j43edLYvfV3gZWCVt3ycN38u8GffelWAdUCHMJ+zFzAT2AwsAXp48xsC44ENwGLgH740Q4C3gNe9zzkHaAHcBvwGrABO960/BRgKfO/t5/+Aur7lb3mfexMwFTgy6Ht6BpgA/A6cGvTd1fe+m3wvr18Albxlrbx95+NO4D2Dtvs/4APvM3wHHBbheOjpbSPf22Yrb/5nQAGwHdgKtAhK90DQ8v/6joergZ+An715//a+u83AdODEoO/8dW+6qZe+P/CL9/veEee6NYBXccfQAuAWIC/oM7wD9MEdn2ODlv0beMqb/hvFx/5S4HLfet382wWWAaf68vCKl4f5wM1B696KOzYD/1O9fb/vdu/73QrkB/9v+f4nF3vHx3igoW+ZAld4v0O+d0xImGOgM5Dr/T5rgMd9y44Fvva2MQvoFun3T4dXyjNQnl/eAXUV0AnYBRzozc/yDoAngJpAdeAEb9l5wErgaECAw4EmvgMxUoDYDTwMVPP+YeoB5wD7ALVxJ9FxvvQfAG/iAkkVoKs3/xbgTd96vYA5YT5jZ9xJ+TRcibMRcIS3bCrwtPf52uMC1cnesiHeAf8noDIwAvgZuMPLyz/wTnre+lO87+Uo7zt7G+8E5i0f6H3GasCTwMyg72kT0MXLY/Wg724o8Ky33yq4Up9404uB24GqwMm4E0xL33bXe99BZWAkMDrM99QCF5xO87Z7i7ftqr7Pd2mEY2mv5d7x8Aku0Nfw5l3s/e6VgRtxQbO67zsPPuk/7x0r7YAdFAetWNZ9CPgcdxxlA7PZ8+QcuMCojSspbQNq+/4XVgPHeu/PAg7zvv+u3rqBC6RuhA8QD+ECe13cxdfcoHXPw12wVAIu8H6Lg71lA4Avg77bVyg+Pk728t8Rd3z9B5ga9Du8D9QBDsEd5z3C/I7fAJd407V8n7sR7lg608vjad77BtEcHyk7x6U6A+X1BZyACwr1vfcLgeu96eO8g6hyiHQTgUFhtllSgNiJdzIIk749sNGbPhgoBPYPsV5D3IlwX+/9WOCWMNt8DngixPzGuKue2r55Q4FXvOkhwCe+ZX/GXR1lee9re5+3jvd+CvCQb/3W3ufNCrHvOl7a/Xzf04igdfzf3b24EsnhQeuciDvBVvLNGwUM8W3jBd+yM4GFYb6nu4AxvveVcAGvm+/zxRMgTi7hONwItPN958EnfX+J8nugbxzrLgX+5Ft2KXuenE8BJvnefwn81Zs+DVgSIf/j8P4fiBwgluI7KQOXEVSKCdruTKCXNz2AyAHiReAR37JauP/tpr7f4QTf8jHArWH2OxW4B++84Jv/L+C1oHkTgf7RHB+pelkbRPz6Ax+r6jrv/RvePHAnz+WqujtEusa4onA81qrq9sAbEdlHRJ4TkeUishl3cNbx6uAbAxtUdWPwRlR1Fa5q7BwRqQOcgbs6DiVcfht629/im7ccd6UUsMY3/QewTlULfO/B/TMGrAjaVhWgvohkichDIrLE+5zLvHXqh0kb7FHc1fzHIrJURG71fYYVqloY4TP86pveFpRfv4ZeWgC8ba4I2lY89vhcInKTiCwQkU0ikg/sx57fQ7Bo8x9p3YZB+Qj+rs/EVe8FvAH086Yv9N4H8n+GiHwrIhu8/J9ZQv4DgvOw3L9QRP7q3SWW7233qCi3G9i2/7fbiru6j+c4+DuuNLlQRKaJyNne/CbAeYH8eXk8AXchl7bSveErLYlIDeB8IEtEAgdONdzJuR3uQD5ERCqHCBIrcEXsULbhqosCDsK1OwRo0Po3Ai2BY1T1VxFpD8zAFd9XAHVFpI6q5ofY16u4K8HKwDequjJMnsLld5W3/dq+IHEI7qo5Xo1904fgruLW4U4yvXBtC8twJ8WNuM8ZEPzdFC9w+bsRuFFEjgI+E5Fp3mdoLCKVfEHiEODHOPK+CmgTeCMi4n2eaL+PcPkvmi8iJ+Kqrk4B5qlqoYgEfw/JsBpXtTTfe984aPmZuPaHgLeAx0QkG+iNK1EjItVwVYd/Bf5PVXeJyDiiy/9qb7+Bhv5DAgtEpAmueuwU3LFcICIzfdsNe2x4VuFO4IHt1cRV48V8LKvqT0A/EamE+07Gikg93P/Ra6r6j3BJY91XWbASRHz+gqteaY2r1mmPawz7Anfwf487oB8SkZoiUl1EunhpXwBuEpFO4hzuHeDgisUXelfMPXB1tJHUxl2J54tIXWBwYIGqrgY+BJ4Wkf1FpIqInORLOw5X5zoI1z4QzovA30TkFBGpJCKNROQIVV2Ba3Ab6n2+trirp9dLyHMkF4tIaxHZB1ctNNYrcdTG1YmvxwXQB2PZqIic7X3PgmurKMBVv32HC8q3eN9PN1xV2Og48j4GOMv7nqrgAtIO3HcUjTXAoSWsUxvXDrUWqCwidwP7xpHXWI0BbvOOo0bANYEFItIMqKaqCwLzVHUtrsrkZVw7U2BZVdyF1Fpgt4icAZweRx6ygX/6ltXEnWDXenn6G64EEbAGyBaRqmG2PQp3jLf3gtiDwHequizKvBURkYtFpIF3wRG4MCvE/V/8WUT+5P1/V/ee5QjcphvN71/mLEDEpz/wsqr+oqq/Bl7Af4GLcFcuf8Y1QP+CKwVcAKCqb+HuWngD1w4wDtfwBu5k/WfcgXWRtyySJ3GNiuuAb9n7NsNLcFfhC3F3Dl0XWKCqf+Cu5prh7kAJSVW/x9158gTu5Po5xVdb/XD116uAd4HBqvppCXmO5DVc3fCvuIbmwANlI3BVACtxV7Hfxrjd5sCnuDaQb4CnVXWyqu7Efd9n4L7Dp3F15wtjzbiqLsI1IP/H29afcXeK7YxyE/8GzhWRjSLyVJh1JuJ+4x9x38d2IletJcq9uGP4Z9z3OBYX/MA1Ok8IkeYNXImvqHrJK8ldizvZb8SVDMdHmYd7cJ/5Z+Bj3LES2O584DHcb7sGV5L7ypf2M1zJ41cRWUcQ75i9C/f/sBpXYu4bZb6C9QDmichW3G/aV1X/8C6oeuFuiFiL+91upvgcHM3vX+bsQbkM5l2BtlDVi9MgL1NIwweFzN5E5Ercia+riEzA3ZYZKkiYcs5KEBnKq5L6OzA81Xkx6U1EDhaRLl4VY0tc9dm73uIpwOSUZc4klQWIDCQi/8AVcT9U1ampzo9Je1VxtztvwVXX/B+uOg5VfcSrrjQVkFUxGWOMCclKEMYYY0KqMM9B1K9fX5s2bZrqbBhjTLkyffr0daraINSyChMgmjZtSm5ubqqzYYwx5YqILA+3zKqYjDHGhGQBwhhjTEgWIIwxxoRUYdogjDEVy65du8jLy2P79u0lr2xKVL16dbKzs6lSpUrUaSxAGGPSUl5eHrVr16Zp06a4fhZNvFSV9evXk5eXR7NmzaJOl7QqJhF5SUR+E5G5YZaLiDwlIotFZLaIdPQt6y8iP3mv/qHSG2Mqtu3bt1OvXj0LDgkgItSrVy/m0lgy2yBewfVsGM4ZuF42m+NGh3oGivoIGgwcgxvqcbCI7J/EfBpj0pQFh8SJ57tMWhWTqk4VkaYRVumFGyZSgW9FpI6IHIwbdvATVd0AICKf4ALNqGTl1cRv82a491745ZdU58RUNNdcA1XDjeBg9tKsGVRK8CV/KtsgGrFnX/Z53rxw8/ciIpfhSh8ccsghoVYxSZSfDz16wHffpTonpiIaOBA27jVgbtnJz1/PVVedAsD69b+SlZVFnTrugeNXX/2eKlXCR6/583OZMGEEN90UeWiHgQOP56WXoh1TKrIYmhaiVq4bqVV1OF531Tk5OdbrYBnasAH+9CfIzYUmTeDBB6FyuT6aTLqpXx8OTekYa/X49tuZADz88BBq1qzFNdfcVLR09+7dVA5z0B96aA5nn51T4h6mTElMcABIRm1cKv+lV7Ln2LbZ3ryVuGom//wpZZYrU6J16+C002DmTPcP/NlnLkgYk0gLFkDduiWvVxZq1IB99oEbbhhA9erVmTFjBl26dKFv374MGjSI7du3U6NGDV5++WVatmzJlClTGDZsGO+//z5Dhgzhl19+YenSpfzyyy9cd911XHutGyyxVq1abN26lSlTpjBkyBDq16/P3Llz6dSpE6+//joiwoQJE7jhhhuoWbMmXbp0YenSpbz//vtl8rlTGSDGA9eIyGhcg/QmVV0tIhOBB30N06cDt6Uqk2ZPv/0Gp54Kc+ZA8+YuOGRnl5zOmNJIVlt1PKMd5OXl8fXXX5OVlcXmzZv54osvqFy5Mp9++im33347b7/99l5pFi5cyOTJk9myZQstW7bkyiuv3Ot5hBkzZjBv3jwaNmxIly5d+Oqrr8jJyeHyyy9n6tSpNGvWjH79+sX7UeOStAAhIqNwJYH6IpKHuzOpCoCqPosbx/ZMYDFu4Pi/ecs2iMh9wDRvU/cGGqxNav36K5xyCsyfD0ccAZMmQcOGqc6VMWXrvPPOIysrC4BNmzbRv39/fvrpJ0SEXbt2hUxz1llnUa1aNapVq8YBBxzAmjVryA66surcuXPRvPbt27Ns2TJq1arFoYceWvTsQr9+/Rg+vOwGgUzmXUwRQ51399LVYZa9BLyUjHyZ+KxaBSefDIsWwZFHuuBw4IGpzpXJFOk0rlnNmjWLpu+66y66d+/Ou+++y7Jly+jWrVvINNWqVSuazsrKYvfu3XGtU9asLyZTohUroGtXFxzatoXJky04GAOuBNGokbvJ8pVXXkn49lu2bMnSpUtZtmwZAG+++WbC9xGJBQgT0fLlLjgsXgwdOrg2hwYhhxYxJvPccsst3HbbbXTo0CEpV/w1atTg6aefpkePHnTq1InatWuz3377JXw/4VSYMalzcnLUBgxKrKVLXbXS8uVw9NEwcSLsb8+0mzKyYMECWrVqlepspNzWrVupVasWqsrVV19N8+bNuf766+PaVqjvVESmq2rIe3KtBGFC+uknV3JYvhyOPRY++cSCgzGp8Pzzz9O+fXuOPPJINm3axOWXX15m+7ZHm8xeFi2C7t1h9Wo44QT44APYd99U58qYzHT99dfHXWIoLStBmD3Mn+9KDqtXQ7du8OGHFhyMyVQWIEyR2bNdUFizxj3v8MEHUKtWqnNljEkVCxAGgBkzXIP02rWuj6X33nNdCxhjMpcFCENurgsO69fDWWfBuHGu7xljTGazAJHhpk51fSvl50OvXvDOO1C9eqpzZUzqde/enYkTJ+4x78knn+TKK68MuX63bt0I3Gp/5plnkp+fv9c6Q4YMYdiwYRH3O27cOObPn1/0/u677+bTTz+NNfsJYQEig735puuVddMmOPdceOstG6DFmIB+/foxevToPeaNHj06qg7zJkyYQJ06deLab3CAuPfeezn11FPj2lZpWYDIQKowbBj07Qs7d7qRu0aPhqDOJY3JaOeeey4ffPABO3fuBGDZsmWsWrWKUaNGkZOTw5FHHsngwYNDpm3atCnr1q0D4IEHHqBFixaccMIJLFq0qGid559/nqOPPpp27dpxzjnnsG3bNr7++mvGjx/PzTffTPv27VmyZAkDBgxg7NixAEyaNIkOHTrQpk0bBg4cyI4dO4r2N3jwYDp27EibNm1YuHBhQr4DCxAZpqAABg2Cm2927x99FJ56CrzOKY1JTyLJeUVQt25dOnfuzIcffgi40sP555/PAw88QG5uLrNnz+bzzz9n9uzZYbcxffp0Ro8ezcyZM5kwYQLTpk0rWtanTx+mTZvGrFmzaNWqFS+++CLHH388PXv25NFHH2XmzJkcdthhRetv376dAQMG8OabbzJnzhx2797NM888U7S8fv36/PDDD1x55ZUlVmNFywJEBvnjDzjvPPjPf1xV0qhRcNNNyetr35jyzl/NFKheGjNmDB07dqRDhw7Mmzdvj+qgYF988QW9e/dmn332Yd9996Vnz55Fy+bOncuJJ55ImzZtGDlyJPPmzYuYl0WLFtGsWTNatGgBQP/+/Zk6dWrR8j59+gDQqVOnos79SsuepM4Q69ZBz57wzTdQp467U6lr11TnypgopajPuF69enH99dfzww8/sG3bNurWrcuwYcOYNm0a+++/PwMGDGD79u1xbXvAgAGMGzeOdu3a8corrzBlypRS5TXQXXgiuwq3EkQGWLIEjj/eBYdDDoGvvrLgYEw0atWqRffu3Rk4cCD9+vVj8+bN1KxZk/322481a9YUVT+Fc9JJJzFu3Dj++OMPtmzZwnvvvVe0bMuWLRx88MHs2rWLkSNHFs2vXbs2W7Zs2WtbLVu2ZNmyZSxevBiA1157ja5J/ke2AFHBTZsGxx3nOt9r394FidatU50rY8qPfv36MWvWLPr160e7du3o0KEDRxxxBBdeeCFdunSJmLZjx45ccMEFtGvXjjPOOIOjjz66aNl9993HMcccQ5cuXTjiiCOK5vft25dHH32UDh06sGTJkqL51atX5+WXX+a8886jTZs2VKpUiSuuuCLxH9jHuvuuwN5/Hy64ALZtg9NPh7FjoXbtVOfKmOhYd9+JZ919GwCee849+LZtGwwY4IKFBQdjTCwsQFQwqnD77XDFFVBYCIMHw0sv2TMOxpjY2V1MFcjOnfD3v8Prr7vnGp57zr03prxSVcTuw06IeJoTLEBUEJs2wTnnwKRJULOm6zbjjDNSnStj4le9enXWr19PvXr1LEiUkqqyfv16qsfY0ZoFiAogLw/OPBPmzIEDD3TjOHTqlOpcGVM62dnZ5OXlsXbt2lRnpUKoXr062dnZMaWxAFHOrVzpbmPNy4OWLd0IcM2apTpXxpRelSpVaGYHc0pZI3U5pgpXXeWCw3HHwddfW3AwxiSOBYhy7O23Yfx4N2b0W29B3bqpzpExpiKxAFFObdzouukGePhhaNQotfkxxlQ8FiDKqVtugTVr4IQT4LLLUp0bY0xFZAGiHJoyBV54wXXZPXw4VLJf0RiTBHZqKWf++KO4xHDHHWBd1RhjksUCRDlz//2uZ9bWreHWW1OdG2NMRZbUACEiPURkkYgsFpG9Tmci0kREJonIbBGZIiLZvmUPi8hc73VBMvNZXsyeDY884kaAC1QxGWNMsiQtQIhIFvA/4AygNdBPRIJHIhgGjFDVtsC9wFAv7VlAR6A9cAxwk4jsm6y8lgcFBXDppbB7t3v24bjjUp0jY0xFl8wSRGdgsaouVdWdwGigV9A6rYHPvOnJvuWtgamqultVfwdmAz2SmNe099//usF/GjWCBx9MdW6MMZkgmQGiEbDC9z7Pm+c3C+jjTfcGaotIPW9+DxHZR0TqA92BxsE7EJHLRCRXRHIrcn8ty5e7BmmAp592D8YZY0yypbqR+iagq4jMALoCK4ECVf0YmAB8DYwCvgEKghOr6nBVzVHVnAYNGpRhtsuOKlx5Jfz+O5x3HvTsmeocJcGiRbB5c6pzYYwJkswAsZI9r/qzvXlFVHWVqvZR1Q7AHd68fO/vA6raXlVPAwT4MYl5TVujRrkO+OrUgaeeSnVukmDyZHdLVqtWMGtWqnNjjPFJZoCYBjQXkWYiUhXoC4z3ryAi9UUkkIfbgJe8+VleVRMi0hZoC3ycxLympfXr4brr3PSwYXDQQanNT8IVFLgPWFgIq1bBiSfCp5+mOlfGGE/SAoSq7gauASYCC4AxqjpPRO4VkUBFSTdgkYj8CBwIPODNrwJ8ISLzgeHAxd72MsqNN8LatdCtGwwcmOrcJMHLL7t7dw85BM4/H7ZscaMcjRiR6pwZYwCJZxi6dJSTk6O5ubmpzkbCfPIJnH46VKvmBgJq3jzVOUqwzZvdh/rtN1ePdv758K9/uaISuCcCb7/dPfRhjEkaEZmuqjmhlqW6kdqEsG0bXHGFmx48uAIGB4ChQ11wOO44uOAC16HUo4+6hhYRuPNOuPxy9+CHMSYlLECkoSFDYOlSaNsWbrop1blJgmXL4Ikn3PQTT+xZSvjnP91AF9Wrw/PPQ69esHVrSrJpTKazAJFmfvgBHnvMXVA//zxUqZLqHCXBv/4FO3bARRfBMcfsvbx3b5g0CerVgwkToHt317e5MaZMWYBII7t3u+40Cgvh2muhc+dU5ygJvvwSxoyBGjVcNVM4xx9fPIZqbq6rilq0qOzyaYyxAJFOnngCZsyAJk3gvvtSnZskKCyE66930zfdBI33ejh+Ty1awDffQE4O/PxzcdAwxpQJCxBpYulS1yAN8OyzUKtWavOTFCNHutLAwQe7IfGiceCBboSks8+GDRvglFPgnXeSmk1jjGMBIg2ouht2/vgDLrwQelTEbgl//x1uu81NDx0aWwSsWRPefdd9Sdu3w7nnVtDHyo1JLxYg0sCIEe4B4nr14MknU52bJHn0UVi5Ejp1gksuiT195crwzDOuK1tVGDTIPUlYWJj4vBpjAAsQKbd2Ldxwg5t+/HGokH0O5uW5kY7ANbTEO4i2iCuFjBjhAsbjj0O/fq5UYYxJuMqpzkCmu+suV7V+6qnxXVgDsHq1e+gsXllZrrO8rKz4txHJ7be7+rNzznH9LZXWJZdAw4bQp4+7I2r1ahg3DurWLf2247F5s3tuI1OH+MvPd33Sp1Lz5rDPPqnNQ6osXuyuNJMxipiqVohXp06dtLyZPVu1UiXVrCzV+fPj3Mjjj6uKqLqKl/hfHTuqrlqV0M+nqqrff++2X7Wq6pIlid32rFmqjRq57R9xhOrPPyd2+9EYNUq1WjXVE05Q3b277Pefah98oFqrVumPv9K+DjxQddq0VH8bZe/bb1Xr11fdf3/VRYvi2gSQq2HOq1aCSBHV4ir0q692F/AxKShwG/j3v937o46Kv+pm9Wr3hN5xx7m+xWPOTBiqxbe1XncdHHpoYrYb0Latuw32zDNh7lyX/wkToEOHxO4nFFXXb1Tgbqwvv3RVX3/7W/L3nS6ef94NVlJQ4K7ga9RITT42bXIlmK5d4a233PGQCcaPh759Xem8Rw93d2CihYsc5e1V3koQ77/vLnzq1FFduzbGxNu2qZ5zjttAlSqqI0eWLjO//aZ6zDFue/vvrzp1aum2F/Dmm26bDRqobtqUmG2GsnGjavfubl+1aql+9FHy9qXqSgpXX1189dq7t/t70EGqW7Ykd9/poLBQ9c47iz//nXe6eamyY4fqX//q8pKVpTp8eOryUlaeftpVP4Dq3/+uunNn3JsiQgki5Sf2RL3KU4DYuVO1ZUv37T/+eIyJ161T7dLFJd5vP9XPPktMpn7/XbVXL7fdatVUx4wp3fb++EO1aVO3vWefTUweI9mxQ/Wii4pPEi++mJz9+L+nqlVdECwoUO3c2c27447k7DddBJ+Mn3su1Tly0i1oJUtBgeqttxZ/znvuKfXntACRZv79b/fNN2/u/t+itnRpcWTJzladMyexGdu9W/Wqq4oPvpijl8/QoW4bbdqo7tqVuDxGUlCgetttxfkfPDixJ4nfflM99lgtKvp9/nnxsq++cvOrV1ddvjxx+0wnmzapnnqq+5z77OOKwelm+HAXuMAFspj+wdLc9u2qF15YHJxfeikhmy1VgAD+Cexf0nqpfpWXALF+vavFAdVx42JIOG2aa4gD1bZtVfPykpPBwkLVhx8uPskOGhR74+vq1cUNl598kpx8RuIvfv/tb6UqfhdZvFj18MPdNps0CX1XwQUXuOX9+pV+f+kmL88dd6B6wAHp3SD8wQcugIELaMms3iwrSaxGLW2AuB9YDIwBeuANMpRur/ISIAYNct969+4xXNx+8IFqzZple8C/8YZr3wDX3rFtW/RpL73UpTv77OTlryT/93+qNWq4fPzpT6qbN8e/re++c+0ooNqhQ/i7vZYtc9VzoPrNN/HvL93MnavauLH7XC1aJP5utGSYNs0FsmRfUJWFX35RPeooLWrn+uGHhG6+1FVMgAB/AkZ7weJB4LBo0pbVqzwEiIULVStXdnelzpwZZSJ/kfmSS8q2yDx5smvnANXjj3ftHyWZOdN9wMqV3QdOpW+/je7EHkmsgeb22926xxxTMerA4zkG0sWSJS6gJatKtiz4b+Vu1cpdhCRYQtoggHbAk8BC4BlgBvBItOmT/SoPAeLss903fumlUaxcWKh6111aVNVzxx2pOeEEXz0uXRp+3cLC4mLwoEFll8dIfvqp5KqhcOKpqtq82V3lQenvLku1N95wDfGg2qdPbKXIdLFunQtsgZs6Jk9OdY6i9+mnqvvu6/J+0kmqGzYkZTelrWIaBEwHJgLnAVW8+ZWAJSWlL6tXugeITz7RourD1atLWHnnTtX+/V2CSpVSf6dItPXP48Zp0a2y69eXbR4j8TcuR3Mbb/CdIkOGxBacX3jBpWvc2N31VN4koh0qnfhvC69a1QW+dDdihCuFg+r557u7ApOktAHiHqBJmGWtSkpfVq90DhC7d7ubeUD1wQdLWHnTJtXTTtO0u1Mk+A6WDz7Yc/mOHcVX6v/+d2ryGEnw7QQY6f4AACAASURBVKnhbuNNxO2yu3ertm/vtnHffaXLd1kLfsajNHeypZPdu4sbAMEFwHSsAiwsVH3ggeJ83niju2BJotIGiGOB2r73+wLHlJSurF/pHCCee06LajgiXgisXKnarp2m7Z0ikR5IevxxN79ly8TcNZQMJZ38gu8U+fDD+Pf12WduOzVrut+1PAj1jEdFEzhOwd3SnU4lo127VC+/3OVNpMwutEobIGb471zyqpZ+KCldWb/SNUDk5xe3k0b8fysvd4oEt43ceaerwqlTx71PlxJPOIWFqo88Upz/QPVJ8J0i06eXfl9/+YsWtV+ku2Q9TZ+OxowpvtusV6/0qAbcurW4kbJ6ddW33y6zXUcKEOKWhyciM1W1fdC82aratsR+PMpQTk6O5ubmpjobe/nXv1xP1126wBdfuB6r9zJlCvzlL65PmeOPd32s1KtX1lmNjb8fnuxs16X3aafBxIlhPmSaGTUKBgyAnTvhrLNg5kw3XkWrVq4/p6ZNS7+PxYuhdWs32HhuLnTsWPpthrJ7N2zZEn/6lSuhd2+X3yZNEtsfV7r64gvo1Qs2boRjjoHRo2G//VKTl/x8uOACmDbN9Uj83nvuPFBGRGS6quaEXBgucgRewDvAtUAV7zUIGFdSurJ+pWMJYsmS4ptAvv8+zEpz5pTfO0X8DyRVqlT+biP038IJqieemPjG9Rtu0KK7UJJR5/3116oNGxZ/htK84r0VuLyaP9/V+ybiu0vEq1mzlNwaTilLEAcATwEnAwpMAq5T1VIMQJB46ViCOO88GDsWLr4YXnstzEpXXw1PP+2uIEaOTN6YDMmSm+tKEuee64pL5c28edC/P7RvD//9rxvXIZHy8+Hww2H9enj7bTeGRaK8+64bo3b7djeEa+VSdM58+unwwgtQu3bi8lcerF4Nf/2rO45T6eij3UniwAPLfNeRShAlBojyIt0CxBdfwEknuR6Qf/zR1cLsZft210Vvfr6r4mjXrszzacrA00+7C4FDD4X586FatdJv8z//ccOuqsI//uH2UZoAYTJWpABR4gACIlJdRK4WkadF5KXAK/HZrDgKC4uHQbj55jDBAVxbQ36+G7/AgkPFddllri1i6VJ46qnSbauw0B1U117rgsP998Nzz1lwMEkRzQgzrwEH4bra+BzIBkrRIlbxvfYaTJ/uRsUMjCcT0ssvu7+ZNMhMJqpcGR57zE3ff3/8w8Nu3+6qlIYNc9t89VW4447ycVOAKZeiCRCHq+pdwO+q+ipwFnBMcrNVfv3+uxuCGWDoUKhZM8yKK1fCxx9DlSrQr1+Z5c+kSI8e7rV5MwweHHv6jRvhT3+CN9907QQTJri6c2OSKJoAscv7my8iRwH7AQdEs3ER6SEii0RksYjcGmJ5ExGZJCKzRWSKiGT7lj0iIvNEZIGIPCVSPi6THnkEVq2CnBzXOB3WiBGuuqBnT6hfv8zyZ1LoscfcTQjDh7shUqO1fLm7T3rqVFcs/eILd0uxMUkWTYAYLiL7A3cC44H5wMMlJRKRLOB/wBlAa6CfiLQOWm0YMELdMxX3AkO9tMcDXYC2wFHA0UDXaD5QKq1YAY8+6qYffzzCENGq8MorbtqqlzJH69ZwxRXuwuCGG9xxUJIZM+DYY2HBAjjySPj2W2uvMmUmYoAQkUrAZlXdqKpTVfVQVT1AVZ+LYtudgcWqulRVd+K6Cu8VtE5r4DNverJvuQLVgapANdzzF2ui+kQpdNttbvzwc8+FE0+MsOI337hbmw4+2FUbmMwxZIh7IOuTT1w1USQTJ7pb4X79Fbp1gy+/hMaNyyKXxgAlBAhVLQQiNbNG0ghY4Xuf583zmwUEbgzvDdQWkXqq+g0uYKz2XhNVdUHwDkTkMhHJFZHctWvXxpnNxPj+e/cYQ9WqrpopokDj9CWX2N0nmaZ+fbj7bjd9442wa1fo9V5+2T3hvXWra6P66COoU6fs8mkM0VUxfSoiN4lIYxGpG3glaP83AV1FZAauCmklUCAihwOtcHdMNQJOFpG9rslVdbiq5qhqToMGDRKUpdipFt/Wev310KxZhJV//901NILr6sFknmuucQ/PLVoEzz675zJVuOceGDjQdWPyr3/B668n5tkJY2IUTYC4ALgamIobF2I6EM0TaSsBf3k425tXRFVXqWofVe0A3OHNy8eVJr5V1a2quhX4EDguin2mxJgx8PXXcMABxXcwhfXOO67fnGOOqfj93ZjQqlYtbqwaMsTdoQSuNHHppW5epUrwv//BQw9FaMwyJrlKPPJUtVmI16FRbHsa0FxEmolIVaAvrpG7iIjU99o5AG4DAg/g/YIrWVQWkSq40sVeVUzpYPv24h4m7rsP9t23hATWOG3AdRTXvTts2AD33usuGnr2hJdeco/fv/MOXHVVqnNpMlyJFeAiEvJma1UdESmdqu4WkWtwI9FlAS+p6jwRuRfXOdR4oBswVEQUV0K52ks+Ftf30xxcg/VHqvpedB+pbL3/vrsL8aij4O9/L2HlZcvgs89cfz99+5ZF9ky6EnG3unXs6PqAmjQJ5sxxbRTvvefuXDImxaJpIT3aN10dOAX4AYgYIABUdQIwIWje3b7psbhgEJyuALg8iryl3PTp7m+vXlH0s/fqq+5vnz6p61rYpI/27V1bw4svuuBw2GGuMfrww1OdM2OAKAKEqv7T/15E6uBuWTW4PvbAdacUUWGhVS+Zvd1/P3z+ubt99c03IYU3WxgTLJ57LH8HIt2nk1FmzHB/27ePvB6ff+6qmBo3hpNPTna2THlx0EHumZjy0VGAyTDRtEG8h2sHANeo3RoYk8xMlRe//gpr1riG6Yi3tkJx6aF/f7srxezJgoNJU9GUIIb5pncDy1U1L0n5KVcC1Uvt2pVwzt+yxY0cBPbsgzGm3IgmQPwCrFbV7QAiUkNEmqrqsqTmrBwIVC+V2P4wZgxs2+a6TTjssKTnyxhjEiGauo63gELf+wJvXsYLlCBKbH+wcR+MMeVQNAGistfZHgDedNXkZan8iKqB+scf4auv3MAQ555bJvkyxphEiCZArBWRnoE3ItILWJe8LJUPW7bA4sVuvJ8jj4ywYuDZh/POcwPLG2NMORFNG8QVwEgR+a/3Pg/I+KGs5sxx/aq1bu261gmpoKA4QFj1kjGmnInmQbklwLEiUst7vzXpuSoHomqg/vRTN7ToYYeVMECEMcaknxKrmETkQRGpE+hZVUT2F5H7yyJz6SyqBupA4/SAAXavuzGm3ImmDeIMrwtuAFR1I3Bm8rJUPpTYQL1xI4wb5wJD//5lli9jjEmUaAJElogUjVYiIjVww4BmrF27isecDxsgRo+GHTvg1FNtmEhjTLkUTSP1SGCSiHj1JfyNKHpyrcgWLXLn/mbNInTK6q9eMsaYciiaRuqHRWQWcKo36z5VnZjcbKW3Ehuo582DadNc9Ojdu8zyZYwxiRRVb66q+hHwkYjUBPqIyAeqelZys5a+SmygDpQe+vZ1o4MZY0w5FM1dTFVFpLeIvAWsxo309mwJySq0iA3Uu3a5QebBnn0wxpRrYUsQInI60A84HZiMa3c4WlUz+qynWsIgQR995PoAb9UKOncu07wZY0wiRSpBfAQcCpygqhd7Y0IXRlg/I6xY4e5grVcPGjUKsYI9+2CMqSAitUF0BPoCn4rIUtwwoyWNulzh+Ruo9zr/r13rBpzPyoJLLinzvBljTCKFLUGo6kxVvVVVDwMGA+2BKiLyoYhcVmY5TDMRG6hHjoTdu6FHDzj44DLNlzHGJFpUY1+q6teq+k8gG3gCODapuUpjEW9xDQwrao3TxpgKIKrbXANUtRD42HtlpLAliBkzYNYs1zjx5z+Xeb6MMSbRoipBGGfjRli+HKpXhxYtghYGGqcvuihC/9/GGFN+WICIQaD00LYtVPaXvXbscO0PYF1rGGMqjEjPQdSNlFBVNyQ+O+ktbPXSe+/Bhg3Qrl0JA0QYY0z5EakNYjqgQKib+RX3jERGCdtAbY3TxpgKKGyAUNVmZZmR8iBkCWL1avf0dJUqrv3BGGMqiGj6YhIRuVhE7vLeHyIiGdeHxPbtsGCBeziuTRvfgokT3djTPXpA/fopy58xxiRaNI3UTwPHARd677cA/0tajtLUvHnuGbiWLaFmTd+CQLHi2Ix9NMQYU0FF8xzEMaraUURmgBtyVEQy7j7OsA3UEXvuM8aY8iuaEsQuEcnCNUwjIg2IstM+EekhIotEZLGI3BpieRMRmSQis0Vkiohke/O7i8hM32u7iPwlhs+VcCEbqP1du4YdHMIYY8qnaALEU8C7wAEi8gDwJfBgSYm8oPI/4AygNdBPRFoHrTYMGKGqbYF7gaEAqjpZVduranvc+BPbSPHT2yHjwLJlsGkTHHig9b1kjKlwohlydKSITAdOwd3y+hdVXRDFtjsDi1V1KYCIjAZ6AfN967QGbvCmJwPjQmznXOBDVd0WxT6TorDQ9aIBQQEi4shBxhhTvoUtQYhI3cAL+A0YBbwBrCnpITpPI2CF732eN89vFtDHm+4N1BaRekHr9PX2HSqPl4lIrojkrl27NoosxWfJEti6FRo2hAMO8C2w9gdjTAUWqYppOpDr/V0L/Aj85E1PT9D+bwK6eg3gXYGVQEFgoYgcDLQBJoZKrKrDVTVHVXMaNGiQoCztrcQGaitBGGMqoBIflBOR54F3VXWC9/4MIJoG45VAY9/7bG+efx+r8EoQIlILOEdV832rnO/te1cU+0uasE9QWxWTMaYCi6aR+thAcABQ1Q+B46NINw1oLiLNvNti+wLj/SuISH0RCeThNuCloG30I0z1UlkKWVBYtw7y8txDEYcfnpJ8GWNMMkUTIFaJyJ0i0tR73QGsKimRqu4GrsFVDy0AxqjqPBG5V0R6eqt1AxaJyI/AgcADgfQi0hRXAvk8hs+TFCGbGvxdu2Zl/EisxpgKKJoH5frhhhx913s/1ZtXIq/kMSFo3t2+6bHA2DBpl7F3o3aZW7PGdbdUuzY08/dOZQ3UxpgKLprbXDcAg0SktnurW5OfrfQRiAPt2kGlSiEWWPuDMaaCiqazvjbeXUZzgXkiMl1Ejkp+1tKDNVAbYzJVNG0QzwE3qGoTVW0C3AgMT2620kfIgsIff8DCha7t4aiMiZXGmAwTTYCoqaqTA29UdQpQM/zqFUvIpoY5c9zj1UccATVqpCRfxhiTbNE0Ui/1xoJ4zXt/MbA0eVlKH1u3wo8/uvGnW/t7kbIGamNMBoimBDEQaAC8470aePMqvDlzXIetrVtDtWq+BdZAbYzJANHcxbQRuLYM8pJ2rIHaGJPJwgYIERkfbhmAqvaMtLwiCFlQKCiA2bNDLDDGmIolUgniOFxvrKOA73BdfWeUkE0NP/0E27ZB48ZQL7jjWWOMqTgiBYiDgNNwT01fCHwAjFLVeWWRsVTbvdu1QYB7SK6INVAbYzJE2EZqVS1Q1Y9UtT9wLLAYmCIi15RZ7lJo0SLYvh2aNoU6dXwLrIHaGJMhIjZSi0g14CxcKaIpxcOPVnjWQG2MyXSRGqlHAEfhOtu7R1Xnllmu0kDIgoJqhMhhjDEVS6QSxMXA78Ag4FqRojZqwXXat2+S85ZSIZsaVq+GtWtdnVOTJinJlzHGlJVII8pF8xBdheQvKOxRgvAXKyTjbuoyxmSYjA0CkeTlwYYN7i7W7GzfAmugNsZkEAsQIfhLD3sUFKyB2hiTQSxAhBC2oGDPQBhjMogFiBBCxoHNm2HxYqhaFVq1Skm+jDGmLFmACCFkTVKg/6WjjoIqVco8T8YYU9YsQATJz4dly6B6dWjZ0rfAGqiNMRnGAkSQQBxo08YNFFTEGqiNMRnGAkQQa6A2xhjHAkSQkHFg1y6Y6/U00rZtmefJGGNSwQJEkJA1SQsWwM6dcPjhsG+F7mHEGGOKWIDw2bED5s93D8ftUVCwBmpjTAayAOEzb54bKKhFC6hZ07fAGqiNMRnIAoRP2HZoa6A2xmQgCxA+YceAsComY0wGsgDhE7Imafly9/TcAQfAwQenJF/GGJMKSQ0QItJDRBaJyGIRuTXE8iYiMklEZovIFBHJ9i07REQ+FpEFIjJfRJomM6+FhTBrlpu2MSCMMSaJAUJEsoD/AWcArYF+ItI6aLVhwAhVbQvcCwz1LRsBPKqqrYDOwG/JyivA0qWwZYsrJBx4oG+BNVAbYzJUMksQnYHFqrpUVXcCo4FeQeu0Bj7zpicHlnuBpLKqfgKgqltVdVsS82oN1MYYEySZAaIRsML3Ps+b5zcL6ONN9wZqi0g9oAWQLyLviMgMEXnUK5HsQUQuE5FcEcldu3ZtqTIbth3aShDGmAyV6kbqm4CuIjID6AqsBApwY2Wf6C0/GjgUGBCcWFWHq2qOquY0aNCgVBkJGQfWr4cVK2CffaB581Jt3xhjyptkBoiVQGPf+2xvXhFVXaWqfVS1A3CHNy8fV9qY6VVP7QbGAR2TmNfQNUmBVuu2bSFrrwKMMcZUaMkMENOA5iLSTESqAn2B8f4VRKS+iATycBvwki9tHREJFAtOBuYnK6O//QarVkHt2nDoob4FVr1kjMlgSQsQ3pX/NcBEYAEwRlXnici9ItLTW60bsEhEfgQOBB7w0hbgqpcmicgcQIDnk5XXQOmhXTuoVCnEAmugNsZkoMolrxI/VZ0ATAiad7dveiwwNkzaT4Ay6VvbGqiNMWZvqW6kTgsh48Aff8DCha5I0aZNSvJljDGpZAGCMDVJc+dCQQEccQTUqJGSfBljTCplfID4/XdYtMiNP33kkb4F1kGfMSbDZXyAmDPHddjaujVUq+ZbYA3UxpgMl/EBwhqojTEmtKTexVQeDBwIxx4LVav6ZhYUwOzZbtoChDEmQ2V8gKhaNUQMWLzYNU5kZ0P9+inJlzHGpFrGVzGFZA3UxhhjASIka6A2xhgLECFZA7UxxliACMlKEMYYYwFiL6tXw5o1sN9+0LRpqnNjjDEpYwEimL+BWiS1eTHGmBSyABHM7mAyxhjAAsTerIHaGGMACxB7swZqY4wBLEDsacsW+OknqFIFWrVKdW6MMSalLED4BfpfOuqooM6ZjDEm81iA8LMGamOMKWIBws8aqI0xpogFCD9roDbGmCIWIAJ27XLDywG0a5favBhjTBqwABGwcCHs3AmHHQb77pvq3BhjTMpZgAiwBmpjjNmDBYgAa6A2xpg9WIAIsAZqY4zZgwUIAFUrQRhjTBALEAC//AL5+dCgATRsmOrcGGNMWrAAATYGhDHGhGABAqx6yRhjQrAAAdZAbYwxISQ1QIhIDxFZJCKLReTWEMubiMgkEZktIlNEJNu3rEBEZnqv8cnMp5UgjDFmb5WTtWERyQL+B5wG5AHTRGS8qs73rTYMGKGqr4rIycBQ4BJv2R+qmvwz9oYNrpG6Rg1o0SLpuzPGmPIimSWIzsBiVV2qqjuB0UCvoHVaA59505NDLE++WbPc37ZtISurzHdvjDHpKpkBohGwwvc+z5vnNwvo4033BmqLSD3vfXURyRWRb0XkL6F2ICKXeevkrl27Nr5crljhRpCz6iVjjNlDqhupbwK6isgMoCuwEijwljVR1RzgQuBJETksOLGqDlfVHFXNadCgQXw5+OtfYetWGDo0vvTGGFNBJa0NAneyb+x7n+3NK6Kqq/BKECJSCzhHVfO9ZSu9v0tFZArQAViSlJxWrWpDjBpjTJBkliCmAc1FpJmIVAX6AnvcjSQi9UUkkIfbgJe8+fuLSLXAOkAXwN+4bYwxJsmSFiBUdTdwDTARWACMUdV5InKviPT0VusGLBKRH4EDgQe8+a2AXBGZhWu8fijo7idjjDFJJqqa6jwkRE5Ojubm5qY6G8YYU66IyHSvvXcvqW6kNsYYk6YsQBhjjAnJAoQxxpiQLEAYY4wJqcI0UovIWmB5KTZRH1hn6S29pbf0GZa+iaqGftJYVe3lgmSupbf0lt7SZ2L6cC+rYjLGGBOSBQhjjDEhWYAoNtzSW3pLb+kzNH1IFaaR2hhjTGJZCcIYY0xIFiCMMcaElPEBQkReEpHfRGRuHGkbi8hkEZkvIvNEZFCM6auLyPciMstLf0+sefC2kyUiM0Tk/TjSLhOROSIyU0Ri7u1QROqIyFgRWSgiC0TkuBjStvT2G3htFpHrYtz/9d53N1dERolI9RjTD/LSzot236GOGRGpKyKfiMhP3t/9Y0x/npeHQhEJ2XFaCekf9X6D2SLyrojUiTH9fV7amSLysYg0jCW9b9mNIqJeN/2x7H+IiKz0HQtnxrp/Efmn9x3ME5FHYtz/m759LxORmTGmb++NfjnTG+Wyc4zp24nIN97/4nsism+YtCHPObEcfzFJxr2z5ekFnAR0BObGkfZgoKM3XRv4EWgdQ3oBannTVYDvgGPjyMcNwBvA+3GkXQbUL8X39ypwqTddFagT53aygF9xD+1Em6YR8DNQw3s/BhgQQ/qjgLnAPrjBsz4FDo/nmAEeAW71pm8FHo4xfSugJTAFyIlj/6cDlb3ph+PY/76+6WuBZ2NJ781vjOvef3mkYyrM/ocAN0X5u4VK3937/ap57w+INf++5Y8Bd8e4/4+BM7zpM4EpMaafBnT1pgcC94VJG/KcE8vxF8sr40sQqjoV2BBn2tWq+oM3vQU37kXwuNuR0quqbvXeVvFeMd01ICLZwFnAC7GkSwQR2Q93sL8IoKo71RsRMA6nAEtUNdan4SsDNUSkMu5EvyqGtK2A71R1m7rxSz6neIz0sMIcM71wwRLvb8hx1MOlV9UFqroomkyHSf+x9xkAvsWN4BhL+s2+tzWJcBxG+J95ArglUtoS0kclTPorcePG7PDW+S2e/YuIAOcDo2JMr0Dgqn8/IhyHYdK3AKZ6058A54RJG+6cE/XxF4uMDxCJIiJNccOifhdjuiyvOPsb8ImqxpQeeBL3T1kYY7oABT4WkekiclmMaZsBa4GXvSquF0SkZpz56EuEf8pQ1A1LOwz4BVgNbFLVj2PYxFzgRBGpJyL74K78GpeQJpwDVXW1N/0rbgCsVBkIfBhrIhF5QERWABcBd8eYthewUlVnxbpfn2u8aq6X4qgiaYH7Lb8Tkc9F5Og483AisEZVf4ox3XXAo973Nww3QmYs5uFO8gDnEcVxGHTOScrxZwEiAcSNp/02cF3QlViJVLVAVdvjrvg6i8hRMez3bOA3VZ0eU4b3dIKqdgTOAK4WkZNiSFsZV1R+RlU7AL/jircxETckbU/grRjT7Y/7p2oGNARqisjF0aZX1QW46piPgY+AmUBBLHkIs10lxpJgoojIHcBuYGSsaVX1DlVt7KW9JoZ97gPcToxBJcgzwGFAe1ywfyzG9JWBusCxwM3AGK80EKt+xHih4rkSuN77/q7HK1XHYCBwlYhMx1Ud7Yy0cqRzTiKPPwsQpSQiVXA/1EhVfSfe7XhVM5OBHjEk6wL0FJFlwGjgZBF5Pcb9rvT+/ga8C4RtXAshD8jzlXrG4gJGrM4AflDVNTGmOxX4WVXXquou4B3g+Fg2oKovqmonVT0J2Iir043HGhE5GMD7G7aKI1lEZABwNnCRd5KI10jCVHGEcRguSM/yjsVs4AcROSjaDajqGu9iqRB4ntiOQ3DH4jtete33uBJ12IbyULxqyj7AmzHuG6A/7vgDd6ETU/5VdaGqnq6qnXABakmEfIY65yTl+LMAUQreFcqLwAJVfTyO9A0Cd5uISA3gNGBhtOlV9TZVzVbVprgqms9UNeoraBGpKSK1A9O4hs6o7+ZS1V+BFSLS0pt1ChDP2OHxXrX9AhwrIvt4v8UpuDrZqInIAd7fQ3AnhzfiyAfAeNxJAu/v/8W5nbiISA9cVWNPVd0WR/rmvre9iO04nKOqB6hqU+9YzMM1pP4aw/4P9r3tTQzHoWccrqEaEWmBu2Ei1t5NTwUWqmpejOnAtTl09aZPBmKqovIdh5WAO4Fnw6wX7pyTnOMvES3d5fmFOzGtBnbhDuy/x5D2BFxRbjauemImcGYM6dsCM7z0c4lw50QU2+pGjHcxAYcCs7zXPOCOOPbbHsj1PsM4YP8Y09cE1gP7xfm578GdzOYCr+HdxRJD+i9wQW0WcEq8xwxQD5iEOzF8CtSNMX1vb3oHsAaYGGP6xcAK33EY6S6kUOnf9r7D2cB7QKN4/2co4c64MPt/DZjj7X88cHCM6asCr3uf4Qfg5FjzD7wCXBHn738CMN07jr4DOsWYfhCu9Poj8BBeLxch0oY858Ry/MXysq42jDHGhGRVTMYYY0KyAGGMMSYkCxDGGGNCsgBhjDEmJAsQxhhjQrIAYYwxJiQLEMaUMa876Zie8vWlHSC+rrhLsy1jSmIBwpjyZQCu3yljks4ChMlYItLUG2DmFRH5UURGisipIvKVN/BKZ+/1jddb7deBbkXEDVT0kjfdRtygQ/uE2U89cYPwzBORF3DjgASWXSxu0KiZIvKciGR587eKyBNemkletyznAjnASG/9Gt5m/ikiP4gbbOaIZH5nJrNYgDCZ7nBcz6FHeK8Lcd0Z3ITroXQhcKK63mrvBh700v0bOFxEegMvA5dr+D6QBgNfquqRuA4RDwEQkVbABUAXdT36FuC62gbXBUmul+ZzYLCqjsV1a3KRqrZX1T+8ddep65H3GS/fxiRE5VRnwJgU+1lV5wCIyDxgkqqqiMwBmuIGf3nV68xOcYM6oaqFXu+ps4HnVPWrCPs4CW8gIlX9QEQ2evNPAToB07yeqWtQ3AtnIcW9ir5OcU+hoQSWTSeKAY+MiZYFCJPpdvimC33vC3H/H/cBk1W1tzdAyxTf+s2BrcTfJiDAq6oazeAykTpNC+S5APufNglkVUzGRLYfsNKbHhCY6Q23+hSudFDPax8IZyqu6goROQMIjJY2CTjX19VzXRFp4i2rBAS2eSHwpTe9BTegeZxB6QAAAKJJREFUjDFJZwHCmMgeAYaKyAz2vDp/Avifqv6I6675ocCJPoR7gJO8Kqw+uHEsUNX5uL7/PxaR2bixiAPjIvyOG2FwLm58gXu9+a8AzwY1UhuTFNbdtzFpSES2qmqtVOfDZDYrQRhjjAnJShDGJIiI/A03MpjfV6p6dSryY0xpWYAwxhgTklUxGWOMCckChDHGmJAsQBhjjAnJAoQxxpiQ/h91CDpskAlrVAAAAABJRU5ErkJggg==\n",
            "text/plain": [
              "<Figure size 432x288 with 1 Axes>"
            ]
          },
          "metadata": {
            "tags": [],
            "needs_background": "light"
          }
        }
      ]
    },
    {
      "cell_type": "code",
      "metadata": {
        "id": "-vX_IpoV5sze"
      },
      "source": [
        "## The highest accuracy for validation data happens when max_depth=7\n",
        "pipeline_randomForest_max_depth = Pipeline(steps=[\n",
        "  ('preprocessor', preprocessor),\n",
        "   ('Forest_model', RandomForestClassifier(max_depth=7))\n",
        "])"
      ],
      "execution_count": null,
      "outputs": []
    },
    {
      "cell_type": "code",
      "metadata": {
        "id": "RhAqYhkQ4tTU"
      },
      "source": [
        "pipeline_randomForest_max_depth.fit(x_train,y_train)"
      ],
      "execution_count": null,
      "outputs": []
    },
    {
      "cell_type": "code",
      "metadata": {
        "id": "n4edFdLR4tK0",
        "outputId": "d89faa9e-db06-4ffb-8e52-d8fd2f215352",
        "colab": {
          "base_uri": "https://localhost:8080/"
        }
      },
      "source": [
        "print(accuracy_score(y_test,pipeline_randomForest_max_depth.predict(x_test)))"
      ],
      "execution_count": null,
      "outputs": [
        {
          "output_type": "stream",
          "text": [
            "1.0\n"
          ],
          "name": "stdout"
        }
      ]
    },
    {
      "cell_type": "code",
      "metadata": {
        "id": "4gpX9ITh_a3k",
        "outputId": "c57d1c4c-f32b-477f-ca0b-7e065b581cfe",
        "colab": {
          "base_uri": "https://localhost:8080/"
        }
      },
      "source": [
        "##\n",
        "\n",
        "min_samples_leaf=[1, 2, 4,6]\n",
        "\n",
        "train_scores, valid_scores = validation_curve( pipeline_randomForest, x_train, y_train, param_name=\"Forest_model__min_samples_leaf\", param_range=min_samples_leaf,\n",
        "    cv=10, scoring=\"accuracy\")\n",
        "\n",
        "#Size of train_scores will be: length of parameter (max_depth_range) X number of folds\n",
        "print(train_scores.shape)\n"
      ],
      "execution_count": null,
      "outputs": [
        {
          "output_type": "stream",
          "text": [
            "(4, 10)\n"
          ],
          "name": "stdout"
        }
      ]
    },
    {
      "cell_type": "code",
      "metadata": {
        "id": "ITTnR5uG_fKR",
        "outputId": "68304cae-8fc1-4588-92fe-31725fb2fa30",
        "colab": {
          "base_uri": "https://localhost:8080/",
          "height": 313
        }
      },
      "source": [
        "mean_train_score = np.mean(train_scores, axis=1)\n",
        "mean_val_score = np.mean(valid_scores, axis=1)\n",
        "plt.plot(min_samples_leaf, mean_train_score, color=\"blue\", linewidth=2, label=\"Training\")\n",
        "plt.plot(min_samples_leaf, mean_val_score, color=\"red\", linewidth=2, label=\"Validation\")\n",
        "plt.legend(loc=\"upper right\")\n",
        "plt.xlabel(\"min_samples_leaf\")\n",
        "plt.xticks(range(1,21))\n",
        "plt.ylabel(\"Model Accuracy\")\n",
        "plt.title(\"Accuracy comparison of training/validation set\")"
      ],
      "execution_count": null,
      "outputs": [
        {
          "output_type": "execute_result",
          "data": {
            "text/plain": [
              "Text(0.5, 1.0, 'Accuracy comparison of training/validation set')"
            ]
          },
          "metadata": {
            "tags": []
          },
          "execution_count": 52
        },
        {
          "output_type": "display_data",
          "data": {
            "image/png": "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\n",
            "text/plain": [
              "<Figure size 432x288 with 1 Axes>"
            ]
          },
          "metadata": {
            "tags": [],
            "needs_background": "light"
          }
        }
      ]
    },
    {
      "cell_type": "code",
      "metadata": {
        "id": "U_sq2cMdAEf5"
      },
      "source": [
        "## The figure shows choosing min_samples_leaf with one would be the best value for optimizing the model."
      ],
      "execution_count": null,
      "outputs": []
    },
    {
      "cell_type": "markdown",
      "metadata": {
        "id": "7_zUzKylz3vE"
      },
      "source": [
        "**Best optimized model for RandomForest based on RandomizesearchCV**"
      ]
    },
    {
      "cell_type": "code",
      "metadata": {
        "id": "ggJBGniQz13-"
      },
      "source": [
        "pipeline_randomForest_op = Pipeline(steps=[\n",
        "  ('preprocessor', preprocessor),\n",
        "   ('Forest_model', RandomForestClassifier(n_estimators=1200,min_samples_split=2,min_samples_leaf=1,max_features='auto',max_depth=20))\n",
        "])"
      ],
      "execution_count": null,
      "outputs": []
    },
    {
      "cell_type": "code",
      "metadata": {
        "id": "leifDs_guqtt"
      },
      "source": [
        "pipeline_randomForest_op.fit(x_train,y_train)"
      ],
      "execution_count": null,
      "outputs": []
    },
    {
      "cell_type": "code",
      "metadata": {
        "id": "nD9tYSxMurEy"
      },
      "source": [
        "y_pred_randomForest = pipeline_randomForest_op.predict(x_test)"
      ],
      "execution_count": null,
      "outputs": []
    },
    {
      "cell_type": "code",
      "metadata": {
        "id": "F8ewGkoKurIi",
        "outputId": "6fc421e5-987b-4ccb-9a61-0c5e69b8448d",
        "colab": {
          "base_uri": "https://localhost:8080/"
        }
      },
      "source": [
        "print(accuracy_score(y_test,y_pred_randomForest))"
      ],
      "execution_count": null,
      "outputs": [
        {
          "output_type": "stream",
          "text": [
            "1.0\n"
          ],
          "name": "stdout"
        }
      ]
    },
    {
      "cell_type": "code",
      "metadata": {
        "id": "jo1pgJY6urbL",
        "outputId": "9f2c8598-94e2-48ed-ae94-d1c9a68bea31",
        "colab": {
          "base_uri": "https://localhost:8080/"
        }
      },
      "source": [
        "print(confusion_matrix(y_test,y_pred_randomForest))"
      ],
      "execution_count": null,
      "outputs": [
        {
          "output_type": "stream",
          "text": [
            "[[76  0]\n",
            " [ 0 44]]\n"
          ],
          "name": "stdout"
        }
      ]
    },
    {
      "cell_type": "code",
      "metadata": {
        "id": "i1467enQurez",
        "outputId": "3d1e7cb1-b40e-4590-dcdf-152c1112d099",
        "colab": {
          "base_uri": "https://localhost:8080/"
        }
      },
      "source": [
        "print(f1_score(y_test,y_pred_randomForest,average=None))"
      ],
      "execution_count": null,
      "outputs": [
        {
          "output_type": "stream",
          "text": [
            "[1. 1.]\n"
          ],
          "name": "stdout"
        }
      ]
    },
    {
      "cell_type": "markdown",
      "metadata": {
        "id": "BfvQYurutqKN"
      },
      "source": [
        "**Cross validation scores for optimized random forest model** "
      ]
    },
    {
      "cell_type": "code",
      "metadata": {
        "id": "NQbM5Tw1urib",
        "outputId": "1f5ecdba-1ea9-4c2e-ee11-78b8978d9397",
        "colab": {
          "base_uri": "https://localhost:8080/"
        }
      },
      "source": [
        "scores= cross_val_score(pipeline_randomForest_op,x,y,cv=10)\n",
        "scores"
      ],
      "execution_count": null,
      "outputs": [
        {
          "output_type": "execute_result",
          "data": {
            "text/plain": [
              "array([1.   , 0.975, 1.   , 1.   , 0.95 , 0.975, 0.975, 1.   , 1.   ,\n",
              "       1.   ])"
            ]
          },
          "metadata": {
            "tags": []
          },
          "execution_count": 36
        }
      ]
    },
    {
      "cell_type": "code",
      "metadata": {
        "id": "dGzecqY3uTIa",
        "outputId": "ecdc5741-108f-4c32-bc92-e3d234fa1ea1",
        "colab": {
          "base_uri": "https://localhost:8080/"
        }
      },
      "source": [
        "print(\"Accuracy: %0.2f (+/- %0.2f)\" % (scores.mean(), scores.std() * 2))\n"
      ],
      "execution_count": null,
      "outputs": [
        {
          "output_type": "stream",
          "text": [
            "Accuracy: 0.99 (+/- 0.03)\n"
          ],
          "name": "stdout"
        }
      ]
    },
    {
      "cell_type": "markdown",
      "metadata": {
        "id": "gmRFTQ_ZTQNv"
      },
      "source": [
        "## Part 3: Discussion **(5 marks)**\n",
        "\n",
        "Based on the results obtained in Part-2, which classification method showed the best performance and why? Do you have any suggestions to further improve the model performances? **(5 marks)**"
      ]
    },
    {
      "cell_type": "code",
      "metadata": {
        "id": "cDri_wf6qmKU"
      },
      "source": [
        "#I want to consider the models I have  made through  pipeline processes  as my final consideration"
      ],
      "execution_count": null,
      "outputs": []
    },
    {
      "cell_type": "markdown",
      "metadata": {
        "id": "gaRnPW9BDqYr"
      },
      "source": [
        "model|accuracy_score | mean_score for cross validation with considering std\n",
        "---|---|---\n",
        "suppprt vector machine|0.9666666666666667| 0.97 (+/- 0.12)\n",
        "K_nearest neighbours|0.9333333333333333| 0.94 (+/- 0.10)\n",
        "Decison Tree |0.9916666666666667|0.97 (+/- 0.05)\n",
        "Random Forest |1.0|  0.99 (+/- 0.03)"
      ]
    },
    {
      "cell_type": "markdown",
      "metadata": {
        "id": "UvYz9YAUhZKW"
      },
      "source": [
        "**Answer**: From the above table we could conclude making a model with random forest classifier lead to highest accuracy. it is predictable when we get a good accuracy rate in decision tree ( it occurs here) we could get a better  and higher  accuracy than decison tree  from Random forest algorithm.Because Random forest can handle overfitting and underfitting problems in decison tree effectively. I have also checked the validation score for optimized model of random forest which also high accuray for every fold.That model has high accuracy which does not usually  happen in real world. For improvin g a model in random forest algorithm I am trying to tune hyperparameters to make an optimized model. for example I will try to test how many number of trees in the forest should be considered (n_estimators) , number of features could be considered for splitting a node (max_features) ,or tune max_depth hyperparameter for considering number of levels in each decision tree.definitely checking the model for detecting overfiting and underfitting and tuning hyperparameters to prevent them  should always be considered to improve a model."
      ]
    },
    {
      "cell_type": "markdown",
      "metadata": {
        "id": "tMgsbesAj1zL"
      },
      "source": [
        "**To conclude** : I know  is not possible to get 100% accuracy rate in real world scenarios I have done my best to prevent it by making a pipeline and just preprocess train data without touching test data but It still has occured. I have tried to work on train and validation data to make a deciosn which models would be an optimized  model with tunning different  hyperparameters and plotting few of them."
      ]
    },
    {
      "cell_type": "code",
      "metadata": {
        "id": "77OJP4nEur4P"
      },
      "source": [
        ""
      ],
      "execution_count": null,
      "outputs": []
    },
    {
      "cell_type": "code",
      "metadata": {
        "id": "FtnZu_lHurUi"
      },
      "source": [
        ""
      ],
      "execution_count": null,
      "outputs": []
    },
    {
      "cell_type": "code",
      "metadata": {
        "id": "YAD5cn26urRl"
      },
      "source": [
        ""
      ],
      "execution_count": null,
      "outputs": []
    },
    {
      "cell_type": "markdown",
      "metadata": {
        "id": "gP0K1_9vpmeN"
      },
      "source": [
        "**making models with by doing knn imputation method on the whole dataset. Please  be ignored for marking as I have done all again on pipeline process in above and only want to show my effort to find the best way for processing data.**"
      ]
    },
    {
      "cell_type": "markdown",
      "metadata": {
        "id": "KkVCKdjmX0kV"
      },
      "source": [
        "**Making model by imputation the whole dataset with KNN imputation method for numerical columns**"
      ]
    },
    {
      "cell_type": "code",
      "metadata": {
        "id": "1QGdDBDslNOK"
      },
      "source": [
        "df['sg'].fillna(method='ffill', inplace=True)\n",
        "df['al'].fillna(method='ffill', inplace=True)\n",
        "df['su'].fillna(method='ffill', inplace=True)\n"
      ],
      "execution_count": null,
      "outputs": []
    },
    {
      "cell_type": "code",
      "metadata": {
        "id": "ZShFvMV8LIZ9",
        "outputId": "48932481-444b-47c7-d406-5c2914bb8c28",
        "colab": {
          "base_uri": "https://localhost:8080/"
        }
      },
      "source": [
        " df_nummerical = df[['bp','bgr','bu','sc','sod','pot','hemo']]\n",
        " from fancyimpute import KNN\n",
        " X_filled_knn = KNN(k=5).fit_transform(df_nummerical)"
      ],
      "execution_count": null,
      "outputs": [
        {
          "output_type": "stream",
          "text": [
            "Imputing row 1/400 with 2 missing, elapsed time: 0.032\n",
            "Imputing row 101/400 with 1 missing, elapsed time: 0.035\n",
            "Imputing row 201/400 with 0 missing, elapsed time: 0.038\n",
            "Imputing row 301/400 with 0 missing, elapsed time: 0.041\n",
            "[KNN] Warning: 7/2800 still missing after imputation, replacing with 0\n"
          ],
          "name": "stdout"
        }
      ]
    },
    {
      "cell_type": "code",
      "metadata": {
        "id": "8lGXSi0CfaW8"
      },
      "source": [
        "df_knn = pd.DataFrame(X_filled_knn,columns=['bp','bgr','bu','sc','sod','pot','hemo'])\n"
      ],
      "execution_count": null,
      "outputs": []
    },
    {
      "cell_type": "code",
      "metadata": {
        "id": "snBSUSsrnGsN"
      },
      "source": [
        " df_rest = df.drop(['bp','bgr','bu','sc','sod','pot','hemo'],axis=1)\n",
        " "
      ],
      "execution_count": null,
      "outputs": []
    },
    {
      "cell_type": "code",
      "metadata": {
        "id": "TTUkutx8pQb2"
      },
      "source": [
        " df_knn_impute = pd.concat([df_rest,df_knn],axis=1)\n",
        "# df_knn_impute"
      ],
      "execution_count": null,
      "outputs": []
    },
    {
      "cell_type": "code",
      "metadata": {
        "id": "RuEAO74oV6_d"
      },
      "source": [
        "df_knn_impute.isna().sum()"
      ],
      "execution_count": null,
      "outputs": []
    },
    {
      "cell_type": "code",
      "metadata": {
        "id": "Dt0mLoDbLy6A"
      },
      "source": [
        "# CODE and/or COMMENT"
      ],
      "execution_count": null,
      "outputs": []
    },
    {
      "cell_type": "code",
      "metadata": {
        "id": "yobJ3lZTqLha"
      },
      "source": [
        "X_knn_impute = df_knn_impute.drop('class',axis=1)"
      ],
      "execution_count": null,
      "outputs": []
    },
    {
      "cell_type": "code",
      "metadata": {
        "id": "BRZNw0mNqT46"
      },
      "source": [
        "y = df_knn_impute['class']"
      ],
      "execution_count": null,
      "outputs": []
    },
    {
      "cell_type": "code",
      "metadata": {
        "id": "dpRieJb4qfEe"
      },
      "source": [
        "x_train, x_test, y_train, y_test = train_test_split(X_knn_impute,y, test_size = 0.30 , random_state =42)"
      ],
      "execution_count": null,
      "outputs": []
    },
    {
      "cell_type": "markdown",
      "metadata": {
        "id": "xRl85gqFiGAw"
      },
      "source": [
        "**Support Vector Machine Model**"
      ]
    },
    {
      "cell_type": "code",
      "metadata": {
        "id": "up5Z8oEAiWWh"
      },
      "source": [
        " clf_svm = SVC(kernel='linear').fit(x_train,y_train)\n",
        " y_pred = clf_svm.predict(x_test)"
      ],
      "execution_count": null,
      "outputs": []
    },
    {
      "cell_type": "code",
      "metadata": {
        "id": "RIrl0NAOlHzM"
      },
      "source": [
        "scores = cross_val_score(clf_svm, X_knn_impute, y, cv=10)"
      ],
      "execution_count": null,
      "outputs": []
    },
    {
      "cell_type": "code",
      "metadata": {
        "id": "FtBKcAbUnmHk",
        "outputId": "60173670-4b6a-4277-cd12-cf2741e0e109",
        "colab": {
          "base_uri": "https://localhost:8080/",
          "height": 51
        }
      },
      "source": [
        "scores"
      ],
      "execution_count": null,
      "outputs": [
        {
          "output_type": "execute_result",
          "data": {
            "text/plain": [
              "array([0.925, 0.925, 0.95 , 0.975, 0.9  , 0.95 , 1.   , 0.975, 0.95 ,\n",
              "       0.975])"
            ]
          },
          "metadata": {
            "tags": []
          },
          "execution_count": 58
        }
      ]
    },
    {
      "cell_type": "code",
      "metadata": {
        "id": "31pOk6Oq7SBy",
        "outputId": "37faad9b-69ca-42b6-9e7a-6f5ff05a65d4",
        "colab": {
          "base_uri": "https://localhost:8080/"
        }
      },
      "source": [
        "from sklearn.model_selection import validation_curve\n",
        "\n",
        "# kernel type\n",
        "kernel = ['linear','rbf', 'poly']\n",
        "# do 10-fold cross-validation for each value in max_depth_range and return the accuracy scores. \n",
        "train_scores, valid_scores = validation_curve( clf_svm, x_train, y_train, param_name=\"kernel\", param_range=kernel,\n",
        "    cv=10, scoring=\"accuracy\")\n",
        "\n",
        "#Size of train_scores will be: length of parameter (max_depth_range) X number of folds\n",
        "print(train_scores.shape)"
      ],
      "execution_count": null,
      "outputs": [
        {
          "output_type": "stream",
          "text": [
            "(3, 10)\n"
          ],
          "name": "stdout"
        }
      ]
    },
    {
      "cell_type": "code",
      "metadata": {
        "id": "h2fN_xti7fzs",
        "outputId": "710acaeb-a013-48a1-c7da-4cebce2f1ae1",
        "colab": {
          "base_uri": "https://localhost:8080/",
          "height": 312
        }
      },
      "source": [
        "# Mean accuracy score for different Kernel\n",
        "mean_train_score = np.mean(train_scores, axis=1)\n",
        "mean_val_score = np.mean(valid_scores, axis=1)\n",
        "plt.plot(kernel, mean_train_score, color=\"blue\", linewidth=2, label=\"Training\")\n",
        "plt.plot(kernel, mean_val_score, color=\"red\", linewidth=2, label=\"Validation\")\n",
        "plt.legend(loc=\"upper right\")\n",
        "plt.xlabel(\"kerenl\")\n",
        "plt.ylabel(\"Model Accuracy\")\n",
        "plt.title(\"Accuracy comparison of training/validation set\")"
      ],
      "execution_count": null,
      "outputs": [
        {
          "output_type": "execute_result",
          "data": {
            "text/plain": [
              "Text(0.5, 1.0, 'Accuracy comparison of training/validation set')"
            ]
          },
          "metadata": {
            "tags": []
          },
          "execution_count": 73
        },
        {
          "output_type": "display_data",
          "data": {
            "image/png": "iVBORw0KGgoAAAANSUhEUgAAAYgAAAEWCAYAAAB8LwAVAAAABHNCSVQICAgIfAhkiAAAAAlwSFlzAAALEgAACxIB0t1+/AAAADh0RVh0U29mdHdhcmUAbWF0cGxvdGxpYiB2ZXJzaW9uMy4yLjIsIGh0dHA6Ly9tYXRwbG90bGliLm9yZy+WH4yJAAAgAElEQVR4nO3dd3hUZfbA8e9JKKF3UDpBaYJSoq6igqBUAUVRYgN1VbAutp8dFuvaXRW7slZEVl3sCoK6YiEIIgi4gEqzUKR3OL8/zg0ZhpnJJGQm7XyeZx5m7r3vnXcml3vm7aKqOOecc+FSCjsDzjnniiYPEM455yLyAOGccy4iDxDOOeci8gDhnHMuIg8QzjnnIvIA4UokEXlCRG4p7HxkE5GWIjJLRDaIyBUJeo8bReSZgj42WUSkq4gsC3k9V0S6xnNsPt6rSF0fRZX4OIj9IyJTgcOAA1R1WyFnxxVRIvIssF5VR0TZPxV4SVWL1E07XiJSH/hGVRvuxzm6Yt9BrufI47FDgb+q6jH5zVuiFdW/v5cg9oOINAWOBRTon+T3LpPM9ytORCS1sPMQQRNgbn4TF4O/dx/gg8LOhCtgquqPfD6AW4EvgAeAd8L2NQLeAFYCq4FHQ/ZdCMwDNgA/AB2D7QocFHLcWOD24HlXYBnwf8BvwItADeCd4D3+DJ43DElfE3geWBHsfyvYPgfoF3JcWWAV0CHK5xwAzALWA4uAXsH2+sBEYA2wELgwJM0o4HXgpeBzfg+0AG4A/gCWAj1Cjp8K3AV8E7zPf4CaIftfDz73OuAz4JCw7+lx4D1gE3BC2HdXO/hu1gZ5/RxICfa1Dt57LXYD7x923seAd4PP8DXQPMb10D84x9rgnK2D7Z8Au4CtwEagRVi6O8L2PxpyPVwK/A/4Kdj2cPDdrQdmAMeGfecvBc+bBumHAEuCv+9N+Ty2AvAv7BqaB1wHLAv7DG8AA7Hrc0LYvoeBfwbPzyPn2l8MXBxyXNfQ8wI/AyeE5GFskIcfgGvDjr0euzaz/0+dEvL33Rp8vxuBteH/t0L+Ty4Mro+JQP2QfQoMC/4Oa4NrQqJcA0cAWcHf53fggZB9fwGmBef4Duga6+9fFB6FnoHi/AguqEuATsAOoF6wPTW4AB4EKgFpwDHBvkHAcuBwQICDgCYhF2KsALET+AdQPvgPUws4FagIVMFuom+FpH8XeA0LJGWBLsH264DXQo4bAHwf5TMegd2UT8RKnA2AVsG+z4AxwedrjwWqbsG+UcEF3xMoA7wA/ATcFOTlQoKbXnD81OB7aRt8Z/8muIEF+88PPmN54CFgVtj3tA7oHOQxLey7uwt4InjfslipT4LnC4EbgXJAN+wG0zLkvKuD76AM8DIwLsr31AILTicG570uOHe5kM/31xjX0j77g+vhYyzQVwi2nR383csAV2NBMy3kOw+/6T8dXCuHAdvICVp5OfZu4FPsOmoIzGbvm3P2D4wqWElpM1Al5P/Cr8Bfgtd9gebB998lODb7B1JXogeIu7HAXhP78TUn7NhB2A+WFOCM4G9xYLBvKPDfsO92LDnXR7cg/x2x6+sR4LOwv8M7QHWgMXad94ryd/wSOCd4XjnkczfArqU+QR5PDF7Xief6KLR7XGFnoLg+gGOwoFA7eD0fGBE8Pyq4iMpESPchcGWUc+YWILYT3AyipG8P/Bk8PxDYDdSIcFx97EZYNXg9AbguyjmfBB6MsL0R9qunSsi2u4CxwfNRwMch+/phv45Sg9dVgs9bPXg9Fbg75Pg2wedNjfDe1YO01UK+pxfCjgn97kZjJZKDwo45FrvBpoRsexUYFXKOZ0L29QHmR/mebgHGh7xOwQJe15DPl58A0S2X6/BP4LCQ7zz8ph9aovwGGJyPYxcDPUP2/ZW9b87dgckhr/8LnBs8PxFYFCP/bxH8fyB2gFhMyE0ZuIiwUkzYeWcBA4LnQ4kdIJ4F7gnZVxn7v9005O9wTMj+8cD1Ud73M+DvBPeFkO3/B7wYtu1DYEg810dhPbwNIv+GAB+p6qrg9SvBNrCb5y+qujNCukZYUTg/Vqrq1uwXIlJRRJ4UkV9EZD12cVYP6uAbAWtU9c/wk6jqCqxq7FQRqQ70xn4dRxItv/WD828I2fYL9ksp2+8hz7cAq1R1V8hrsP+M2ZaGnassUFtEUkXkbhFZFHzOn4NjakdJG+5e7Nf8RyKyWESuD/kMS1V1d4zP8FvI881h+Q1VP0gLQHDOpWHnyo+9PpeIXCMi80RknYisBaqx9/cQLt78xzq2flg+wr/rPlj1XrZXgMzg+ZnB6+z89xaRr0RkTZD/PrnkP1t4Hn4J3Ski5wa9xNYG520b53mzzx36t9uI/brPz3VwAVaanC8i00XkpGB7E2BQdv6CPB6D/ZArsop6w1eRJCIVgNOBVBHJvnDKYzfnw7ALubGIlIkQJJZiRexINmPVRdkOwNodsmnY8VcDLYEjVfU3EWkPzMSK70uBmiJSXVXXRnivf2G/BMsAX6rq8ih5ipbfFcH5q4QEicbYr+b8ahTyvDH2K24VdpMZgLUt/IzdFP/EPme28O8mZ4fl72rgahFpC3wiItODz9BIRFJCgkRj4Md85H0F0C77hYhI8Hni/T6i5X/PdhE5Fqu66g7MVdXdIhL+PSTCr1jV0g/B60Zh+/tg7Q/ZXgfuF5GGwClYiRoRKY9VHZ4L/EdVd4jIW8SX/1+D981u6G+cvUNEmmDVY92xa3mXiMwKOW/UayOwAruBZ5+vElaNl+drWVX/B2SKSAr2nUwQkVrY/6MXVfXCaEnz+l7J4CWI/DkZq15pg1XrtMcawz7HLv5vsAv6bhGpJCJpItI5SPsMcI2IdBJzUHCBgxWLzwx+MffC6mhjqYL9El8rIjWBkdk7VPVX4H1gjIjUEJGyInJcSNq3sDrXK7H2gWieBc4Tke4ikiIiDUSklaouxRrc7go+36HYr6eXcslzLGeLSBsRqYhVC00IShxVsDrx1VgAvTMvJxWRk4LvWbC2il1Y9dvXWFC+Lvh+umJVYePykffxQN/geyqLBaRt2HcUj9+B9FyOqYK1Q60EyojIrUDVfOQ1r8YDNwTXUQPgsuwdItIMKK+q87K3qepKrMrkeaydKXtfOeyH1Epgp4j0BnrkIw8NgctD9lXCbrArgzydh5Ugsv0ONBSRclHO/Sp2jbcPgtidwNeq+nOcedtDRM4WkTrBD47sH2a7sf8X/USkZ/D/Oy0Yy5HdTTeev3/SeYDInyHA86q6RFV/y34AjwJnYb9c+mEN0EuwUsAZAKr6OtZr4RWsHeAtrOEN7GbdD7uwzgr2xfIQ1qi4CviKfbsZnoP9Cp+P9Rz6W/YOVd2C/ZprhvVAiUhVv8F6njyI3Vw/JefXViZWf70CeBMYqaqTcslzLC9idcO/YQ3N2QPKXsCqAJZjv2K/yuN5DwYmYW0gXwJjVHWKqm7Hvu/e2Hc4Bqs7n5/XjKvqAqwB+ZHgXP2wnmLb4zzFw8BpIvKniPwzyjEfYn/jH7HvYyuxq9YKymjsGv4J+x4nYMEPrNH5vQhpXsFKfHuql4KS3BXYzf5PrGQ4Mc48/B37zD8BH2HXSvZ5fwDux/62v2MluS9C0n6ClTx+E5FVhAmu2Vuw/w+/YiXmwXHmK1wvYK6IbMT+poNVdUvwg2oA1iFiJfZ3u5ace3A8f/+k84FypVjwC7SFqp5dBPIylSI4UMjtS0SGYze+LiLyHtYtM1KQcMWclyBKqaBK6gLgqcLOiyvaRORAEekcVDG2xKrP3gx2TwWmFFrmXEJ5gCiFRORCrIj7vqp+Vtj5cUVeOay78wasuuY/WHUcqnpPUF3pSiCvYnLOOReRlyCcc85FVGLGQdSuXVubNm1a2NlwzrliZcaMGatUtU6kfSUmQDRt2pSsrKzCzoZzzhUrIvJLtH1exeSccy4iDxDOOeci8gDhnHMuohLTBuGcK1l27NjBsmXL2Lp1a+4Hu1ylpaXRsGFDypYtG3caDxDOuSJp2bJlVKlShaZNm2LzLLr8UlVWr17NsmXLaNasWdzpvIrJOVckbd26lVq1anlwKAAiQq1atfJcGvMAAXgJ1rmiyYNDwcnPd1nqA8TChdC2LbzySu7HOudcaVLqA8T778OiRTBkCHwQvpqCc67UWr16Ne3bt6d9+/YccMABNGjQYM/r7dtjL/ORlZXFFVdcEfMYgKOPPrqgspsQpb6R+vLLYckSuO8+OPVU+OQTOPLIws6Vc66w1apVi1mzZgEwatQoKleuzDXXXLNn/86dOylTJvItNCMjg4yMjFzfY9q0eBccLBylvgQB8I9/WAli82bo0wfmzcs9jXOu9Bk6dCjDhg3jyCOP5LrrruObb77hqKOOokOHDhx99NEsWLAAgKlTp3LSSScBFlzOP/98unbtSnp6Ov/8Z86CcZUrV95zfNeuXTnttNNo1aoVZ511Ftkzbb/33nu0atWKTp06ccUVV+w5bzKU+hIEQEoKPP00rF4N77wDPXrAtGnQKHxpdudcoUhUW3V+VjtYtmwZ06ZNIzU1lfXr1/P5559TpkwZJk2axI033si///3vfdLMnz+fKVOmsGHDBlq2bMnw4cP3GY8wc+ZM5s6dS/369encuTNffPEFGRkZXHzxxXz22Wc0a9aMzMzM/H7UfPESRKBsWXjtNejcGZYtsyCxenVh58o5V9QMGjSI1NRUANatW8egQYNo27YtI0aMYO7cuRHT9O3bl/Lly1O7dm3q1q3L77//vs8xRxxxBA0bNiQlJYX27dvz888/M3/+fNLT0/eMXfAAUYgqVoS337ZeTfPnQ9++sHFjYefKOaeamEd+VKpUac/zW265heOPP545c+bw9ttvRx1nUL58+T3PU1NT2blzZ76OSbaEBggR6SUiC0RkoYhcH2F/ExGZLCKzRWSqiDQM2bdLRGYFj4mJzGeoGjXgww+hSRP4+ms47TTIpcOCc66UWrduHQ0aNABg7NixBX7+li1bsnjxYn7++WcAXnvttQJ/j1gSFiBEJBV4DOgNtAEyRaRN2GH3AS+o6qHAaOCukH1bVLV98OifqHxGUr8+fPQR1KljwWLoUNi9O5k5cM4VB9dddx033HADHTp0SMgv/goVKjBmzBh69epFp06dqFKlCtWqVSvw94kmYWtSi8hRwChV7Rm8vgFAVe8KOWYu0EtVl4oN81unqlWDfRtVtXK875eRkaEFvWDQjBnQtatVM11+OTz8cOIay5xze5s3bx6tW7cu7GwUuo0bN1K5cmVUlUsvvZSDDz6YESNG5Otckb5TEZmhqhH75CayiqkBsDTk9bJgW6jvgIHB81OAKiJSK3idJiJZIvKViJycwHxG1akT/Oc/UK4cPPII3HlnYeTCOVeaPf3007Rv355DDjmEdevWcfHFFyftvQu7kfoaoIuIzAS6AMuBXcG+JkFUOxN4SESahycWkYuCIJK1cuXKhGSwWzd4+WUrOdx8s3WHdc65ZBkxYgSzZs3ihx9+4OWXX6ZixYpJe+9EBojlQOhIgobBtj1UdYWqDlTVDsBNwba1wb/Lg38XA1OBDuFvoKpPqWqGqmbUqRNxze0CcdppMGaMPR82DN54I2Fv5ZxzRUYiA8R04GARaSYi5YDBwF69kUSktohk5+EG4Llgew0RKZ99DNAZ+CGBec3VsGEwerQ1VmdmwpQphZkb55xLvIQFCFXdCVwGfAjMA8ar6lwRGS0i2b2SugILRORHoB5wR7C9NZAlIt8BU4C7VbVQAwRYFdNll1m31wEDYObMws6Rc84lTkKn2lDV94D3wrbdGvJ8AjAhQrppQLtE5i0/RKwn06pVMG4c9OoFX3wBBx1U2DlzzrmCV9iN1MVOSgr86182Fccff9i/v/5a2LlyzhW0448/ng8//HCvbQ899BDDhw+PeHzXrl3J7mrfp08f1q5du88xo0aN4r777ov5vm+99RY//JBTYXLrrbcyadKkvGa/QHiAyIdy5eDf/4YjjoCffrKSRIRrwTlXjGVmZjJu3Li9to0bNy6u+ZDee+89qlevnq/3DQ8Qo0eP5oQTTsjXufaXB4h8qlwZ3n0XWraE2bOhf3/YsqWwc+WcKyinnXYa77777p7FgX7++WdWrFjBq6++SkZGBocccggjR46MmLZp06asWrUKgDvuuIMWLVpwzDHH7JkOHGx8w+GHH85hhx3GqaeeyubNm5k2bRoTJ07k2muvpX379ixatIihQ4cyYYLVxE+ePJkOHTrQrl07zj//fLZt27bn/UaOHEnHjh1p164d8+fPL5DvwAMEwOuvw6ZNeU5Wu7ZNydGgAXz+OQweDEVgfi3nSh6RxDxiqFmzJkcccQTvv/8+YKWH008/nTvuuIOsrCxmz57Np59+yuzZs6OeY8aMGYwbN45Zs2bx3nvvMX369D37Bg4cyPTp0/nuu+9o3bo1zz77LEcffTT9+/fn3nvvZdasWTRvnjP8a+vWrQwdOpTXXnuN77//np07d/L444/v2V+7dm2+/fZbhg8fnms1Vrw8QIwZA6efDiefDFFmYoylcWMLEjVqwMSJcNFF+Z8l0jlXtIRWM2VXL40fP56OHTvSoUMH5s6du1d1ULjPP/+cU045hYoVK1K1alX698+ZVm7OnDkce+yxtGvXjpdffjnqVOHZFixYQLNmzWjRogUAQ4YM4bPPPtuzf+BAm5SiU6dOeyb3218eIE44AerVg0mT8j11a5s2Vt1UsSI8/zzccEMC8ulcaVZI830PGDCAyZMn8+2337J582Zq1qzJfffdx+TJk5k9ezZ9+/aNOsV3boYOHcqjjz7K999/z8iRI/N9nmzZ04UX5FThHiBatLDgUKuW3eUHD4YdO/J8mqOOggkToEwZW8L0/vsTkFfnXFJVrlyZ448/nvPPP5/MzEzWr19PpUqVqFatGr///vue6qdojjvuON566y22bNnChg0bePvtt/fs27BhAwceeCA7duzg5Zdf3rO9SpUqbNiwYZ9ztWzZkp9//pmFCxcC8OKLL9KlS5cC+qSReYAAWyHo44+henV4800491zYtSv3dGF694bsKeGvuQZeeKFgs+mcS77MzEy+++47MjMzOeyww+jQoQOtWrXizDPPpHPnzjHTduzYkTPOOIPDDjuM3r17c/jhh+/Zd9ttt3HkkUfSuXNnWrVqtWf74MGDuffee+nQoQOLFi3asz0tLY3nn3+eQYMG0a5dO1JSUhg2bFjBf+AQCZvuO9kKZLrvr7+GE0+EDRtsEYhnn7WBD3n08MPwt79BaqrNBtu37/5ly7nSyKf7LnhFabrv4ufII3MaE8aOtXk18hFAr7wSbrzRCiGDBtloa+ecK248QIQ79ljrjlS+PDz+OFx9db6CxO23w1//amMjTjoJ5sxJQF6dcy6BPEBE0r27zeldtiw8+KDN0pdHIhZfTjnFRln37AkF1PPMuVKjpFSBFwX5+S49QETTpw+89po1JNx5pxUJ8qhMGXjlFejSBVasyJm/yTmXu7S0NFavXu1BogCoKqtXryYtLS1P6byROjfjxsFZZ9lCEPfdZ1VOebRuna1tPWuWLWM6ZQpUqVLwWXWuJNmxYwfLli3b7/EBzqSlpdGwYUPKli271/ZYjdQJne67RBg8GLZts15N11wDaWlw6aV5OkW1avDBB9C5M8yYYdVO775rzRzOucjKli1Ls2bNCjsbpZpXMcVjyBBrUADr2fTMM3k+Rb16NiXHAQfA5Mlw9tn5GmrhnHNJ4wEiXsOGWYM12IRLL72U51Okp1tJompVG3Wdz160zjmXFB4g8uJvf7MGa1UrVUzYZzG8XB12GLz9tlUvPfEE/P3vCcinc84VAA8QeXXDDXDrrdZonZlpd/s8Ou446yCVkmIB4rHHEpBP55zbTx4g8mPUKLj2Wlv84bTTrHEhjwYMgKeftueXX24BwznnipKEBggR6SUiC0RkoYhcH2F/ExGZLCKzRWSqiDQM2TdERP4XPIYkMp95JmJTtl5+uU0PfvLJ8OmneT7N+efD3XdbjdU559h8gc45V1QkLECISCrwGNAbaANkikibsMPuA15Q1UOB0cBdQdqawEjgSOAIYKSI1EhUXvNFBB56KGc+jb59Ydq0PJ/muuvgqqtshvFTToGQBaecc65QJbIEcQSwUFUXq+p2YBwwIOyYNsAnwfMpIft7Ah+r6hpV/RP4GOiVwLzmT0qKtTSffbYtWdq7N+RxsJ4I3HuvlSCyT1FAy8k659x+SWSAaAAsDXm9LNgW6jtgYPD8FKCKiNSKMy0icpGIZIlI1sqVKwss43mSmmrLyA0aBOvX23waMdaojSQlxWYW79MHVq+2eZuWLUtQfp1zLk6F3Uh9DdBFRGYCXYDlQNzDx1T1KVXNUNWMOnXqJCqPuStTBl5+Gfr1gz//tGVM583L0ynKloXXX4ejj4YlSyxIrFmToPw651wcEhkglgONQl43DLbtoaorVHWgqnYAbgq2rY0nbZGTfYfv2RNWrrQZYYOlAeNVsaL1mj3kEPjhB5smfNOmBOXXOedykcgAMR04WESaiUg5YDAwMfQAEaktItl5uAF4Lnj+IdBDRGoEjdM9gm1FW/nyNk14167w668WJH75JU+nqFkTPvwQGjeGL7+0mqt8LJHtnHP7LWEBQlV3ApdhN/Z5wHhVnSsio0Wkf3BYV2CBiPwI1APuCNKuAW7Dgsx0YHSwrejLLgZk1xV16wbL81b4adDAhlbUrg3vv2/dYXfvTlB+nXMuCp/uO1HWrbO2iKwsaNnSxknUq5enU2RlwfHHw8aNMGIE3H+/9XpyzrmC4mtSF4Zq1ayu6NBDYcECCxarVuXpFBkZ8OabOQvb3XNPgvLqnHMReIBIpJo1bXh069a2KHWPHrb+aB6ccIJNHCsC119v3WGdcy4ZPEAkWt26MGkSNG8OM2faSLgNG/J0itNPh0cftecXXQRvvZWAfDrnXBgPEMlQvz588gk0aQJffWX9VzdvztMpLrkERo60xurBg+GzzxKUV+ecC3iASJbGjW0puQYN7O4+YADkca3dkSNh+HBbAbVfP/juuwTl1Tnn8ACRXM2bW5CoV8+qnU47zWaDjZMIPPJIzqwePXvC4sUJzK9zrlTzAJFsLVtacKhVC9591xYd2rkz7uSpqfDiizYG7/ffrd37t98SmF/nXKnlAaIwtG1rI+GqVbOR1+eeC7vinoKK8uWt+2unTrBokbV7r1uXwPw650olDxCFpWNH+OADqFwZXn0VLrwwT8Olq1SxUdYtWsCsWflq0nDOuZg8QBSmv/zFqpkqVLApwy+7zJaXi1OdOjYWr359G6idx9oq55yLyQNEYTvuOJg40eqNHn8crrkmT0GiaVMLEtWr2/iI4cPzlNw556LyAFEUnHAC/PvfNqfGAw/ALbfkKXnbtvDOO1YQeeYZuPnmBOXTOVeqeIAoKvr2hddes25Kd9xhjzzo3NmWo0hNhTvvtOWynXNuf3iAKEpOOcX6sIpYMeD++/OUvG9feC5YUWPECFvkzjnn8ssDRFGTmZlzl7/mGnjssTwlP/fcnLgydKj1dHLOufzwAFEUDR0KY8bY88suy/MUrlddBf/3f9aj6dRTbWU655zLKw8QRdXw4dZgDTZGIo/1RXfdZSvRbdliVU9z5yYgj865Ei3XACEilwfrQrtkGzHCGqtVYcgQ6+kUJxF48kno3x/+/NPmbVqyJIF5dc6VOPGUIOoB00VkvIj0EvFFL5Pqxhut2+uuXTbP9zvvxJ20TBkYNw6OPdaWxe7RI8+L2jnnSrFcA4Sq3gwcDDwLDAX+JyJ3ikjzBOfNZfv7363BOrtR4eOP405aoYKNw8te+bRPH1vj2jnnchNXG4SqKvBb8NgJ1AAmiEjMVZKDEscCEVkoItdH2N9YRKaIyEwRmS0ifYLtTUVki4jMCh5P5PmTlSQitiD1ZZfZ9OADBtjcGnGqXt2mfWrWDKZPh4ED8zTLuHOulIqnDeJKEZkB3AN8AbRT1eFAJ+DUGOlSgceA3kAbIFNE2oQddjMwXlU7AIOBMSH7Fqlq++AxLC8fqkQSgYcfhr/+1VqeTzopT92TDjzQJpCtW9cKIOeem6e5AZ1zpVA8JYiawEBV7amqr6vqDgBV3Q2cFCPdEcBCVV2sqtuBccCAsGMUqBo8rwasyFPuS5uUFHjiCTjrLKsn6tULZsyIO/lBB1lJokoVG7R95ZU+b5NzLrp4AsT7wJrsFyJSVUSOBFDVeTHSNQCWhrxeFmwLNQo4W0SWAe8Bl4fsaxZUPX0qIsdGegMRuUhEskQka+XKlXF8lBIgNRXGjrXV6Navt5bn2bPjTt6hg7VJlCsHjz4Kt9+euKw654q3eALE40Bos+bGYFtByATGqmpDoA/wooikAL8CjYOqp6uAV0SkanhiVX1KVTNUNaNOnToFlKVioEwZGxfRrx+sWWOT/c2fH3fyrl1tCYqUFLj1ViuUOOdcuHgChASN1MCeqqUycaRbDjQKed0w2BbqAmB8cN4vgTSgtqpuU9XVwfYZwCKgRRzvWXqUKwfjx1sJYuVKW4N00aK4kw8cmBMYLrkEJkxIUD6dc8VWPAFisYhcISJlg8eVwOI40k0HDhaRZiJSDmuEnhh2zBKgO4CItMYCxEoRqRM0ciMi6Vg323jes3RJS7O1R7t2hRUroFs3+OWXuJNfeGHOOLyzzoLJkxOXVedc8RNPgBgGHI39+l8GHAlclFsiVd0JXAZ8CMzDeivNFZHRItI/OOxq4EIR+Q54FRgalFaOA2aLyCxgAjBMVdfs+y6OihXh7bfhqKNsqHT37jYqLk433GCN1du3w8kn56nN2zlXwomWkG4sGRkZmpWVVdjZKDzr1llwmDEDWrWCqVOhXr24ku7eDeecA6+8YsuY/ve/tta1c67kE5EZqpoRaV884yDSRORSERkjIs9lPwo+m26/VKtma4+2a2cN1ieeCKtXx5U0JcWWxO7Vy5ozevSwGivnXOkWTxXTi8ABQE/gU6yxeUMiM+XyqVYtmDTJShDff293+rVr40parpw1VB95pDVj9Oxpk/w550qveALEQap6C7BJVf8F9MXaIUYaj2gAACAASURBVFxRVLeutTY3bw7ffgu9e8OG+OJ5pUrw7rvQujXMmWO9aDdvTnB+nXNFVjwBYkfw71oRaYuNeK6buCy5/Va/PnzyCTRpAl99ZdNyxHmnr1XLaqoaNYIvvoDTT4cdO3JP55wreeIJEE8F60HcjHVT/QH4R0Jz5fZf48ZWkqhfHz77zLoobd0aV9JGjWzeplq1rETx17/6vE3OlUYxA0Qwqnm9qv6pqp+parqq1lXVJ5OUP7c/mje3IJE9Q9+gQXFP49qqFbz3nlU7vfCCLWHqnCtdYgaIYNT0dUnKi0uEVq2s4bpmTVts6MwzbV2JOBxxBLzxBpQtC/fdB/fem+C8OueKlHiqmCaJyDUi0khEamY/Ep4zV3DatbMSRLVqtmzpkCG2Ql0cevSAf/3LZhu/7jqbJ9A5VzrEEyDOAC4FPgNmBI9SPCKtmOrY0eb6rlzZRsRddFHcDQuZmbYUBVh7xNtvJzCfzrkiI54lR5tFeKQnI3OugP3lL9bqXKECPPccXH553AtCXH55ztLYp59uo62dcyVbrrOyisi5kbar6gsFnx2XcMcdZwtCnHQSjBljweLee60OKRd//zv88Qc8+aQl/+wzW+vaOVcyxVPFdHjI41hskZ/+sRK4Iu6EE6wtomxZuP9+WxQiDiLw2GNw6qk29VOvXvDTTwnOq3Ou0MRTxXR5yONCoCNQOfFZcwnVty+MG2cr1N1+O9x5Z1zJUlNtraJu3eDXX60R+48/EpxX51yhiKcEEW4T0KygM+IKwcCBNshBBG66CR54IK5k5cvbMhQdO8LChTabx/r1Cc6rcy7p4mmDeBvIbslMAdoQrALnSoAzz4Rt2+D88+Hqq20RoksuyTVZ1arw/vvQubNN+XTyyTawLi0tCXl2ziVFPEuH3hfyfCfwi6ouS1B+XGE47zzYsgUuvdQeaWkWMHJRt65NydG5M0yZAmefDa+9ZtVQzrniL54qpiXA16r6qap+AawWkaYJzZVLvksusQZrsMEOr7wSV7JmzWxyv+rVrd370kvj7jnrnCvi4gkQrwOhI6p2BdtcSXPVVTmLVJ97rt3x49CunQ2eS0uzLrAjRyY4n865pIgnQJRR1T0zvAXPyyUuS65Q3Xgj3HyzjYjLzLSBdXE45hgYP96ql267DR55JMH5dM4lXDwBYqWI7Bn3ICIDgFXxnFxEeonIAhFZKCLXR9jfWESmiMhMEZktIn1C9t0QpFsgIj3jeT9XQEaPtgbrHTts0MOkSXEl69cPnnnGnl9xBbz6agLz6JxLuHgCxDDgRhFZIiJLgP8DLs4tkYikAo8BvbGeT5ki0ibssJuB8araARgMjAnStgleHwL0AsYE53PJIGKjqy+91Ho49e9vw6bjMHQo3HOPPT/3XGufcM4VT/EMlFukqn/BbvJtVPVoVV0Yx7mPABaq6uKgWmocMCD89EDV4Hk1YEXwfAAwTlW3qepPwMLgfC5ZROCf/4QLLrAeTn37wpdfxpX02mvhmmtsVvFTT4Wvv05wXp1zCZFrgBCRO0WkuqpuVNWNIlJDRG6P49wNgKUhr5cF20KNAs4WkWXAe8DleUjrEi0lxVqdzzwTNm60EXHffhtX0n/8w2YV37TJYsu8eQnOq3OuwMVTxdRbVddmv1DVP4E+MY7Pi0xgrKo2DM75YrCKXVxE5CIRyRKRrJUrVxZQltxeUlNtQYjsCZhOPBG+/z7XZCkp8PTTNqnf6tXQsycsXZprMudcERLPzThVRMpnvxCRCkD5GMdnWw40CnndMNgW6gKCUdmq+iWQBtSOMy2q+pSqZqhqRp06deLIksuXMmVsXMRJJ8GaNTbZ3/z5uSYrW9YGznXubMGhZ08LFs654iGeAPEyMFlELhCRC4CPgXim+p4OHCwizUSkHNboPDHsmCVAdwARaY0FiJXBcYNFpLyINAMOBr6J5wO5BClXDl5/3UoQf/wB3bvDokW5JqtY0cZItG1r1Ux9+1q1k3Ou6IunkfofwO1A6+BxW7Att3Q7gcuAD4F5WG+luSIyOqTb7NXAhSLyHfAqMFTNXKxk8QPwAXCpqsa3RqZLnLQ0eOst6NIFVqywKV2XLMk1WY0a1pupSRNrsD71VNi+PddkzrlCJpqHeRFEpBIwEBisqn0Tlqt8yMjI0KwsXwk1KTZssPqiL7+E5s2tC2z9+rkm+/FHG1C3cqW1e7/4orVVOOcKj4jMUNWMSPvi6cVUTkROEZHXgV+BbsATBZxHV5xUqWJTt3bsaNVM3bvHtShEixY2A2z2stgjRvi8Tc4VZVEDhIj0EJHngZ+AU7F2hzWqep6q+rL1pV316jaVa7t21mB9wglxtUB36gT/+Y81afzzn3DXXUnIq3MuX2KVID4A0oFjVPXsICjsjnG8K21q1YKPP4ZWrazra8+esHZtrsm6dbNV6bLXKXr66STk1TmXZ7ECREfgS2CSiHwc9GDy6S7c3urVs7ma0tNhxgzo08faKHJx2mkwZow9HzYM3ngjwfl0zuVZ1AChqrNU9XpVbQ6MBNoDZUXkfRG5KGk5dEVfgwbwySfQuLE1XPfrB5s355ps2DCbF3D3bps4dsqUJOTVORe3uPqQqOo0Vb0cG7D2IPCXhObKFT9NmliQqF8fPv0UTjkFtm7NNdnNN8Nll1m31wEDYObMJOTVOReXPHUyVNXdqvqRqua+HqUrfZo3h8mTc9YiPf30XAc8iMDDD8PgwVYz1asXLIxnKkjnXMJ5L3RXsFq1sjaJmjVtCPVZZ9m0rjGkpNh0Tz16WG/ZHj3g11+TlF/nXFQeIFzBa9fOShDVqsGECbZIxK7YA+HLlbMVTo84An76yUoScXSIcs4lUKxxEDVjPZKZSVcMdepko+IqVbI+rRdfbK3RMVSubCuctmwJs2fbOkVbtiQpv865fcQqQcwAsoJ/wx8+p4XL3VFH2R2/QgV49llbhzSXodO1a1vho0ED+Pxza5vIpYbKOZcgsbq5NlPV9ODf8Ed6MjPpirEuXWzodPny8NhjcN11uQaJxo0tSNSoARMnwkUX+ZQczhWGeOZiEhE5W0RuCV43FhFf/tPF78QTrS2iTBm47z4YOTLXJG3aWOGjYkV4/nm44YYk5NM5t5d4GqnHAEcBZwavNwCPJSxHrmQ66SQYN85WqLvttrgmYTrqqJy48o9/wAMPJCGfzrk94gkQR6rqpcBW2LPkaLmE5sqVTKeeCi+8YIMfbrwRHnww1yS9e8PYsfb86qttinDnXHLEEyB2iEgqoAAiUgeftM/l15lnwjPP2POrroLHH881yVlnwUMP2fPzzrOqJ+dc4sUTIP4JvAnUFZE7gP8CdyY0V65kO/98ePRRe37JJdbIkIsrr7RCx65dMGgQTJuW4Dw65yiT2wGq+rKIzMDWjhbgZFWdl/CcuZLt0kttrqZrroELLrDlTDMzYya5/XYbaf3MM7a29eef21rXzrnEiGugHPAHtmb0K8DvPlDOFYirr7a7viqcc06uc36LWI3UKafYKOuePeGXX5KUV+dKoXgHyq0EfgT+FzyfkfisuVLhppvssWuXjYp7772Yh5cpY8uVdukCK1bYvE0rVyYpr86VMrkOlAMmAf1Utbaq1gJOAj6K5+Qi0ktEFojIQhG5PsL+B0VkVvD4UUTWhuzbFbJvYt4/mis2brvNGqx37ICBA22yvxjS0mzsXfv28OOPca9R5JzLI9FchqiKyPeq2i63bRHSpWKljhOBZcB0IFNVf4hy/OVAh+ypxEVko6pWjveDZGRkaFaWzwBSbKnawhBjxtjUHB98AMcdFzPJ779D586waBF07269m8qXT1J+nSshRGSGqmZE2hdPL6YVInKziDQNHjcBK+JIdwSwUFUXq+p2YBwwIMbxmVg7hyuNROCRR6yH05Yt1gr91Vcxk9SrZ1NyHHCALUNxzjm5ThrrnMuDeAJEJlAH6+r6JlA32JabBsDSkNfLgm37EJEmQDPgk5DNaSKSJSJficjJUdJdFByTtdIroou/lBR46ikbK7Fxo835/e23MZOkp1tho2pVeP31uOYDdM7FKdcAoaprVPVK4DjgWFW9UlXXFHA+BgMTVDX091+ToNhzJvCQiDSPkLenVDVDVTPq1KlTwFlyhSI11VYPGjgQ1q2zVug5c2ImOewwW5uofHmroRo9Okl5da6Ei2eyvnYiMhOYA8wVkRkiEk/v8+VAo5DXDYNtkQwmrHpJVZcH/y4GpgId4nhPVxKUKQOvvmrVTKtXWwPDggUxkxx3HLz2mhVCRo2yQOGc2z/xVDE9CVylqk1UtQlwNfBUHOmmAweLSDMRKYcFgX16I4lIK6AG8GXIthoiUj54XhvoDERs3HYlVLlyNlPfiSfa6Lju3WHx4phJBgyAp5+255ddBuPHJyGfzpVg8QSISqo6JfuFqk4FKuWWSFV3ApcBHwLzgPGqOldERotI/5BDBwPjdO/uVK2BLBH5DpgC3B2t95MrwdLS4K23rHiwfDl06wZLlsRMcv75cPfd1g5x9tm59ph1zsUQTzfXN4Fvgex5NM8GOqnqKQnOW554N9cSbMMGa4v46is46CD49FOoXz/q4ao2g8cDD9iKp1OmwOGHJzG/zhUj+9vN9XysF9MbwaNOsM255KhSxda37tgRFi606qY//oh6uAjce691e920yQbS5dKE4ZyLIJ5eTH+q6hWq2jF4XBmsCeFc8lSvboMe2raF+fOtbWJN9M50KSm2DHafPrBqlRVAlkfrIuGciyjqbK65TW+hqv1j7XeuwNWqZY0KXbrA7Nl21588GapVi3h42bI2NuLEE2168J494bPPoKZPNelcXGJN930UNtDtVeBrbKpv5wpXvXoWFI47DmbMsCLChx9C5cizslSsaGMkjjsO5s61lU8nTbLtzrnYYlUxHQDcCLQFHsbmVFqlqp+q6qfJyJxzETVoAJ98Ao0bW9GgXz/YvDnq4TVrWgxp3Bi+/NIWHNqxI4n5da6YijWb6y5V/UBVhwB/ARYCU0XksqTlzrlomjSxksSBB8LUqbZIxLZtUQ9v0MCaMGrXthnFzz8fdvvCuc7FFLORWkTKi8hA4CXgUnKWH3Wu8B10kAWJOnXs7j9oEGzfHvXwli2tM1TlyvDSS9YV1udtci66WCvKvYCNbu4I/F1VD1fV27KnwHCuSGjd2hoVata0xoazzoKdO6MenpEBb75pDdgPPgj33JPEvDpXzMQqQZwNHAxcCUwTkfXBY4OIrE9O9pyLw6GHWgmialWbnuO882LO+33CCVaCEIHrr7fusM65fcVqg0hR1SrBo2rIo4qqVk1mJp3LVadOVn9UqZLd/YcNi9nIcPrp8Oij9vyii2xGD+fc3uIZSe1c8XD00basXIUK8MwzcOWVMRsZLrkERo60ODJ4sI2RcM7l8ADhSpYuXaw4UK6cFRH+7/9iBomRI2H4cOsA1a8ffPddEvPqXBHnAcKVPD16WFtEmTI2KdOoUVEPzV7pdNAgWL/eRlvnMqu4c6WGBwhXMvXrZ4sOpaTYEnN33x310NRUePFFmwPw998tvvz2WxLz6lwR5QHClVynnQYvvGDFhBtugIceinpo+fLW/bVTJ1i0CHr3thVPnSvNPEC4ku2ss3KWmRsxAp54Iuqh2bOKt2gBs2bZCnVbtyYpn84VQR4gXMl3wQU5fVqHD4exY6MeWqeOzdtUv76tS5SZGXPcnXMlmgcIVzpceincd589v+ACGDcu6qFNm1qQqF7dOkQNH+5TcrjSyQOEKz2uvhpuu80GPpx9tjU6RNG2LbzzTs6QiltuSWI+nSsiPEC40uXmm+HGG20qjjPOsKldo+jc2RYcSk2FO+6Ahx9OYj6dKwISGiBEpJeILBCRhSJyfYT9D4rIrODxo4isDdk3RET+FzyGJDKfrpS5/XZrsN6xAwYOtBlho+jbF557zp7/7W/w8stJyqNzRUDCAoSIpAKPAb2BNkCmiLQJPUZVR6hqe1VtDzwCvBGkrQmMBI4EjgBGikiNROXVlTIicP/9OUOo+/eHzz+Pevi559rhAEOHwgcfJCebzhW2RJYgjgAWqupiVd0OjAMGxDg+E1veFKAn8LGqrlHVP4GPgV4JzKsrbUSsZ9N559lqdH36wNdfRz38qqts1o6dO+HUU+Grr5KYV+cKSSIDRANsTetsy4Jt+xCRJkAz4JO8pBWRi0QkS0SyVq5cWSCZdqVISoqNkcjMhI0boVcvmDkz6uF33WUr0W3ebFVPP/yQxLw6VwiKSiP1YGCCqkafxD8CVX1KVTNUNaNOnToJypor0VJT4V//siVL166FE0+EOXMiHioCTz5pNVJr1ti8TUuWJDm/ziVRIgPEcqBRyOuGwbZIBpNTvZTXtM7tn7JlbVxE376werWtKPTjjxEPLVPGDj32WFi2zILEqlVJzq9zSZLIADEdOFhEmolIOSwITAw/SERaATWw5U2zfQj0EJEaQeN0j2Cbc4lRrpzNAHvCCTZjX7duUad1rVABJk60hezmz7e4snFjkvPrXBIkLECo6k7gMuzGPg8Yr6pzRWS0iPQPOXQwME41Z6yqqq4BbsOCzHRgdLDNucRJS7Oh08ceC8uX2/SuS5dGPLR6devN1KwZfPONNVxv357k/DqXYKIlZA6BjIwMzcrKKuxsuJJgwwZri/j6azjoIFtq7sADIx66cKENqPvjD1uV7uWXre3bueJCRGaoakakfX4pOxeuShUrHnToYBGge3eLABEcdJAdWqWKtU3kssqpc8WKBwjnIqleHT76yCZlmjfPShRrItdyduhgbRLZq5zecUeS8+pcgniAcC6a2rVh0iRbIGL2bOuyFGUVoa5dcxawu+UW6w7rXHHnAcK5WOrVg08+gfR0yMqyEddRuiwNHJizHtHw4dYpyrnizAOEc7lp0MCCRKNGMG2ajZTbsiXioRdeaFVMqraY3SefRDzMuWLBA4Rz8WjSxO72Bx4IU6bYyOtt2yIeesMN1li9fbstWzpjRpLz6lwB8QDhXLwOOsimBs9el/T0023K8DAi8MADcOaZVhvVuzd8+633bnLFjwcI5/KidWv4+GOoUcO6Lp11VsRFq1NS4Pnnbf6/lSuhUyeoVQt69ICbbrLF7JYu9aDhijYfKOdcfmRl2fiI9evhnHNg7NiII+Q2bbLlsN9/P/JQinr1ICMDDj8859+6dROffeeyxRoo5wHCufyaNs2KBJs2Wev0k09a/VIEqja5X1YWTJ9u/2ZlwZ9/7ntso0Z7B42MDCuwOJcIHiCcS5SpU62RYetWuPxyW7g6SpAIp2rzAYYGjRkzIveibd5874DRsaON3nZuf3mAcC6RPvoI+vWzbkvXXQd33x13kAi3a5fNNB5aypg50+JPKBFo1WrvoNG+vc0061xeeIBwLtHefttGyu3cCSNHwqhRBXbqHTts9brsoDF9ug3sDm8bT021mUFC2zPatrUpQJyLxgOEc8nw+us2pevu3bY+6fXXJ+yttm6F77/fu6Qxd669dahy5eCww/YOGq1bWzBxDjxAOJc8L70E555rDQwPPgh/+1vS3nrTJpg1a++SRqSF8SpWtDaM7Kqpww+3IR4+TXnp5AHCuWR65hnr1QQ2OdPFFxdaVtats0F6oUHj55/3Pa5aNRurERo0mjTJd1OKK0Y8QDiXbI8+ar2awMZIDBlSqNkJtWpVTrVUdtBYsWLf42rXzgkY2UGjfv3k59cllgcI5wrDfffBtdda3c1111ljQHq69VmtWbNI/TxfsWLvgJGVZYEk3IEH7t2ekZFhgcQVXx4gnCsst90Gt9667/aqVXOCRfi/jRpB2bLJz2sIVViyZO+qqawsGzgerkmTvYNGp05WZeWKh0ILECLSC3gYSAWeUdW7IxxzOjAKUOA7VT0z2L4L+D44bImq9o/1Xh4gXJGkanM2ffGFjYpbtMgeGzZET5Oaanfd9PTIQaSQ7r67d9sKrKEljW+/hc2b9z22RYu9q6Y6dIBKlZKfZ5e7QgkQIpIK/AicCCwDpgOZqvpDyDEHA+OBbqr6p4jUVdU/gn0bVbVyvO/nAcIVG6qwenVOwFi8eO/ny5bFnsWvVq3owaNBg6T2Yd21y1ZkDQ0as2bZmMFQKSnQps3eQePQQyEtLWlZdVEUVoA4Chilqj2D1zcAqOpdIcfcA/yoqs9ESO8BwpVOW7fCL79EDh6LF0f+yZ6tXDlo2jQnYIQGj/T0pPyM374d5szZu2rq++8tmIQqWxbatdu7PeOQQwq9dq3UKawAcRrQS1X/Grw+BzhSVS8LOeYtrJTRGauGGqWqHwT7dgKzgJ3A3ar6Vqz38wDhSgVV+P33yMFj0SL47bfY6evVixw8mjeHAw5IWMP5li3w3Xd7B4158/YtKKWl2ZQhoUGjZUsf2JdIRTlAvAPsAE4HGgKfAe1Uda2INFDV5SKSDnwCdFfVRWHvcRFwEUDjxo07/fLLLwn5LM4VG5s2wU8/RQ4eP/20b91PqAoVIpc6mje3UkkB1wdt2GDzTIUGjYUL9z2ucuWcgX3ZQaN58yLVCaxYK8pVTE8AX6vq88HrycD1qjo97FxjgXdUNeoy8F6CcC4Xu3fD8uXR2z4i9WvNJmLtG5GCR3q69XUtgDv2n3/ajLahQWPJkn2Pq1597/aMjAzr/OVBI+8KK0CUwaqPugPLsUbqM1V1bsgxvbCG6yEiUhuYCbQHdgObVXVbsP1LYEBoA3c4DxDO7ad166yUESl4/PJLxJXz9qhSJXKjeXq69cjaj4aF33/fO2hMn27bwtWtu2/QOOCAfL9tqVGY3Vz7AA9h7QvPqeodIjIayFLViSIiwP1AL2AXcIeqjhORo4EnsUCRAjykqs/Gei8PEM4l0M6dtkZqaJVVaBBZty562pQUaNw48piP9HQrDuSBqhWEwhdfWrNm32MbNtw7YGQv/epy+EA551ziqFrdULTgkdvi2zVqRC55NG9ud/g4WqhVrfATvvhSpOEm6el7B42OHW3cYmnlAcI5V3i2bbMqqvBG8+wgsmlT9LRly1oDebTqq8rRe8Lv3m2z2YYGjZkzrUdVKBHrKRUaNNq3t1lvSwMPEM65okkV/vgjevCINItgqLp1owePAw/cZw7znTv3XnwpK8u63+7YsfdpU1NtTEZo0Dj00JK5+JIHCOdc8bR5s81PHh48srvtbtsWPW1aGjRrFrnto2nTPeuzbtsWefGl8IF95cpZkAhd5rVNGyhTJmGfPik8QDjnSp7du+HXXyMHj8WLYeXK2Onr14/acL65Uh1mfSd7TVa4YMG+p6hQweaZCp2s8OCDi9fiSx4gnHOlz4YNkQcMLl5spZJY3XYrV95nrMemA5ozZ3M6/13ahG9mlWP6dCvEhKtSxXpLhQaNpk2L7hgNDxDOORdq506bFDFS8Fi0CNaujZ42JcVG5aWns7VBc5aUSWfOluZM+y2d939szg+/1tgnSa1akRdfKgpBwwOEc87lRWi33fDgsXSpVW9FsbtaddbXTmdZ+eb8sDWdL/9ozuyN6SyiOctoyC6s0eKAA/Zuzzj8cKhTJ1kfMIcHCOecKyjbt+d02w0PHosWxey2uyulDL+Wb8qCHen8uNOCxmJy/q3ZuMo+iy/lcRxhnnmAcM65ZFC1xvFo810tXx4z+R/UYTHpewWNbQ2aUzMjnfRj6nP4kSl06BBz+EeeeYBwzrmiYMuWvbvthgQPXbwY2bo1atKtlOcnmrGY5qytmY40T6dqh+Y07ppOi17ppNWokK8seYBwzrmibvduW88jpMpq98LFbJ67mJSfFlFxwx8xky+f8RsNOtbL89vGChDFfIiHc86VECkp1rWpfn049ljbBOypTdq4ERYvZvv8xfz630Wsn2WljqorF1F9x0rqt69b4FnyAOGcc8VB5cpw6KGUO/RQmpy+965tW3YjKQXfZ7YYjfdzzjkXSfkKibmVe4BwzjkXkQcI55xzEXmAcM45F5EHCOeccxF5gHDOOReRBwjnnHMReYBwzjkXUYmZakNEVgK/7McpagOrCig7zoXz68sl0v5cX01UNeJE4yUmQOwvEcmKNh+Jc/vLry+XSIm6vryKyTnnXEQeIJxzzkXkASLHU4WdAVei+fXlEikh15e3QTjnnIvISxDOOeci8gDhnHMuohIXIERkY/BvfRGZUNj5caVb9vUYYXsrEZklIjNFpHmy8+VKJhGZKiIF1t21xAWIbKq6QlVPS+R7iIivyOeiEhEh+v+xk4EJqtpBVRclMVvOxa3EBggRaSoic4LnQ0XkDRH5QET+JyL3hBzXQ0S+FJFvReR1EakcbL9VRKaLyBwReSr4z54doR8SkSzgykL5cK7ICq67BSLyAjAHqCAiD4rIXBGZLCJ1RKQP8DdguIhMKdwcu6IsuJ7mi8jLIjJPRCaISEUR6R6UPr8XkedEpHxYuvNF5KGQ1xeKyIN5ff8SGyAiaA+cAbQDzhCRRiJSG7gZOEFVOwJZwFXB8Y+q6uGq2haoAJwUcq5yqpqhqvcnMf+u+DgYGKOqhwSvs4LnnwIjVfU94AngQVU9vrAy6YqNltj11BpYj92jxgJnqGo7oAwwPCzNeKCfiJQNXp8HPJfXNy5NAWKyqq5T1a3AD0AT4C9AG+ALEZkFDAm2AxwvIl+LyPdAN+CQkHO9lsR8u+LnF1X9Kni+m5zr5SXgmMLJkivGlqrqF8Hzl4DuwE+q+mOw7V/AcaEJVHUj8Alwkoi0Asqq6vd5fePSVIe+LeT5LuyzC/CxqmaGHigiacAYIENVl4rIKCAt5JBNCc6rK95iXR8+8MjlVfg1sxaoFUe6Z4AbgfnA8/l549JUgojkK6CziBwEICKVRKQFOcFgVdAmkdDGbleipZBz/ZwJ/LcQ8+KKp8YiclTw/EysKrxp9n0LOAervtyLqn4NNArSvJqfNy7VAUJVVwJDgVdFZDbw30ZAfAAAAcpJREFUJdBKVdcCT2ONjB8C0wstk6642wQcEXSY6AaMLuT8uOJnAXCpiMwDagAPYm0KrwdV4LuxNq1IxgNfqOqf+Xljn2rDOeeKKBFpCrwTdJbJT/p3sM4Qk/OTvlSXIJxzriQSkeoi8iOwJb/BAbwE4ZxzLgovQTjnnIvIA4RzzrmIPEA455yLyAOEc3EKnd+rJL2Xc9F4gHAuwXzWX1dceYBwLh9EJD2YTfPIYJbgGSLyeTDvDSIyVkSeEJGvgXtEpHmM4/4pItNEZLGI+Kh9V2T4Lxvn8khEWgLjsFH4DwDDVPV/InIkNodXt+DQhsDRqrpLRCbHOO5AbBK/VsBEwBe6ckWCBwjn8qYO8B9gILAEOBqb8iB7f+i8/K8HwaFyLse9paq7gR9EpF4iM+9cXniAcC5v1mGB4RisFLFWVdtHOTZ7VteUXI4LnWlYohzjXNJ5G4RzebMdOAU4F1tE6icRGQS2xKiIHBaeQFXXx3Occ0WNBwjn8khVN2HBYQS2GNAFIvIdMBcYECXZWXEe51yR4XMxOeeci8hLEM455yLyAOGccy4iDxDOOeci8gDhnHMuIg8QzjnnIvIA4ZxzLiIPEM455yL6f0M1l7raf2BjAAAAAElFTkSuQmCC\n",
            "text/plain": [
              "<Figure size 432x288 with 1 Axes>"
            ]
          },
          "metadata": {
            "tags": [],
            "needs_background": "light"
          }
        }
      ]
    },
    {
      "cell_type": "code",
      "metadata": {
        "id": "SD_aPcfZ8m-E"
      },
      "source": [
        "kernel = ['poly','rbf','linear']\n",
        "degree = range(1,10)\n",
        "C = [1e2,1e-2,1e0]\n",
        "gamma = [1e2,1e-2]"
      ],
      "execution_count": null,
      "outputs": []
    },
    {
      "cell_type": "code",
      "metadata": {
        "id": "qa85I9NQAAyw"
      },
      "source": [
        "param_grid = dict(kernel=kernel,degree=degree,C=C, gamma=gamma)"
      ],
      "execution_count": null,
      "outputs": []
    },
    {
      "cell_type": "code",
      "metadata": {
        "id": "wNMsvGN4AgLG"
      },
      "source": [
        "rand = RandomizedSearchCV(clf_svm,param_grid,cv=10, n_iter=10,scoring='accuracy')\n",
        "rand.fit(x_train,y_train)"
      ],
      "execution_count": null,
      "outputs": []
    },
    {
      "cell_type": "code",
      "metadata": {
        "id": "oCKwKtmk8f4J",
        "outputId": "c19a049a-69c5-409a-c894-d329369e9742",
        "colab": {
          "base_uri": "https://localhost:8080/",
          "height": 168
        }
      },
      "source": [
        "randcv_df = pd.DataFrame(rand.cv_results_)\n",
        "max_value =  randcv_df.loc[(randcv_df.mean_test_score == max(randcv_df.mean_test_score))  ]\n",
        "max_value"
      ],
      "execution_count": null,
      "outputs": [
        {
          "output_type": "execute_result",
          "data": {
            "text/html": [
              "<div>\n",
              "<style scoped>\n",
              "    .dataframe tbody tr th:only-of-type {\n",
              "        vertical-align: middle;\n",
              "    }\n",
              "\n",
              "    .dataframe tbody tr th {\n",
              "        vertical-align: top;\n",
              "    }\n",
              "\n",
              "    .dataframe thead th {\n",
              "        text-align: right;\n",
              "    }\n",
              "</style>\n",
              "<table border=\"1\" class=\"dataframe\">\n",
              "  <thead>\n",
              "    <tr style=\"text-align: right;\">\n",
              "      <th></th>\n",
              "      <th>mean_fit_time</th>\n",
              "      <th>std_fit_time</th>\n",
              "      <th>mean_score_time</th>\n",
              "      <th>std_score_time</th>\n",
              "      <th>param_kernel</th>\n",
              "      <th>param_degree</th>\n",
              "      <th>param_C</th>\n",
              "      <th>params</th>\n",
              "      <th>split0_test_score</th>\n",
              "      <th>split1_test_score</th>\n",
              "      <th>split2_test_score</th>\n",
              "      <th>split3_test_score</th>\n",
              "      <th>split4_test_score</th>\n",
              "      <th>split5_test_score</th>\n",
              "      <th>split6_test_score</th>\n",
              "      <th>split7_test_score</th>\n",
              "      <th>split8_test_score</th>\n",
              "      <th>split9_test_score</th>\n",
              "      <th>mean_test_score</th>\n",
              "      <th>std_test_score</th>\n",
              "      <th>rank_test_score</th>\n",
              "    </tr>\n",
              "  </thead>\n",
              "  <tbody>\n",
              "    <tr>\n",
              "      <th>8</th>\n",
              "      <td>5.939683</td>\n",
              "      <td>1.973137</td>\n",
              "      <td>0.00201</td>\n",
              "      <td>0.000117</td>\n",
              "      <td>linear</td>\n",
              "      <td>3</td>\n",
              "      <td>0.01</td>\n",
              "      <td>{'kernel': 'linear', 'degree': 3, 'C': 0.01}</td>\n",
              "      <td>1.0</td>\n",
              "      <td>0.928571</td>\n",
              "      <td>1.0</td>\n",
              "      <td>0.892857</td>\n",
              "      <td>0.964286</td>\n",
              "      <td>1.0</td>\n",
              "      <td>1.0</td>\n",
              "      <td>0.928571</td>\n",
              "      <td>0.928571</td>\n",
              "      <td>0.892857</td>\n",
              "      <td>0.953571</td>\n",
              "      <td>0.042408</td>\n",
              "      <td>1</td>\n",
              "    </tr>\n",
              "  </tbody>\n",
              "</table>\n",
              "</div>"
            ],
            "text/plain": [
              "   mean_fit_time  std_fit_time  ...  std_test_score  rank_test_score\n",
              "8       5.939683      1.973137  ...        0.042408                1\n",
              "\n",
              "[1 rows x 21 columns]"
            ]
          },
          "metadata": {
            "tags": []
          },
          "execution_count": 42
        }
      ]
    },
    {
      "cell_type": "code",
      "metadata": {
        "id": "dEvTl84RCLz3",
        "outputId": "0f80e17f-5def-43ee-b2c4-bddae7578711",
        "colab": {
          "base_uri": "https://localhost:8080/"
        }
      },
      "source": [
        "\n",
        "# kernel type\n",
        "degree = range(1,11)\n",
        "# do 10-fold cross-validation for each value in max_depth_range and return the accuracy scores. \n",
        "train_scores, valid_scores = validation_curve( clf_svm, x_train, y_train, param_name=\"degree\", param_range=degree,\n",
        "    cv=10, scoring=\"accuracy\")\n",
        "\n",
        "#Size of train_scores will be: length of parameter (max_depth_range) X number of folds\n",
        "print(train_scores.shape)"
      ],
      "execution_count": null,
      "outputs": [
        {
          "output_type": "stream",
          "text": [
            "(10, 10)\n"
          ],
          "name": "stdout"
        }
      ]
    },
    {
      "cell_type": "code",
      "metadata": {
        "id": "38Jko3YICfgm",
        "outputId": "9129e6af-d251-4ff0-b05c-ae88a7ef341d",
        "colab": {
          "base_uri": "https://localhost:8080/",
          "height": 312
        }
      },
      "source": [
        "mean_train_score = np.mean(train_scores, axis=1)\n",
        "mean_val_score = np.mean(valid_scores, axis=1)\n",
        "plt.plot(degree, mean_train_score, color=\"blue\", linewidth=2, label=\"Training\")\n",
        "plt.plot(degree, mean_val_score, color=\"red\", linewidth=2, label=\"Validation\")\n",
        "plt.legend(loc=\"upper right\")\n",
        "plt.xlabel(\"degree\")\n",
        "plt.ylabel(\"Model Accuracy\")\n",
        "plt.title(\"Accuracy comparison of training/validation set\")"
      ],
      "execution_count": null,
      "outputs": [
        {
          "output_type": "execute_result",
          "data": {
            "text/plain": [
              "Text(0.5, 1.0, 'Accuracy comparison of training/validation set')"
            ]
          },
          "metadata": {
            "tags": []
          },
          "execution_count": 162
        },
        {
          "output_type": "display_data",
          "data": {
            "image/png": "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\n",
            "text/plain": [
              "<Figure size 432x288 with 1 Axes>"
            ]
          },
          "metadata": {
            "tags": [],
            "needs_background": "light"
          }
        }
      ]
    },
    {
      "cell_type": "code",
      "metadata": {
        "id": "FrwPwtL4E7xD"
      },
      "source": [
        "C = [ i for i in np.arange(0.00,0.20,0.01)]\n",
        "# do 10-fold cross-validation for each value in max_depth_range and return the accuracy scores. \n",
        "train_scores, valid_scores = validation_curve( clf_svm, x_train, y_train, param_name=\"C\", param_range=C,\n",
        "    cv=10, scoring=\"accuracy\")\n",
        "\n",
        "#Size of train_scores will be: length of parameter (max_depth_range) X number of folds\n",
        "print(train_scores.shape)"
      ],
      "execution_count": null,
      "outputs": []
    },
    {
      "cell_type": "code",
      "metadata": {
        "id": "e_XVHhn5J13m"
      },
      "source": [
        "mean_train_score = np.mean(train_scores, axis=1)\n",
        "mean_val_score = np.mean(valid_scores, axis=1)\n",
        "plt.plot(C, mean_train_score, color=\"blue\", linewidth=2, label=\"Training\")\n",
        "plt.plot(C, mean_val_score, color=\"red\", linewidth=2, label=\"Validation\")\n",
        "plt.legend(loc=\"upper right\")\n",
        "plt.xlabel(\"degree\")\n",
        "plt.ylabel(\"Model Accuracy\")\n",
        "plt.title(\"Accuracy comparison of training/validation set\")"
      ],
      "execution_count": null,
      "outputs": []
    },
    {
      "cell_type": "markdown",
      "metadata": {
        "id": "sMKlLVJe-jXg"
      },
      "source": [
        "**Best optimized model for support vector machine**"
      ]
    },
    {
      "cell_type": "code",
      "metadata": {
        "id": "m5IgZyz_-rkz"
      },
      "source": [
        " clf_svm = SVC(kernel='linear', degree=3,C=0.01 ,gamma=1e-2).fit(x_train,y_train)\n",
        " y_pred = clf_svm.predict(x_test)"
      ],
      "execution_count": null,
      "outputs": []
    },
    {
      "cell_type": "code",
      "metadata": {
        "id": "ixW8tg1T-8y3",
        "outputId": "1aca1f40-52ab-4a78-dc9e-ee7e181521f7",
        "colab": {
          "base_uri": "https://localhost:8080/"
        }
      },
      "source": [
        "print(accuracy_score(y_test,y_pred))"
      ],
      "execution_count": null,
      "outputs": [
        {
          "output_type": "stream",
          "text": [
            "0.9666666666666667\n"
          ],
          "name": "stdout"
        }
      ]
    },
    {
      "cell_type": "code",
      "metadata": {
        "id": "0NMo3F0KohUb",
        "outputId": "0ec6fdad-4229-472e-d52e-f1bf06544d3e",
        "colab": {
          "base_uri": "https://localhost:8080/"
        }
      },
      "source": [
        "print (confusion_matrix(y_test,y_pred))"
      ],
      "execution_count": null,
      "outputs": [
        {
          "output_type": "stream",
          "text": [
            "[[72  4]\n",
            " [ 0 44]]\n"
          ],
          "name": "stdout"
        }
      ]
    },
    {
      "cell_type": "code",
      "metadata": {
        "id": "Kiw2V0vkozMK",
        "outputId": "cab9c371-a37d-457a-b726-5e92b5d48990",
        "colab": {
          "base_uri": "https://localhost:8080/"
        }
      },
      "source": [
        "print(f1_score(y_test,y_pred,average = None))"
      ],
      "execution_count": null,
      "outputs": [
        {
          "output_type": "stream",
          "text": [
            "[0.97297297 0.95652174]\n"
          ],
          "name": "stdout"
        }
      ]
    },
    {
      "cell_type": "code",
      "metadata": {
        "id": "3gV0dOQHAV2u"
      },
      "source": [
        " clf_svm = SVC(kernel='poly',gamma=1e-2).fit(x_train,y_train)\n",
        " y_pred = clf_svm.predict(x_test)"
      ],
      "execution_count": null,
      "outputs": []
    },
    {
      "cell_type": "code",
      "metadata": {
        "id": "85RAUyTwAdWG",
        "outputId": "9a46e257-78e1-4ac2-9ec0-a793fa3679a7",
        "colab": {
          "base_uri": "https://localhost:8080/"
        }
      },
      "source": [
        "print(accuracy_score(y_test,y_pred))"
      ],
      "execution_count": null,
      "outputs": [
        {
          "output_type": "stream",
          "text": [
            "0.9416666666666667\n"
          ],
          "name": "stdout"
        }
      ]
    },
    {
      "cell_type": "markdown",
      "metadata": {
        "id": "xPvHJYFtpPTB"
      },
      "source": [
        "**Note:** based on plots ,combination of hyperparameters in Randomizesearchcv and testing on train and validation date  ,support vector machine has the highest accuracy with linear kernel ,degree =3 ,C=0.01"
      ]
    },
    {
      "cell_type": "markdown",
      "metadata": {
        "id": "9LLtqiWboQpU"
      },
      "source": [
        "###### **K-Nearest Neighbor**"
      ]
    },
    {
      "cell_type": "code",
      "metadata": {
        "id": "wqybUK23nxLA"
      },
      "source": [
        "clf_knn = KNeighborsClassifier(n_neighbors=3).fit(x_train,y_train)\n",
        "y_pred = clf_knn.predict(x_test)"
      ],
      "execution_count": null,
      "outputs": []
    },
    {
      "cell_type": "code",
      "metadata": {
        "id": "sx84Sq2rpNi3",
        "outputId": "1f31e55f-2013-42e0-a483-5b812f7f86cf",
        "colab": {
          "base_uri": "https://localhost:8080/",
          "height": 51
        }
      },
      "source": [
        "scores = cross_val_score(clf_knn, x, y, cv=10)\n",
        "scores"
      ],
      "execution_count": null,
      "outputs": [
        {
          "output_type": "execute_result",
          "data": {
            "text/plain": [
              "array([0.8  , 0.8  , 0.775, 0.725, 0.75 , 0.8  , 0.7  , 0.85 , 0.725,\n",
              "       0.7  ])"
            ]
          },
          "metadata": {
            "tags": []
          },
          "execution_count": 107
        }
      ]
    },
    {
      "cell_type": "code",
      "metadata": {
        "id": "qdSgxyHz2pg_"
      },
      "source": [
        "# n_neighbor values \n",
        "n_neighbours = [3,5,10,20]\n",
        "# do 10-fold cross-validation for each value in n_neighbors and return the accuracy scores. \n",
        "train_scores, valid_scores = validation_curve( clf_knn, x_train, y_train, param_name=\"n_neighbors\", param_range=n_neighbours,\n",
        "    cv=10, scoring=\"accuracy\")"
      ],
      "execution_count": null,
      "outputs": []
    },
    {
      "cell_type": "code",
      "metadata": {
        "id": "gNKDaZr922-K",
        "outputId": "e8282a85-a002-46cc-bb22-05b2fc804918",
        "colab": {
          "base_uri": "https://localhost:8080/",
          "height": 313
        }
      },
      "source": [
        "# Mean accuracy score for each value of n_neighbors\n",
        "mean_train_score = np.mean(train_scores, axis=1)\n",
        "mean_val_score   = np.mean(valid_scores, axis=1)\n",
        "plt.plot(n_neighbours, mean_train_score, color=\"blue\", marker ='o', label=\"Training\")\n",
        "plt.plot(n_neighbours, mean_val_score, color=\"red\", marker ='o', label=\"Validation\")\n",
        "plt.legend(loc=\"upper left\")\n",
        "plt.xlabel(\"n_neighbors\")\n",
        "plt.xticks(range(3,21))\n",
        "plt.ylabel(\"Model Accuracy\")\n",
        "plt.title(\"Accuracy comparison of training/validation set\")"
      ],
      "execution_count": null,
      "outputs": [
        {
          "output_type": "execute_result",
          "data": {
            "text/plain": [
              "Text(0.5, 1.0, 'Accuracy comparison of training/validation set')"
            ]
          },
          "metadata": {
            "tags": []
          },
          "execution_count": 92
        },
        {
          "output_type": "display_data",
          "data": {
            "image/png": "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\n",
            "text/plain": [
              "<Figure size 432x288 with 1 Axes>"
            ]
          },
          "metadata": {
            "tags": [],
            "needs_background": "light"
          }
        }
      ]
    },
    {
      "cell_type": "code",
      "metadata": {
        "id": "GB9OsWjWJknk"
      },
      "source": [
        "# metric \n",
        "metric = ['euclidean','manhattan','chebyshev','minkowski']\n",
        "# do 10-fold cross-validation for each value in n_neighbors and return the accuracy scores. \n",
        "train_scores, valid_scores = validation_curve( clf_knn, x_train, y_train, param_name=\"metric\", param_range=metric,\n",
        "    cv=10, scoring=\"accuracy\")"
      ],
      "execution_count": null,
      "outputs": []
    },
    {
      "cell_type": "code",
      "metadata": {
        "id": "4BmwcSR_JnZQ",
        "outputId": "6794fc55-a37b-4855-b1ec-548ec2deae11",
        "colab": {
          "base_uri": "https://localhost:8080/",
          "height": 312
        }
      },
      "source": [
        "# Mean accuracy score for different metric\n",
        "mean_train_score = np.mean(train_scores, axis=1)\n",
        "mean_val_score   = np.mean(valid_scores, axis=1)\n",
        "plt.plot(metric, mean_train_score, color=\"blue\", marker ='o', label=\"Training\")\n",
        "plt.plot(metric, mean_val_score, color=\"red\", marker ='o', label=\"Validation\")\n",
        "plt.legend(loc=\"upper left\")\n",
        "plt.xlabel(\"metrics\")\n",
        "plt.ylabel(\"Model Accuracy\")\n",
        "plt.title(\"Accuracy comparison of training/validation set\")"
      ],
      "execution_count": null,
      "outputs": [
        {
          "output_type": "execute_result",
          "data": {
            "text/plain": [
              "Text(0.5, 1.0, 'Accuracy comparison of training/validation set')"
            ]
          },
          "metadata": {
            "tags": []
          },
          "execution_count": 176
        },
        {
          "output_type": "display_data",
          "data": {
            "image/png": "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\n",
            "text/plain": [
              "<Figure size 432x288 with 1 Axes>"
            ]
          },
          "metadata": {
            "tags": [],
            "needs_background": "light"
          }
        }
      ]
    },
    {
      "cell_type": "code",
      "metadata": {
        "id": "uQzAk43NNKGZ"
      },
      "source": [
        "n_jobs = range(1,11)\n",
        "# do 10-fold cross-validation for each value in n_neighbors and return the accuracy scores. \n",
        "train_scores, valid_scores = validation_curve( clf_knn, x_train, y_train, param_name=\"n_jobs\", param_range=n_jobs,\n",
        "    cv=10, scoring=\"accuracy\")"
      ],
      "execution_count": null,
      "outputs": []
    },
    {
      "cell_type": "code",
      "metadata": {
        "id": "5viR-9H0OQEd",
        "outputId": "efea929a-d20c-4d55-cdc1-cee0baa2f696",
        "colab": {
          "base_uri": "https://localhost:8080/",
          "height": 313
        }
      },
      "source": [
        "# Mean accuracy score for different metric\n",
        "mean_train_score = np.mean(train_scores, axis=1)\n",
        "mean_val_score   = np.mean(valid_scores, axis=1)\n",
        "plt.plot(n_jobs, mean_train_score, color=\"blue\", marker ='o', label=\"Training\")\n",
        "plt.plot(n_jobs, mean_val_score, color=\"red\", marker ='o', label=\"Validation\")\n",
        "plt.legend(loc=\"upper left\")\n",
        "plt.xlabel(\"n_jobs\")\n",
        "plt.ylabel(\"Model Accuracy\")\n",
        "plt.title(\"Accuracy comparison of training/validation set\")"
      ],
      "execution_count": null,
      "outputs": [
        {
          "output_type": "execute_result",
          "data": {
            "text/plain": [
              "Text(0.5, 1.0, 'Accuracy comparison of training/validation set')"
            ]
          },
          "metadata": {
            "tags": []
          },
          "execution_count": 180
        },
        {
          "output_type": "display_data",
          "data": {
            "image/png": "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\n",
            "text/plain": [
              "<Figure size 432x288 with 1 Axes>"
            ]
          },
          "metadata": {
            "tags": [],
            "needs_background": "light"
          }
        }
      ]
    },
    {
      "cell_type": "code",
      "metadata": {
        "id": "7-PnnRWY--GX"
      },
      "source": [
        "n_neighbors = [3,5,10,20]\n",
        "weights = ['uniform','distance']\n",
        "metric = ['euclidean','manhattan','chebyshev','minkowski']\n",
        "leaf_size =[30,40,100]\n",
        "n_jobs = range (1,11)\n"
      ],
      "execution_count": null,
      "outputs": []
    },
    {
      "cell_type": "code",
      "metadata": {
        "id": "pPFXT479_pDu",
        "outputId": "196eb934-ee01-42a7-dd6c-6a6d3c8be644",
        "colab": {
          "base_uri": "https://localhost:8080/",
          "height": 54
        }
      },
      "source": [
        "param_grid = dict(n_neighbors=n_neighbors,weights = weights, metric= metric,leaf_size=leaf_size,n_jobs=n_jobs)\n",
        "print(param_grid)"
      ],
      "execution_count": null,
      "outputs": [
        {
          "output_type": "stream",
          "text": [
            "{'n_neighbors': [3, 5, 10, 20], 'weights': ['uniform', 'distance'], 'metric': ['euclidean', 'manhattan', 'chebyshev', 'minkowski'], 'leaf_size': [30, 40, 100], 'n_jobs': range(1, 11)}\n"
          ],
          "name": "stdout"
        }
      ]
    },
    {
      "cell_type": "code",
      "metadata": {
        "id": "fZj8n1iZ_85Q",
        "outputId": "50f867f6-8e3a-4708-b69a-3654726195ac",
        "colab": {
          "base_uri": "https://localhost:8080/",
          "height": 255
        }
      },
      "source": [
        "grid = GridSearchCV(clf_knn,param_grid,cv=10,scoring='accuracy')\n",
        "grid.fit(x_train,y_train)"
      ],
      "execution_count": null,
      "outputs": [
        {
          "output_type": "execute_result",
          "data": {
            "text/plain": [
              "GridSearchCV(cv=10, error_score=nan,\n",
              "             estimator=KNeighborsClassifier(algorithm='auto', leaf_size=30,\n",
              "                                            metric='minkowski',\n",
              "                                            metric_params=None, n_jobs=None,\n",
              "                                            n_neighbors=3, p=2,\n",
              "                                            weights='uniform'),\n",
              "             iid='deprecated', n_jobs=None,\n",
              "             param_grid={'leaf_size': [30, 40, 100],\n",
              "                         'metric': ['euclidean', 'manhattan', 'chebyshev',\n",
              "                                    'minkowski'],\n",
              "                         'n_jobs': range(1, 11), 'n_neighbors': [3, 5, 10, 20],\n",
              "                         'weights': ['uniform', 'distance']},\n",
              "             pre_dispatch='2*n_jobs', refit=True, return_train_score=False,\n",
              "             scoring='accuracy', verbose=0)"
            ]
          },
          "metadata": {
            "tags": []
          },
          "execution_count": 155
        }
      ]
    },
    {
      "cell_type": "code",
      "metadata": {
        "id": "Cgddt4hNAa5q"
      },
      "source": [
        "grid_data = pd.DataFrame(grid.cv_results_)\n",
        "max_value =  grid_data.loc[(grid_data.mean_test_score == max(grid_data.mean_test_score))  ]\n",
        "max_value.iloc[0]"
      ],
      "execution_count": null,
      "outputs": []
    },
    {
      "cell_type": "markdown",
      "metadata": {
        "id": "xg5_11rhtCHO"
      },
      "source": [
        "**Best Optimized model for KNN**"
      ]
    },
    {
      "cell_type": "code",
      "metadata": {
        "id": "-idm_dmYtJA_"
      },
      "source": [
        "clf_knn = KNeighborsClassifier(n_neighbors=3,metric='manhattan',n_jobs=10).fit(x_train,y_train)\n",
        "y_pred = clf_knn.predict(x_test)"
      ],
      "execution_count": null,
      "outputs": []
    },
    {
      "cell_type": "code",
      "metadata": {
        "id": "8N6bTHe1tnTU",
        "outputId": "46f841a6-7445-4c1b-e30b-47b17b2cce73",
        "colab": {
          "base_uri": "https://localhost:8080/"
        }
      },
      "source": [
        "print(f1_score(y_test,y_pred,average = None))"
      ],
      "execution_count": null,
      "outputs": [
        {
          "output_type": "stream",
          "text": [
            "[0.8030303  0.75925926]\n"
          ],
          "name": "stdout"
        }
      ]
    },
    {
      "cell_type": "code",
      "metadata": {
        "id": "jPevd8lVtyIj",
        "outputId": "8b122b21-867c-4328-9b33-a6ebcae1b5e4",
        "colab": {
          "base_uri": "https://localhost:8080/"
        }
      },
      "source": [
        "print(confusion_matrix(y_test,y_pred))"
      ],
      "execution_count": null,
      "outputs": [
        {
          "output_type": "stream",
          "text": [
            "[[53 23]\n",
            " [ 3 41]]\n"
          ],
          "name": "stdout"
        }
      ]
    },
    {
      "cell_type": "code",
      "metadata": {
        "id": "qtIUb38zt7oT",
        "outputId": "04f96f11-42eb-432e-9f57-31e1c66474e4",
        "colab": {
          "base_uri": "https://localhost:8080/"
        }
      },
      "source": [
        "print(accuracy_score(y_test,y_pred))"
      ],
      "execution_count": null,
      "outputs": [
        {
          "output_type": "stream",
          "text": [
            "0.7833333333333333\n"
          ],
          "name": "stdout"
        }
      ]
    },
    {
      "cell_type": "markdown",
      "metadata": {
        "id": "-_6Zxqs2rddd"
      },
      "source": [
        "**Decision Tree Model**"
      ]
    },
    {
      "cell_type": "code",
      "metadata": {
        "id": "C-6w0-62q9Sw"
      },
      "source": [
        " clf_tree = DecisionTreeClassifier(max_depth = 3).fit(x_train,y_train)\n",
        " y_pred = clf_tree.predict(x_test)"
      ],
      "execution_count": null,
      "outputs": []
    },
    {
      "cell_type": "code",
      "metadata": {
        "id": "Osgf_CwmoGMR",
        "outputId": "422ad33c-5291-4b54-f2ca-611eb18cc13d",
        "colab": {
          "base_uri": "https://localhost:8080/"
        }
      },
      "source": [
        "# depth takes values from 1 to 10\n",
        "max_depth_range = range(1, 11)\n",
        "# do 10-fold cross-validation for each value in max_depth_range and return the accuracy scores. \n",
        "train_scores, valid_scores = validation_curve( clf_tree, x_train, y_train, param_name=\"max_depth\", param_range=max_depth_range,\n",
        "    cv=10, scoring=\"accuracy\")\n",
        "#Size of train_scores will be: length of parameter (max_depth_range) X number of folds\n",
        "print(train_scores.shape)"
      ],
      "execution_count": null,
      "outputs": [
        {
          "output_type": "stream",
          "text": [
            "(10, 10)\n"
          ],
          "name": "stdout"
        }
      ]
    },
    {
      "cell_type": "code",
      "metadata": {
        "id": "DvcGapBUodk5",
        "outputId": "49a5d0d4-627b-47c0-d896-beec6193d17d",
        "colab": {
          "base_uri": "https://localhost:8080/",
          "height": 313
        }
      },
      "source": [
        "mean_train_score = np.mean(train_scores, axis=1)\n",
        "mean_val_score   = np.mean(valid_scores, axis=1)\n",
        "plt.plot(max_depth_range, mean_train_score, color=\"blue\", marker ='o', label=\"Training\")\n",
        "plt.plot(max_depth_range, mean_val_score, color=\"red\", marker ='o', label=\"Validation\")\n",
        "plt.legend(loc=\"upper left\")\n",
        "plt.xlabel(\"max_depth\")\n",
        "plt.ylabel(\"Model Accuracy\")\n",
        "plt.title(\"Accuracy comparison of training/validation set\")"
      ],
      "execution_count": null,
      "outputs": [
        {
          "output_type": "execute_result",
          "data": {
            "text/plain": [
              "Text(0.5, 1.0, 'Accuracy comparison of training/validation set')"
            ]
          },
          "metadata": {
            "tags": []
          },
          "execution_count": 100
        },
        {
          "output_type": "display_data",
          "data": {
            "image/png": "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\n",
            "text/plain": [
              "<Figure size 432x288 with 1 Axes>"
            ]
          },
          "metadata": {
            "tags": [],
            "needs_background": "light"
          }
        }
      ]
    },
    {
      "cell_type": "markdown",
      "metadata": {
        "id": "qOiCos5Pujla"
      },
      "source": [
        "**Note :**  with initializing hyper parameter max_depth to seven we get the highest score in train and validation data. overfitting is after max_depth=7"
      ]
    },
    {
      "cell_type": "code",
      "metadata": {
        "id": "9u83yafur6Zw",
        "outputId": "2100ab3c-955a-4856-bf65-bf899cc62ebc",
        "colab": {
          "base_uri": "https://localhost:8080/",
          "height": 51
        }
      },
      "source": [
        "scores = cross_val_score(clf_tree,x,y,cv=10)\n",
        "scores"
      ],
      "execution_count": null,
      "outputs": [
        {
          "output_type": "execute_result",
          "data": {
            "text/plain": [
              "array([0.975, 0.975, 0.975, 1.   , 0.95 , 0.975, 0.975, 0.975, 1.   ,\n",
              "       1.   ])"
            ]
          },
          "metadata": {
            "tags": []
          },
          "execution_count": 77
        }
      ]
    },
    {
      "cell_type": "code",
      "metadata": {
        "id": "KVH-AJEku5A8",
        "outputId": "498d69cd-c674-409e-e671-718ad50d144d",
        "colab": {
          "base_uri": "https://localhost:8080/",
          "height": 34
        }
      },
      "source": [
        "# depth takes values from 1 to 10\n",
        "ccp_alpha = [ i for i in np.arange(0.00,0.30,0.01)]\n",
        "# do 10-fold cross-validation for each value in max_depth_range and return the accuracy scores. \n",
        "train_scores, valid_scores = validation_curve( clf_tree, x_train, y_train, param_name=\"ccp_alpha\", param_range=ccp_alpha,\n",
        "    cv=10, scoring=\"accuracy\")\n",
        "#Size of train_scores will be: length of parameter (max_depth_range) X number of folds\n",
        "print(train_scores.shape)"
      ],
      "execution_count": null,
      "outputs": [
        {
          "output_type": "stream",
          "text": [
            "(30, 10)\n"
          ],
          "name": "stdout"
        }
      ]
    },
    {
      "cell_type": "code",
      "metadata": {
        "id": "2zMS9_ftv3dV",
        "outputId": "c959d93c-83cd-4e64-b3c1-cf7f22f72348",
        "colab": {
          "base_uri": "https://localhost:8080/",
          "height": 312
        }
      },
      "source": [
        "mean_train_score = np.mean(train_scores, axis=1)\n",
        "mean_val_score = np.mean(valid_scores, axis=1)\n",
        "plt.plot(ccp_alpha, mean_train_score, color=\"blue\", marker ='o', label=\"Training\")\n",
        "plt.plot(ccp_alpha, mean_val_score, color=\"red\", marker ='o', label=\"Validation\")\n",
        "plt.legend(loc=\"upper right\")\n",
        "plt.xlabel(\"metrics\")\n",
        "plt.ylabel(\"Model Accuracy\")\n",
        "plt.title(\"Accuracy comparison of training/validation set\")"
      ],
      "execution_count": null,
      "outputs": [
        {
          "output_type": "execute_result",
          "data": {
            "text/plain": [
              "Text(0.5, 1.0, 'Accuracy comparison of training/validation set')"
            ]
          },
          "metadata": {
            "tags": []
          },
          "execution_count": 220
        },
        {
          "output_type": "display_data",
          "data": {
            "image/png": "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\n",
            "text/plain": [
              "<Figure size 432x288 with 1 Axes>"
            ]
          },
          "metadata": {
            "tags": [],
            "needs_background": "light"
          }
        }
      ]
    },
    {
      "cell_type": "code",
      "metadata": {
        "id": "-gzUyPwbpc2X"
      },
      "source": [
        "path = clf_tree.cost_complexity_pruning_path(x_train,y_train)\n",
        "ccp_alphas , impurities = path.ccp_alphas, path.impurities\n",
        "clfs = []\n",
        "for ccp_alpha in ccp_alphas:\n",
        "  clf = DecisionTreeClassifier(random_state=0,ccp_alpha=ccp_alpha)\n",
        "  clf.fit(x_train,y_train)\n",
        "  clfs.append(clf)"
      ],
      "execution_count": null,
      "outputs": []
    },
    {
      "cell_type": "code",
      "metadata": {
        "id": "qSzw_iKfq4fT",
        "outputId": "2f4d41b2-402c-4abf-fb3c-1128c9c70461",
        "colab": {
          "base_uri": "https://localhost:8080/",
          "height": 265
        }
      },
      "source": [
        "train_scores = [clf.score(x_train,y_train) for clf in clfs]\n",
        "test_scores = [clf.score(x_test,y_test) for clf in clfs]\n",
        "fig ,ax = plt.subplots()\n",
        "ax.plot(ccp_alphas,train_scores,label='train')\n",
        "ax.plot(ccp_alphas,test_scores,label='test')\n",
        "ax.legend()\n",
        "plt.show()"
      ],
      "execution_count": null,
      "outputs": [
        {
          "output_type": "display_data",
          "data": {
            "image/png": "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\n",
            "text/plain": [
              "<Figure size 432x288 with 1 Axes>"
            ]
          },
          "metadata": {
            "tags": [],
            "needs_background": "light"
          }
        }
      ]
    },
    {
      "cell_type": "code",
      "metadata": {
        "id": "6ylMFKQM5ivX"
      },
      "source": [
        " clf_tree = DecisionTreeClassifier(ccp_alpha=0.01).fit(x_train,y_train)\n",
        " y_pred = clf_tree.predict(x_test)"
      ],
      "execution_count": null,
      "outputs": []
    },
    {
      "cell_type": "code",
      "metadata": {
        "id": "O8F-T3Wc5ynr",
        "outputId": "7ae66e93-69b4-414c-c256-38f3c292192c",
        "colab": {
          "base_uri": "https://localhost:8080/",
          "height": 34
        }
      },
      "source": [
        "print(accuracy_score(y_test,y_pred))"
      ],
      "execution_count": null,
      "outputs": [
        {
          "output_type": "stream",
          "text": [
            "0.9833333333333333\n"
          ],
          "name": "stdout"
        }
      ]
    },
    {
      "cell_type": "code",
      "metadata": {
        "id": "4thhWXL2wfco"
      },
      "source": [
        "ccp_alpha = [ i for i in np.arange(0.00,0.30,0.01)]\n",
        "max_depth_range = range(1,11)"
      ],
      "execution_count": null,
      "outputs": []
    },
    {
      "cell_type": "code",
      "metadata": {
        "id": "nbgglhNexHLa"
      },
      "source": [
        "param_grid = dict(max_depth = max_depth_range,ccp_alpha=ccp_alpha)"
      ],
      "execution_count": null,
      "outputs": []
    },
    {
      "cell_type": "code",
      "metadata": {
        "id": "63Knb5Q_wd-3",
        "outputId": "cd4e56c5-2895-4839-b8a3-7628b3c85b95",
        "colab": {
          "base_uri": "https://localhost:8080/"
        }
      },
      "source": [
        "rand = RandomizedSearchCV(clf_tree,param_grid,cv=10, n_iter=10,scoring='accuracy')\n",
        "rand.fit(x_train,y_train)"
      ],
      "execution_count": null,
      "outputs": [
        {
          "output_type": "execute_result",
          "data": {
            "text/plain": [
              "RandomizedSearchCV(cv=10, error_score=nan,\n",
              "                   estimator=DecisionTreeClassifier(ccp_alpha=0.0,\n",
              "                                                    class_weight=None,\n",
              "                                                    criterion='gini',\n",
              "                                                    max_depth=3,\n",
              "                                                    max_features=None,\n",
              "                                                    max_leaf_nodes=None,\n",
              "                                                    min_impurity_decrease=0.0,\n",
              "                                                    min_impurity_split=None,\n",
              "                                                    min_samples_leaf=1,\n",
              "                                                    min_samples_split=2,\n",
              "                                                    min_weight_fraction_leaf=0.0,\n",
              "                                                    presort='deprecated',\n",
              "                                                    random_state=None,\n",
              "                                                    splitter='best'),\n",
              "                   iid='deprecated', n_iter=10, n_jobs=None,\n",
              "                   param_distributions={'ccp_alpha': [0.0, 0.01, 0.02, 0.03,\n",
              "                                                      0.04, 0.05, 0.06, 0.07,\n",
              "                                                      0.08, 0.09, 0.1, 0.11,\n",
              "                                                      0.12, 0.13, 0.14, 0.15,\n",
              "                                                      0.16, 0.17, 0.18, 0.19,\n",
              "                                                      0.2, 0.21, 0.22, 0.23,\n",
              "                                                      0.24, 0.25, 0.26, 0.27,\n",
              "                                                      0.28, 0.29],\n",
              "                                        'max_depth': range(1, 11)},\n",
              "                   pre_dispatch='2*n_jobs', random_state=None, refit=True,\n",
              "                   return_train_score=False, scoring='accuracy', verbose=0)"
            ]
          },
          "metadata": {
            "tags": []
          },
          "execution_count": 104
        }
      ]
    },
    {
      "cell_type": "code",
      "metadata": {
        "id": "h2D5Hj6lyNEk",
        "outputId": "f9cddcfe-8251-48d6-e894-aafc3de9b78f",
        "colab": {
          "base_uri": "https://localhost:8080/",
          "height": 151
        }
      },
      "source": [
        "randcv_df = pd.DataFrame(rand.cv_results_)\n",
        "max_value =  randcv_df.loc[(randcv_df.mean_test_score == max(randcv_df.mean_test_score))  ]\n",
        "max_value"
      ],
      "execution_count": null,
      "outputs": [
        {
          "output_type": "execute_result",
          "data": {
            "text/html": [
              "<div>\n",
              "<style scoped>\n",
              "    .dataframe tbody tr th:only-of-type {\n",
              "        vertical-align: middle;\n",
              "    }\n",
              "\n",
              "    .dataframe tbody tr th {\n",
              "        vertical-align: top;\n",
              "    }\n",
              "\n",
              "    .dataframe thead th {\n",
              "        text-align: right;\n",
              "    }\n",
              "</style>\n",
              "<table border=\"1\" class=\"dataframe\">\n",
              "  <thead>\n",
              "    <tr style=\"text-align: right;\">\n",
              "      <th></th>\n",
              "      <th>mean_fit_time</th>\n",
              "      <th>std_fit_time</th>\n",
              "      <th>mean_score_time</th>\n",
              "      <th>std_score_time</th>\n",
              "      <th>param_max_depth</th>\n",
              "      <th>param_ccp_alpha</th>\n",
              "      <th>params</th>\n",
              "      <th>split0_test_score</th>\n",
              "      <th>split1_test_score</th>\n",
              "      <th>split2_test_score</th>\n",
              "      <th>split3_test_score</th>\n",
              "      <th>split4_test_score</th>\n",
              "      <th>split5_test_score</th>\n",
              "      <th>split6_test_score</th>\n",
              "      <th>split7_test_score</th>\n",
              "      <th>split8_test_score</th>\n",
              "      <th>split9_test_score</th>\n",
              "      <th>mean_test_score</th>\n",
              "      <th>std_test_score</th>\n",
              "      <th>rank_test_score</th>\n",
              "    </tr>\n",
              "  </thead>\n",
              "  <tbody>\n",
              "    <tr>\n",
              "      <th>6</th>\n",
              "      <td>0.00259</td>\n",
              "      <td>0.000113</td>\n",
              "      <td>0.000929</td>\n",
              "      <td>0.000031</td>\n",
              "      <td>5</td>\n",
              "      <td>0.01</td>\n",
              "      <td>{'max_depth': 5, 'ccp_alpha': 0.01}</td>\n",
              "      <td>0.964286</td>\n",
              "      <td>0.964286</td>\n",
              "      <td>0.964286</td>\n",
              "      <td>0.964286</td>\n",
              "      <td>1.0</td>\n",
              "      <td>0.928571</td>\n",
              "      <td>1.0</td>\n",
              "      <td>1.0</td>\n",
              "      <td>0.857143</td>\n",
              "      <td>0.964286</td>\n",
              "      <td>0.960714</td>\n",
              "      <td>0.040564</td>\n",
              "      <td>1</td>\n",
              "    </tr>\n",
              "  </tbody>\n",
              "</table>\n",
              "</div>"
            ],
            "text/plain": [
              "   mean_fit_time  std_fit_time  ...  std_test_score  rank_test_score\n",
              "6        0.00259      0.000113  ...        0.040564                1\n",
              "\n",
              "[1 rows x 20 columns]"
            ]
          },
          "metadata": {
            "tags": []
          },
          "execution_count": 107
        }
      ]
    },
    {
      "cell_type": "markdown",
      "metadata": {
        "id": "WkqTut39z25L"
      },
      "source": [
        "**Best Optimized Model for Decision Tree**"
      ]
    },
    {
      "cell_type": "code",
      "metadata": {
        "id": "bPeOUuBMz1Nb"
      },
      "source": [
        " clf_tree = DecisionTreeClassifier(max_depth=7).fit(x_train,y_train)\n",
        " y_pred = clf_tree.predict(x_test)"
      ],
      "execution_count": null,
      "outputs": []
    },
    {
      "cell_type": "code",
      "metadata": {
        "id": "u3W4uvPi0v9A",
        "outputId": "d47c8513-cf61-40d7-e74a-34bdda9bc21f",
        "colab": {
          "base_uri": "https://localhost:8080/"
        }
      },
      "source": [
        "print(accuracy_score(y_test,y_pred))"
      ],
      "execution_count": null,
      "outputs": [
        {
          "output_type": "stream",
          "text": [
            "0.9916666666666667\n"
          ],
          "name": "stdout"
        }
      ]
    },
    {
      "cell_type": "code",
      "metadata": {
        "id": "UgC6lIb84JJt",
        "outputId": "f2e9a463-578f-492c-a828-c7946c1091e2",
        "colab": {
          "base_uri": "https://localhost:8080/"
        }
      },
      "source": [
        "print(confusion_matrix(y_test,y_pred))"
      ],
      "execution_count": null,
      "outputs": [
        {
          "output_type": "stream",
          "text": [
            "[[76  0]\n",
            " [ 0 44]]\n"
          ],
          "name": "stdout"
        }
      ]
    },
    {
      "cell_type": "code",
      "metadata": {
        "id": "iJQUsy0k4SWj",
        "outputId": "eeece519-25f7-4fbd-a7af-1dd1b02659fa",
        "colab": {
          "base_uri": "https://localhost:8080/"
        }
      },
      "source": [
        "print(f1_score(y_test,y_pred,average=None))"
      ],
      "execution_count": null,
      "outputs": [
        {
          "output_type": "stream",
          "text": [
            "[1. 1.]\n"
          ],
          "name": "stdout"
        }
      ]
    },
    {
      "cell_type": "markdown",
      "metadata": {
        "id": "D2dFV1p4p-uC"
      },
      "source": [
        " **Random Forest Model**"
      ]
    },
    {
      "cell_type": "code",
      "metadata": {
        "id": "cbN_a0pMprxa"
      },
      "source": [
        "clf_randomForest = RandomForestClassifier(n_estimators=100).fit(x_train,y_train)\n",
        "y_pred = clf_randomForest.predict(x_test)"
      ],
      "execution_count": null,
      "outputs": []
    },
    {
      "cell_type": "code",
      "metadata": {
        "id": "ExLBY5Ofqmn1",
        "outputId": "8f90f20b-fa29-45b8-c34d-1f14f1112ce6",
        "colab": {
          "base_uri": "https://localhost:8080/",
          "height": 51
        }
      },
      "source": [
        "scores = cross_val_score(clf_randomForest,x,y,cv=10)\n",
        "scores"
      ],
      "execution_count": null,
      "outputs": [
        {
          "output_type": "execute_result",
          "data": {
            "text/plain": [
              "array([1.   , 0.975, 1.   , 1.   , 0.95 , 0.975, 0.975, 0.975, 1.   ,\n",
              "       1.   ])"
            ]
          },
          "metadata": {
            "tags": []
          },
          "execution_count": 73
        }
      ]
    },
    {
      "cell_type": "code",
      "metadata": {
        "id": "xJeTqdWsJVgA"
      },
      "source": [
        "n_estimators = [50,100,200,300]\n",
        "\n",
        "# do 10-fold cross-validation for each value in n_estimators range. \n",
        "train_scores, valid_scores = validation_curve( clf_randomForest, x_train, y_train, param_name=\"n_estimators\", param_range=n_estimators,\n",
        "    cv=10, scoring=\"accuracy\")\n"
      ],
      "execution_count": null,
      "outputs": []
    },
    {
      "cell_type": "code",
      "metadata": {
        "id": "31phDUldJzZr",
        "outputId": "732b58f2-ae1f-4eaf-f55d-5f0d094eb92c",
        "colab": {
          "base_uri": "https://localhost:8080/",
          "height": 313
        }
      },
      "source": [
        "# Mean accuracy score for each n_estimator \n",
        "mean_train_score = np.mean(train_scores, axis=1)\n",
        "mean_val_score   = np.mean(valid_scores, axis=1)\n",
        "\n",
        "plt.plot(n_estimators, mean_train_score, color=\"blue\", linewidth=1.5, label=\"Training\")\n",
        "plt.plot(n_estimators, mean_val_score, color=\"red\", linewidth=1.5, label=\"Validation\")\n",
        "plt.legend(loc=\"upper right\")\n",
        "plt.xlabel(\"n_estimators\")\n",
        "plt.ylabel(\"Model Accuracy\")\n",
        "plt.title(\"Accuracy comparison of training/validation set\")"
      ],
      "execution_count": null,
      "outputs": [
        {
          "output_type": "execute_result",
          "data": {
            "text/plain": [
              "Text(0.5, 1.0, 'Accuracy comparison of training/validation set')"
            ]
          },
          "metadata": {
            "tags": []
          },
          "execution_count": 131
        },
        {
          "output_type": "display_data",
          "data": {
            "image/png": "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\n",
            "text/plain": [
              "<Figure size 432x288 with 1 Axes>"
            ]
          },
          "metadata": {
            "tags": [],
            "needs_background": "light"
          }
        }
      ]
    },
    {
      "cell_type": "code",
      "metadata": {
        "id": "DdgRu0Me4E9L"
      },
      "source": [
        "clf_randomForest = RandomForestClassifier(n_estimators=50).fit(x_train,y_train)\n",
        "y_pred = clf_randomForest.predict(x_test)"
      ],
      "execution_count": null,
      "outputs": []
    },
    {
      "cell_type": "code",
      "metadata": {
        "id": "3iQP_-Lm4hdi",
        "outputId": "1a25c652-cc3c-4f3e-f865-e506e1ad49a4",
        "colab": {
          "base_uri": "https://localhost:8080/"
        }
      },
      "source": [
        "print(accuracy_score(y_test,y_pred))"
      ],
      "execution_count": null,
      "outputs": [
        {
          "output_type": "stream",
          "text": [
            "1.0\n"
          ],
          "name": "stdout"
        }
      ]
    },
    {
      "cell_type": "code",
      "metadata": {
        "id": "1AQsjTX-5a1f"
      },
      "source": [
        "max_depth=[3,7,10, 20, 30, 40, 50, 60, 70, 80, 90, 100]\n",
        "max_features= ['auto', 'sqrt']\n",
        "min_samples_leaf=[1, 2, 4]\n",
        "min_samples_split= [2, 5, 10]\n",
        "n_estimators=[50,100,200, 400, 600, 800, 1000, 1200, 1400, 1600, 1800, 2000]"
      ],
      "execution_count": null,
      "outputs": []
    },
    {
      "cell_type": "code",
      "metadata": {
        "id": "eOqVdwYM5vIW"
      },
      "source": [
        "param_grid = dict(max_depth = max_depth,n_estimators=n_estimators,max_features=max_features,min_samples_leaf=min_samples_leaf,min_samples_split=min_samples_split)"
      ],
      "execution_count": null,
      "outputs": []
    },
    {
      "cell_type": "code",
      "metadata": {
        "id": "JotAy5tm67pf"
      },
      "source": [
        "rand = RandomizedSearchCV(clf_randomForest,param_grid,cv=10, n_iter=10,scoring='accuracy')\n",
        "rand.fit(x_train,y_train)"
      ],
      "execution_count": null,
      "outputs": []
    },
    {
      "cell_type": "code",
      "metadata": {
        "id": "EJiyZUVH9reS",
        "outputId": "e01d75b1-2145-4b29-8bc4-d22d14e6dfa0",
        "colab": {
          "base_uri": "https://localhost:8080/"
        }
      },
      "source": [
        "randcv_df = pd.DataFrame(rand.cv_results_)\n",
        "max_value =  randcv_df.loc[(randcv_df.mean_test_score == max(randcv_df.mean_test_score))  ]\n",
        "max_value.iloc[0]"
      ],
      "execution_count": null,
      "outputs": [
        {
          "output_type": "execute_result",
          "data": {
            "text/plain": [
              "mean_fit_time                                                        1.69302\n",
              "std_fit_time                                                      0.00902268\n",
              "mean_score_time                                                    0.0919882\n",
              "std_score_time                                                    0.00242329\n",
              "param_n_estimators                                                      1400\n",
              "param_min_samples_split                                                    2\n",
              "param_min_samples_leaf                                                     4\n",
              "param_max_features                                                      sqrt\n",
              "param_max_depth                                                           90\n",
              "params                     {'n_estimators': 1400, 'min_samples_split': 2,...\n",
              "split0_test_score                                                   0.964286\n",
              "split1_test_score                                                   0.964286\n",
              "split2_test_score                                                          1\n",
              "split3_test_score                                                          1\n",
              "split4_test_score                                                          1\n",
              "split5_test_score                                                          1\n",
              "split6_test_score                                                          1\n",
              "split7_test_score                                                          1\n",
              "split8_test_score                                                   0.928571\n",
              "split9_test_score                                                   0.964286\n",
              "mean_test_score                                                     0.982143\n",
              "std_test_score                                                     0.0239579\n",
              "rank_test_score                                                            1\n",
              "Name: 0, dtype: object"
            ]
          },
          "metadata": {
            "tags": []
          },
          "execution_count": 151
        }
      ]
    },
    {
      "cell_type": "code",
      "metadata": {
        "id": "sSGkbNuv_Q4r"
      },
      "source": [
        "max_depth = range(1,100)\n",
        "\n",
        "# do 10-fold cross-validation for each value in n_estimators range. \n",
        "train_scores, valid_scores = validation_curve( clf_randomForest, x_train, y_train, param_name=\"max_depth\", param_range=max_depth,\n",
        "    cv=10, scoring=\"accuracy\")"
      ],
      "execution_count": null,
      "outputs": []
    },
    {
      "cell_type": "code",
      "metadata": {
        "id": "YrQ5HIQC_byP",
        "outputId": "5a384dd9-7bce-4ec5-d171-b78655ee25c6",
        "colab": {
          "base_uri": "https://localhost:8080/",
          "height": 313
        }
      },
      "source": [
        "# Mean accuracy score for each n_estimator \n",
        "mean_train_score = np.mean(train_scores, axis=1)\n",
        "mean_val_score   = np.mean(valid_scores, axis=1)\n",
        "plt.plot(max_depth, mean_train_score, color=\"blue\", linewidth=1.5, label=\"Training\")\n",
        "plt.plot(max_depth, mean_val_score, color=\"red\", linewidth=1.5, label=\"Validation\")\n",
        "plt.legend(loc=\"upper right\")\n",
        "plt.xlabel(\"max_depth\")\n",
        "plt.ylabel(\"Model Accuracy\")\n",
        "plt.title(\"Accuracy comparison of training/validation set\")"
      ],
      "execution_count": null,
      "outputs": [
        {
          "output_type": "execute_result",
          "data": {
            "text/plain": [
              "Text(0.5, 1.0, 'Accuracy comparison of training/validation set')"
            ]
          },
          "metadata": {
            "tags": []
          },
          "execution_count": 154
        },
        {
          "output_type": "display_data",
          "data": {
            "image/png": "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\n",
            "text/plain": [
              "<Figure size 432x288 with 1 Axes>"
            ]
          },
          "metadata": {
            "tags": [],
            "needs_background": "light"
          }
        }
      ]
    },
    {
      "cell_type": "code",
      "metadata": {
        "id": "-UVkg2eZAtrl"
      },
      "source": [
        "clf_randomForest = RandomForestClassifier(n_estimators=50,max_depth=40).fit(x_train,y_train)\n",
        "y_pred = clf_randomForest.predict(x_test)"
      ],
      "execution_count": null,
      "outputs": []
    },
    {
      "cell_type": "code",
      "metadata": {
        "id": "m7X8wk25BYwQ",
        "outputId": "ef2b4774-242c-4657-aea2-57d36b2941dd",
        "colab": {
          "base_uri": "https://localhost:8080/"
        }
      },
      "source": [
        "print(confusion_matrix(y_test,y_pred))\n",
        "print(accuracy_score(y_test,y_pred))\n",
        "print(f1_score(y_test,y_pred,average=None))"
      ],
      "execution_count": null,
      "outputs": [
        {
          "output_type": "stream",
          "text": [
            "[[75  1]\n",
            " [ 0 44]]\n",
            "0.9916666666666667\n",
            "[0.99337748 0.98876404]\n"
          ],
          "name": "stdout"
        }
      ]
    }
  ]
}
